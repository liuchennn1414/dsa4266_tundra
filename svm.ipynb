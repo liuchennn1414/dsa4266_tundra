{
 "cells": [
  {
   "cell_type": "code",
   "execution_count": 4,
   "metadata": {},
   "outputs": [],
   "source": [
    "import pandas as pd\n",
    "from sklearn import svm\n",
    "from sklearn.metrics import accuracy_score, classification_report"
   ]
  },
  {
   "cell_type": "code",
   "execution_count": 37,
   "metadata": {},
   "outputs": [],
   "source": [
    "test_true_ratio = pd.read_csv('data/without_balance_test.csv')\n",
    "test_balanced_ratio = pd.read_csv('data/test_data_new.csv')"
   ]
  },
  {
   "cell_type": "code",
   "execution_count": null,
   "metadata": {},
   "outputs": [],
   "source": [
    "train = pd.read_csv('data/train_data_new.csv')"
   ]
  },
  {
   "cell_type": "markdown",
   "metadata": {},
   "source": [
    "## Note: only 10000 is taken from train\n",
    "This is to reduce the training time\n",
    "\n",
    "10000 takes less than 1 min\n",
    "\n",
    "100000 takes ~ 10 min\n",
    "\n",
    "1000000 takes ~ 10 hours\n",
    "\n",
    "runned using 12100F"
   ]
  },
  {
   "cell_type": "code",
   "execution_count": 8,
   "metadata": {},
   "outputs": [],
   "source": [
    "train = train.sample(n=10000)"
   ]
  },
  {
   "cell_type": "code",
   "execution_count": 10,
   "metadata": {},
   "outputs": [],
   "source": [
    "x_train = train.drop(['label'], axis=1)\n",
    "y_train = train['label']"
   ]
  },
  {
   "cell_type": "code",
   "execution_count": 11,
   "metadata": {},
   "outputs": [
    {
     "data": {
      "text/html": [
       "<div>\n",
       "<style scoped>\n",
       "    .dataframe tbody tr th:only-of-type {\n",
       "        vertical-align: middle;\n",
       "    }\n",
       "\n",
       "    .dataframe tbody tr th {\n",
       "        vertical-align: top;\n",
       "    }\n",
       "\n",
       "    .dataframe thead th {\n",
       "        text-align: right;\n",
       "    }\n",
       "</style>\n",
       "<table border=\"1\" class=\"dataframe\">\n",
       "  <thead>\n",
       "    <tr style=\"text-align: right;\">\n",
       "      <th></th>\n",
       "      <th>transcript_position</th>\n",
       "      <th>-1_flank_length</th>\n",
       "      <th>-1_flank_std</th>\n",
       "      <th>-1_flank_mean</th>\n",
       "      <th>central_length</th>\n",
       "      <th>central_std</th>\n",
       "      <th>central_mean</th>\n",
       "      <th>+1_flank_length</th>\n",
       "      <th>+1_flank_std</th>\n",
       "      <th>+1_flank_mean</th>\n",
       "    </tr>\n",
       "  </thead>\n",
       "  <tbody>\n",
       "    <tr>\n",
       "      <th>864761</th>\n",
       "      <td>0.004966</td>\n",
       "      <td>0.049096</td>\n",
       "      <td>0.024021</td>\n",
       "      <td>0.536341</td>\n",
       "      <td>0.124248</td>\n",
       "      <td>0.017703</td>\n",
       "      <td>0.689826</td>\n",
       "      <td>0.052398</td>\n",
       "      <td>0.036081</td>\n",
       "      <td>0.310976</td>\n",
       "    </tr>\n",
       "    <tr>\n",
       "      <th>641170</th>\n",
       "      <td>0.146954</td>\n",
       "      <td>0.039294</td>\n",
       "      <td>0.045050</td>\n",
       "      <td>0.586466</td>\n",
       "      <td>0.029192</td>\n",
       "      <td>0.053196</td>\n",
       "      <td>0.553350</td>\n",
       "      <td>0.013124</td>\n",
       "      <td>0.021614</td>\n",
       "      <td>0.319512</td>\n",
       "    </tr>\n",
       "    <tr>\n",
       "      <th>643491</th>\n",
       "      <td>0.009078</td>\n",
       "      <td>0.119486</td>\n",
       "      <td>0.012268</td>\n",
       "      <td>0.586466</td>\n",
       "      <td>0.041367</td>\n",
       "      <td>0.042902</td>\n",
       "      <td>0.602978</td>\n",
       "      <td>0.025163</td>\n",
       "      <td>0.034721</td>\n",
       "      <td>0.391463</td>\n",
       "    </tr>\n",
       "    <tr>\n",
       "      <th>636489</th>\n",
       "      <td>0.109735</td>\n",
       "      <td>0.025266</td>\n",
       "      <td>0.013773</td>\n",
       "      <td>0.147870</td>\n",
       "      <td>0.068505</td>\n",
       "      <td>0.011731</td>\n",
       "      <td>0.270471</td>\n",
       "      <td>0.055654</td>\n",
       "      <td>0.011280</td>\n",
       "      <td>0.363415</td>\n",
       "    </tr>\n",
       "    <tr>\n",
       "      <th>313873</th>\n",
       "      <td>0.022588</td>\n",
       "      <td>0.018760</td>\n",
       "      <td>0.012802</td>\n",
       "      <td>0.536341</td>\n",
       "      <td>0.085375</td>\n",
       "      <td>0.019888</td>\n",
       "      <td>0.590571</td>\n",
       "      <td>0.031676</td>\n",
       "      <td>0.017208</td>\n",
       "      <td>0.260976</td>\n",
       "    </tr>\n",
       "  </tbody>\n",
       "</table>\n",
       "</div>"
      ],
      "text/plain": [
       "        transcript_position  -1_flank_length  -1_flank_std  -1_flank_mean  \\\n",
       "864761             0.004966         0.049096      0.024021       0.536341   \n",
       "641170             0.146954         0.039294      0.045050       0.586466   \n",
       "643491             0.009078         0.119486      0.012268       0.586466   \n",
       "636489             0.109735         0.025266      0.013773       0.147870   \n",
       "313873             0.022588         0.018760      0.012802       0.536341   \n",
       "\n",
       "        central_length  central_std  central_mean  +1_flank_length  \\\n",
       "864761        0.124248     0.017703      0.689826         0.052398   \n",
       "641170        0.029192     0.053196      0.553350         0.013124   \n",
       "643491        0.041367     0.042902      0.602978         0.025163   \n",
       "636489        0.068505     0.011731      0.270471         0.055654   \n",
       "313873        0.085375     0.019888      0.590571         0.031676   \n",
       "\n",
       "        +1_flank_std  +1_flank_mean  \n",
       "864761      0.036081       0.310976  \n",
       "641170      0.021614       0.319512  \n",
       "643491      0.034721       0.391463  \n",
       "636489      0.011280       0.363415  \n",
       "313873      0.017208       0.260976  "
      ]
     },
     "execution_count": 11,
     "metadata": {},
     "output_type": "execute_result"
    }
   ],
   "source": [
    "x_train.head()"
   ]
  },
  {
   "cell_type": "code",
   "execution_count": 12,
   "metadata": {},
   "outputs": [
    {
     "data": {
      "text/plain": [
       "864761    0.0\n",
       "641170    1.0\n",
       "643491    1.0\n",
       "636489    0.0\n",
       "313873    1.0\n",
       "Name: label, dtype: float64"
      ]
     },
     "execution_count": 12,
     "metadata": {},
     "output_type": "execute_result"
    }
   ],
   "source": [
    "y_train.head()"
   ]
  },
  {
   "cell_type": "code",
   "execution_count": 13,
   "metadata": {},
   "outputs": [],
   "source": [
    "clf = svm.SVC()"
   ]
  },
  {
   "cell_type": "code",
   "execution_count": 14,
   "metadata": {},
   "outputs": [
    {
     "data": {
      "text/html": [
       "<style>#sk-container-id-1 {color: black;}#sk-container-id-1 pre{padding: 0;}#sk-container-id-1 div.sk-toggleable {background-color: white;}#sk-container-id-1 label.sk-toggleable__label {cursor: pointer;display: block;width: 100%;margin-bottom: 0;padding: 0.3em;box-sizing: border-box;text-align: center;}#sk-container-id-1 label.sk-toggleable__label-arrow:before {content: \"▸\";float: left;margin-right: 0.25em;color: #696969;}#sk-container-id-1 label.sk-toggleable__label-arrow:hover:before {color: black;}#sk-container-id-1 div.sk-estimator:hover label.sk-toggleable__label-arrow:before {color: black;}#sk-container-id-1 div.sk-toggleable__content {max-height: 0;max-width: 0;overflow: hidden;text-align: left;background-color: #f0f8ff;}#sk-container-id-1 div.sk-toggleable__content pre {margin: 0.2em;color: black;border-radius: 0.25em;background-color: #f0f8ff;}#sk-container-id-1 input.sk-toggleable__control:checked~div.sk-toggleable__content {max-height: 200px;max-width: 100%;overflow: auto;}#sk-container-id-1 input.sk-toggleable__control:checked~label.sk-toggleable__label-arrow:before {content: \"▾\";}#sk-container-id-1 div.sk-estimator input.sk-toggleable__control:checked~label.sk-toggleable__label {background-color: #d4ebff;}#sk-container-id-1 div.sk-label input.sk-toggleable__control:checked~label.sk-toggleable__label {background-color: #d4ebff;}#sk-container-id-1 input.sk-hidden--visually {border: 0;clip: rect(1px 1px 1px 1px);clip: rect(1px, 1px, 1px, 1px);height: 1px;margin: -1px;overflow: hidden;padding: 0;position: absolute;width: 1px;}#sk-container-id-1 div.sk-estimator {font-family: monospace;background-color: #f0f8ff;border: 1px dotted black;border-radius: 0.25em;box-sizing: border-box;margin-bottom: 0.5em;}#sk-container-id-1 div.sk-estimator:hover {background-color: #d4ebff;}#sk-container-id-1 div.sk-parallel-item::after {content: \"\";width: 100%;border-bottom: 1px solid gray;flex-grow: 1;}#sk-container-id-1 div.sk-label:hover label.sk-toggleable__label {background-color: #d4ebff;}#sk-container-id-1 div.sk-serial::before {content: \"\";position: absolute;border-left: 1px solid gray;box-sizing: border-box;top: 0;bottom: 0;left: 50%;z-index: 0;}#sk-container-id-1 div.sk-serial {display: flex;flex-direction: column;align-items: center;background-color: white;padding-right: 0.2em;padding-left: 0.2em;position: relative;}#sk-container-id-1 div.sk-item {position: relative;z-index: 1;}#sk-container-id-1 div.sk-parallel {display: flex;align-items: stretch;justify-content: center;background-color: white;position: relative;}#sk-container-id-1 div.sk-item::before, #sk-container-id-1 div.sk-parallel-item::before {content: \"\";position: absolute;border-left: 1px solid gray;box-sizing: border-box;top: 0;bottom: 0;left: 50%;z-index: -1;}#sk-container-id-1 div.sk-parallel-item {display: flex;flex-direction: column;z-index: 1;position: relative;background-color: white;}#sk-container-id-1 div.sk-parallel-item:first-child::after {align-self: flex-end;width: 50%;}#sk-container-id-1 div.sk-parallel-item:last-child::after {align-self: flex-start;width: 50%;}#sk-container-id-1 div.sk-parallel-item:only-child::after {width: 0;}#sk-container-id-1 div.sk-dashed-wrapped {border: 1px dashed gray;margin: 0 0.4em 0.5em 0.4em;box-sizing: border-box;padding-bottom: 0.4em;background-color: white;}#sk-container-id-1 div.sk-label label {font-family: monospace;font-weight: bold;display: inline-block;line-height: 1.2em;}#sk-container-id-1 div.sk-label-container {text-align: center;}#sk-container-id-1 div.sk-container {/* jupyter's `normalize.less` sets `[hidden] { display: none; }` but bootstrap.min.css set `[hidden] { display: none !important; }` so we also need the `!important` here to be able to override the default hidden behavior on the sphinx rendered scikit-learn.org. See: https://github.com/scikit-learn/scikit-learn/issues/21755 */display: inline-block !important;position: relative;}#sk-container-id-1 div.sk-text-repr-fallback {display: none;}</style><div id=\"sk-container-id-1\" class=\"sk-top-container\"><div class=\"sk-text-repr-fallback\"><pre>SVC()</pre><b>In a Jupyter environment, please rerun this cell to show the HTML representation or trust the notebook. <br />On GitHub, the HTML representation is unable to render, please try loading this page with nbviewer.org.</b></div><div class=\"sk-container\" hidden><div class=\"sk-item\"><div class=\"sk-estimator sk-toggleable\"><input class=\"sk-toggleable__control sk-hidden--visually\" id=\"sk-estimator-id-1\" type=\"checkbox\" checked><label for=\"sk-estimator-id-1\" class=\"sk-toggleable__label sk-toggleable__label-arrow\">SVC</label><div class=\"sk-toggleable__content\"><pre>SVC()</pre></div></div></div></div></div>"
      ],
      "text/plain": [
       "SVC()"
      ]
     },
     "execution_count": 14,
     "metadata": {},
     "output_type": "execute_result"
    }
   ],
   "source": [
    "clf.fit(x_train, y_train)"
   ]
  },
  {
   "cell_type": "code",
   "execution_count": 15,
   "metadata": {},
   "outputs": [
    {
     "data": {
      "text/plain": [
       "['svm_model_with_position_10000.pkl']"
      ]
     },
     "execution_count": 15,
     "metadata": {},
     "output_type": "execute_result"
    }
   ],
   "source": [
    "import joblib\n",
    "\n",
    "# Save the trained SVM model to a file\n",
    "model_filename = 'svm_model_with_position_10000.pkl'\n",
    "joblib.dump(clf, model_filename)\n",
    "\n",
    "# # Later, to load the saved model\n",
    "# loaded_model = joblib.load(model_filename)\n",
    "\n",
    "# # You can now use `loaded_model` for predictions or other purposes"
   ]
  },
  {
   "cell_type": "markdown",
   "metadata": {},
   "source": [
    "## classification report using balanced test dataset"
   ]
  },
  {
   "cell_type": "code",
   "execution_count": 38,
   "metadata": {},
   "outputs": [],
   "source": [
    "x_test = test_balanced_ratio.drop([\"label\"], axis=1)\n",
    "y_test = test_balanced_ratio[\"label\"]"
   ]
  },
  {
   "cell_type": "code",
   "execution_count": 39,
   "metadata": {},
   "outputs": [],
   "source": [
    "y_pred = clf.predict(x_test)"
   ]
  },
  {
   "cell_type": "code",
   "execution_count": 40,
   "metadata": {},
   "outputs": [
    {
     "name": "stdout",
     "output_type": "stream",
     "text": [
      "Accuracy: 0.69\n"
     ]
    }
   ],
   "source": [
    "# Calculate accuracy\n",
    "accuracy = accuracy_score(y_test, y_pred)\n",
    "print(f'Accuracy: {accuracy:.2f}')"
   ]
  },
  {
   "cell_type": "code",
   "execution_count": 41,
   "metadata": {},
   "outputs": [
    {
     "name": "stdout",
     "output_type": "stream",
     "text": [
      "Classification Report:\n",
      "               precision    recall  f1-score   support\n",
      "\n",
      "         0.0       0.72      0.63      0.67     25000\n",
      "         1.0       0.67      0.75      0.71     24958\n",
      "\n",
      "    accuracy                           0.69     49958\n",
      "   macro avg       0.69      0.69      0.69     49958\n",
      "weighted avg       0.69      0.69      0.69     49958\n",
      "\n"
     ]
    }
   ],
   "source": [
    "# Display a classification report\n",
    "class_report = classification_report(y_test, y_pred)\n",
    "print('Classification Report:\\n', class_report)"
   ]
  },
  {
   "cell_type": "markdown",
   "metadata": {},
   "source": [
    "## classification report using true test dataset"
   ]
  },
  {
   "cell_type": "code",
   "execution_count": 33,
   "metadata": {},
   "outputs": [],
   "source": [
    "x_test = test_true_ratio.drop([\"label\"], axis=1)\n",
    "y_test = test_true_ratio[\"label\"]"
   ]
  },
  {
   "cell_type": "code",
   "execution_count": 34,
   "metadata": {},
   "outputs": [],
   "source": [
    "y_pred = clf.predict(x_test)"
   ]
  },
  {
   "cell_type": "code",
   "execution_count": 35,
   "metadata": {},
   "outputs": [
    {
     "name": "stdout",
     "output_type": "stream",
     "text": [
      "Accuracy: 0.63\n"
     ]
    }
   ],
   "source": [
    "# Calculate accuracy\n",
    "accuracy = accuracy_score(y_test, y_pred)\n",
    "print(f'Accuracy: {accuracy:.2f}')"
   ]
  },
  {
   "cell_type": "code",
   "execution_count": 36,
   "metadata": {},
   "outputs": [
    {
     "name": "stdout",
     "output_type": "stream",
     "text": [
      "Classification Report:\n",
      "               precision    recall  f1-score   support\n",
      "\n",
      "         0.0       0.98      0.62      0.76     47719\n",
      "         1.0       0.09      0.77      0.16      2281\n",
      "\n",
      "    accuracy                           0.63     50000\n",
      "   macro avg       0.54      0.70      0.46     50000\n",
      "weighted avg       0.94      0.63      0.74     50000\n",
      "\n"
     ]
    }
   ],
   "source": [
    "# Display a classification report\n",
    "class_report = classification_report(y_test, y_pred)\n",
    "print('Classification Report:\\n', class_report)"
   ]
  }
 ],
 "metadata": {
  "kernelspec": {
   "display_name": "DSA4266",
   "language": "python",
   "name": "python3"
  },
  "language_info": {
   "codemirror_mode": {
    "name": "ipython",
    "version": 3
   },
   "file_extension": ".py",
   "mimetype": "text/x-python",
   "name": "python",
   "nbconvert_exporter": "python",
   "pygments_lexer": "ipython3",
   "version": "3.10.13"
  }
 },
 "nbformat": 4,
 "nbformat_minor": 2
}
