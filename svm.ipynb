{
 "cells": [
  {
   "cell_type": "code",
   "execution_count": 2,
   "metadata": {},
   "outputs": [],
   "source": [
    "import pandas as pd"
   ]
  },
  {
   "cell_type": "code",
   "execution_count": 3,
   "metadata": {},
   "outputs": [],
   "source": [
    "test = pd.read_csv('data/test_data_new.csv')\n",
    "train = pd.read_csv('data/train_data_new.csv')"
   ]
  },
  {
   "cell_type": "code",
   "execution_count": 4,
   "metadata": {},
   "outputs": [
    {
     "data": {
      "text/plain": [
       "974653"
      ]
     },
     "execution_count": 4,
     "metadata": {},
     "output_type": "execute_result"
    }
   ],
   "source": [
    "len(train)"
   ]
  },
  {
   "cell_type": "code",
   "execution_count": 5,
   "metadata": {},
   "outputs": [
    {
     "data": {
      "text/plain": [
       "51298"
      ]
     },
     "execution_count": 5,
     "metadata": {},
     "output_type": "execute_result"
    }
   ],
   "source": [
    "len(test)"
   ]
  },
  {
   "cell_type": "code",
   "execution_count": 6,
   "metadata": {},
   "outputs": [
    {
     "data": {
      "text/html": [
       "<div>\n",
       "<style scoped>\n",
       "    .dataframe tbody tr th:only-of-type {\n",
       "        vertical-align: middle;\n",
       "    }\n",
       "\n",
       "    .dataframe tbody tr th {\n",
       "        vertical-align: top;\n",
       "    }\n",
       "\n",
       "    .dataframe thead th {\n",
       "        text-align: right;\n",
       "    }\n",
       "</style>\n",
       "<table border=\"1\" class=\"dataframe\">\n",
       "  <thead>\n",
       "    <tr style=\"text-align: right;\">\n",
       "      <th></th>\n",
       "      <th>transcript_id</th>\n",
       "      <th>transcript_position</th>\n",
       "      <th>sequence</th>\n",
       "      <th>-1_flank_length</th>\n",
       "      <th>-1_flank_std</th>\n",
       "      <th>-1_flank_mean</th>\n",
       "      <th>central_length</th>\n",
       "      <th>central_std</th>\n",
       "      <th>central_mean</th>\n",
       "      <th>+1_flank_length</th>\n",
       "      <th>+1_flank_std</th>\n",
       "      <th>+1_flank_mean</th>\n",
       "      <th>gene_id</th>\n",
       "      <th>label</th>\n",
       "    </tr>\n",
       "  </thead>\n",
       "  <tbody>\n",
       "    <tr>\n",
       "      <th>0</th>\n",
       "      <td>ENST00000619601</td>\n",
       "      <td>727</td>\n",
       "      <td>CTGACTT</td>\n",
       "      <td>0.00578</td>\n",
       "      <td>2.84</td>\n",
       "      <td>110.0</td>\n",
       "      <td>0.01390</td>\n",
       "      <td>8.03</td>\n",
       "      <td>115.0</td>\n",
       "      <td>0.02130</td>\n",
       "      <td>2.81</td>\n",
       "      <td>85.3</td>\n",
       "      <td>ENSG00000111640</td>\n",
       "      <td>0</td>\n",
       "    </tr>\n",
       "    <tr>\n",
       "      <th>1</th>\n",
       "      <td>ENST00000488946</td>\n",
       "      <td>2121</td>\n",
       "      <td>TGGACTT</td>\n",
       "      <td>0.00398</td>\n",
       "      <td>2.15</td>\n",
       "      <td>121.0</td>\n",
       "      <td>0.00605</td>\n",
       "      <td>2.35</td>\n",
       "      <td>124.0</td>\n",
       "      <td>0.00963</td>\n",
       "      <td>6.12</td>\n",
       "      <td>86.0</td>\n",
       "      <td>ENSG00000142541</td>\n",
       "      <td>1</td>\n",
       "    </tr>\n",
       "    <tr>\n",
       "      <th>2</th>\n",
       "      <td>ENST00000512062</td>\n",
       "      <td>278</td>\n",
       "      <td>GGAACTG</td>\n",
       "      <td>0.01060</td>\n",
       "      <td>5.47</td>\n",
       "      <td>127.0</td>\n",
       "      <td>0.00834</td>\n",
       "      <td>2.80</td>\n",
       "      <td>101.0</td>\n",
       "      <td>0.00266</td>\n",
       "      <td>1.17</td>\n",
       "      <td>95.2</td>\n",
       "      <td>ENSG00000103018</td>\n",
       "      <td>1</td>\n",
       "    </tr>\n",
       "    <tr>\n",
       "      <th>3</th>\n",
       "      <td>ENST00000262482</td>\n",
       "      <td>538</td>\n",
       "      <td>GGGACCT</td>\n",
       "      <td>0.00432</td>\n",
       "      <td>5.62</td>\n",
       "      <td>109.0</td>\n",
       "      <td>0.00332</td>\n",
       "      <td>1.15</td>\n",
       "      <td>118.0</td>\n",
       "      <td>0.00454</td>\n",
       "      <td>2.71</td>\n",
       "      <td>78.9</td>\n",
       "      <td>ENSG00000108523</td>\n",
       "      <td>0</td>\n",
       "    </tr>\n",
       "    <tr>\n",
       "      <th>4</th>\n",
       "      <td>ENST00000526457</td>\n",
       "      <td>9233</td>\n",
       "      <td>CTGACCC</td>\n",
       "      <td>0.00996</td>\n",
       "      <td>3.48</td>\n",
       "      <td>107.0</td>\n",
       "      <td>0.00797</td>\n",
       "      <td>6.59</td>\n",
       "      <td>122.0</td>\n",
       "      <td>0.00559</td>\n",
       "      <td>3.49</td>\n",
       "      <td>79.8</td>\n",
       "      <td>ENSG00000154237</td>\n",
       "      <td>0</td>\n",
       "    </tr>\n",
       "  </tbody>\n",
       "</table>\n",
       "</div>"
      ],
      "text/plain": [
       "     transcript_id  transcript_position sequence  -1_flank_length  \\\n",
       "0  ENST00000619601                  727  CTGACTT          0.00578   \n",
       "1  ENST00000488946                 2121  TGGACTT          0.00398   \n",
       "2  ENST00000512062                  278  GGAACTG          0.01060   \n",
       "3  ENST00000262482                  538  GGGACCT          0.00432   \n",
       "4  ENST00000526457                 9233  CTGACCC          0.00996   \n",
       "\n",
       "   -1_flank_std  -1_flank_mean  central_length  central_std  central_mean  \\\n",
       "0          2.84          110.0         0.01390         8.03         115.0   \n",
       "1          2.15          121.0         0.00605         2.35         124.0   \n",
       "2          5.47          127.0         0.00834         2.80         101.0   \n",
       "3          5.62          109.0         0.00332         1.15         118.0   \n",
       "4          3.48          107.0         0.00797         6.59         122.0   \n",
       "\n",
       "   +1_flank_length  +1_flank_std  +1_flank_mean          gene_id  label  \n",
       "0          0.02130          2.81           85.3  ENSG00000111640      0  \n",
       "1          0.00963          6.12           86.0  ENSG00000142541      1  \n",
       "2          0.00266          1.17           95.2  ENSG00000103018      1  \n",
       "3          0.00454          2.71           78.9  ENSG00000108523      0  \n",
       "4          0.00559          3.49           79.8  ENSG00000154237      0  "
      ]
     },
     "execution_count": 6,
     "metadata": {},
     "output_type": "execute_result"
    }
   ],
   "source": [
    "train.head()"
   ]
  },
  {
   "cell_type": "code",
   "execution_count": 8,
   "metadata": {},
   "outputs": [],
   "source": [
    "new_train = train.drop([\"transcript_id\", \"transcript_position\", \"sequence\", \"gene_id\"], axis=1)"
   ]
  },
  {
   "cell_type": "code",
   "execution_count": 9,
   "metadata": {},
   "outputs": [
    {
     "data": {
      "text/html": [
       "<div>\n",
       "<style scoped>\n",
       "    .dataframe tbody tr th:only-of-type {\n",
       "        vertical-align: middle;\n",
       "    }\n",
       "\n",
       "    .dataframe tbody tr th {\n",
       "        vertical-align: top;\n",
       "    }\n",
       "\n",
       "    .dataframe thead th {\n",
       "        text-align: right;\n",
       "    }\n",
       "</style>\n",
       "<table border=\"1\" class=\"dataframe\">\n",
       "  <thead>\n",
       "    <tr style=\"text-align: right;\">\n",
       "      <th></th>\n",
       "      <th>-1_flank_length</th>\n",
       "      <th>-1_flank_std</th>\n",
       "      <th>-1_flank_mean</th>\n",
       "      <th>central_length</th>\n",
       "      <th>central_std</th>\n",
       "      <th>central_mean</th>\n",
       "      <th>+1_flank_length</th>\n",
       "      <th>+1_flank_std</th>\n",
       "      <th>+1_flank_mean</th>\n",
       "      <th>label</th>\n",
       "    </tr>\n",
       "  </thead>\n",
       "  <tbody>\n",
       "    <tr>\n",
       "      <th>0</th>\n",
       "      <td>0.00578</td>\n",
       "      <td>2.84</td>\n",
       "      <td>110.0</td>\n",
       "      <td>0.01390</td>\n",
       "      <td>8.03</td>\n",
       "      <td>115.0</td>\n",
       "      <td>0.02130</td>\n",
       "      <td>2.81</td>\n",
       "      <td>85.3</td>\n",
       "      <td>0</td>\n",
       "    </tr>\n",
       "    <tr>\n",
       "      <th>1</th>\n",
       "      <td>0.00398</td>\n",
       "      <td>2.15</td>\n",
       "      <td>121.0</td>\n",
       "      <td>0.00605</td>\n",
       "      <td>2.35</td>\n",
       "      <td>124.0</td>\n",
       "      <td>0.00963</td>\n",
       "      <td>6.12</td>\n",
       "      <td>86.0</td>\n",
       "      <td>1</td>\n",
       "    </tr>\n",
       "    <tr>\n",
       "      <th>2</th>\n",
       "      <td>0.01060</td>\n",
       "      <td>5.47</td>\n",
       "      <td>127.0</td>\n",
       "      <td>0.00834</td>\n",
       "      <td>2.80</td>\n",
       "      <td>101.0</td>\n",
       "      <td>0.00266</td>\n",
       "      <td>1.17</td>\n",
       "      <td>95.2</td>\n",
       "      <td>1</td>\n",
       "    </tr>\n",
       "    <tr>\n",
       "      <th>3</th>\n",
       "      <td>0.00432</td>\n",
       "      <td>5.62</td>\n",
       "      <td>109.0</td>\n",
       "      <td>0.00332</td>\n",
       "      <td>1.15</td>\n",
       "      <td>118.0</td>\n",
       "      <td>0.00454</td>\n",
       "      <td>2.71</td>\n",
       "      <td>78.9</td>\n",
       "      <td>0</td>\n",
       "    </tr>\n",
       "    <tr>\n",
       "      <th>4</th>\n",
       "      <td>0.00996</td>\n",
       "      <td>3.48</td>\n",
       "      <td>107.0</td>\n",
       "      <td>0.00797</td>\n",
       "      <td>6.59</td>\n",
       "      <td>122.0</td>\n",
       "      <td>0.00559</td>\n",
       "      <td>3.49</td>\n",
       "      <td>79.8</td>\n",
       "      <td>0</td>\n",
       "    </tr>\n",
       "  </tbody>\n",
       "</table>\n",
       "</div>"
      ],
      "text/plain": [
       "   -1_flank_length  -1_flank_std  -1_flank_mean  central_length  central_std  \\\n",
       "0          0.00578          2.84          110.0         0.01390         8.03   \n",
       "1          0.00398          2.15          121.0         0.00605         2.35   \n",
       "2          0.01060          5.47          127.0         0.00834         2.80   \n",
       "3          0.00432          5.62          109.0         0.00332         1.15   \n",
       "4          0.00996          3.48          107.0         0.00797         6.59   \n",
       "\n",
       "   central_mean  +1_flank_length  +1_flank_std  +1_flank_mean  label  \n",
       "0         115.0          0.02130          2.81           85.3      0  \n",
       "1         124.0          0.00963          6.12           86.0      1  \n",
       "2         101.0          0.00266          1.17           95.2      1  \n",
       "3         118.0          0.00454          2.71           78.9      0  \n",
       "4         122.0          0.00559          3.49           79.8      0  "
      ]
     },
     "execution_count": 9,
     "metadata": {},
     "output_type": "execute_result"
    }
   ],
   "source": [
    "new_train.head()"
   ]
  },
  {
   "cell_type": "code",
   "execution_count": 11,
   "metadata": {},
   "outputs": [],
   "source": [
    "from sklearn import svm, preprocessing"
   ]
  },
  {
   "cell_type": "code",
   "execution_count": 26,
   "metadata": {},
   "outputs": [
    {
     "name": "stdout",
     "output_type": "stream",
     "text": [
      "[[0.04263245 0.01469626 0.46721311 ... 0.01752605 0.34776119 0.        ]\n",
      " [0.02400662 0.01096405 0.61748634 ... 0.03992421 0.35820896 1.        ]\n",
      " [0.09250828 0.02892193 0.69945355 ... 0.00642847 0.49552239 1.        ]\n",
      " ...\n",
      " [0.01624586 0.01426354 0.60382514 ... 0.03058601 0.2358209  1.        ]\n",
      " [0.03311258 0.01518307 0.59016393 ... 0.02111246 0.2761194  0.        ]\n",
      " [0.07729719 0.00950362 0.07240437 ... 0.01630803 0.41791045 0.        ]]\n"
     ]
    }
   ],
   "source": [
    "scaler = preprocessing.MinMaxScaler()\n",
    "d = scaler.fit_transform(new_train)\n",
    "print(d)"
   ]
  },
  {
   "cell_type": "code",
   "execution_count": 30,
   "metadata": {},
   "outputs": [],
   "source": [
    "scaled_df = pd.DataFrame(d, columns=new_train.columns)"
   ]
  },
  {
   "cell_type": "code",
   "execution_count": 31,
   "metadata": {},
   "outputs": [
    {
     "data": {
      "text/html": [
       "<div>\n",
       "<style scoped>\n",
       "    .dataframe tbody tr th:only-of-type {\n",
       "        vertical-align: middle;\n",
       "    }\n",
       "\n",
       "    .dataframe tbody tr th {\n",
       "        vertical-align: top;\n",
       "    }\n",
       "\n",
       "    .dataframe thead th {\n",
       "        text-align: right;\n",
       "    }\n",
       "</style>\n",
       "<table border=\"1\" class=\"dataframe\">\n",
       "  <thead>\n",
       "    <tr style=\"text-align: right;\">\n",
       "      <th></th>\n",
       "      <th>-1_flank_length</th>\n",
       "      <th>-1_flank_std</th>\n",
       "      <th>-1_flank_mean</th>\n",
       "      <th>central_length</th>\n",
       "      <th>central_std</th>\n",
       "      <th>central_mean</th>\n",
       "      <th>+1_flank_length</th>\n",
       "      <th>+1_flank_std</th>\n",
       "      <th>+1_flank_mean</th>\n",
       "      <th>label</th>\n",
       "    </tr>\n",
       "  </thead>\n",
       "  <tbody>\n",
       "    <tr>\n",
       "      <th>0</th>\n",
       "      <td>0.042632</td>\n",
       "      <td>0.014696</td>\n",
       "      <td>0.467213</td>\n",
       "      <td>0.128383</td>\n",
       "      <td>0.055840</td>\n",
       "      <td>0.516129</td>\n",
       "      <td>0.255929</td>\n",
       "      <td>0.017526</td>\n",
       "      <td>0.347761</td>\n",
       "      <td>0.0</td>\n",
       "    </tr>\n",
       "    <tr>\n",
       "      <th>1</th>\n",
       "      <td>0.024007</td>\n",
       "      <td>0.010964</td>\n",
       "      <td>0.617486</td>\n",
       "      <td>0.046046</td>\n",
       "      <td>0.015203</td>\n",
       "      <td>0.648094</td>\n",
       "      <td>0.103857</td>\n",
       "      <td>0.039924</td>\n",
       "      <td>0.358209</td>\n",
       "      <td>1.0</td>\n",
       "    </tr>\n",
       "    <tr>\n",
       "      <th>2</th>\n",
       "      <td>0.092508</td>\n",
       "      <td>0.028922</td>\n",
       "      <td>0.699454</td>\n",
       "      <td>0.070065</td>\n",
       "      <td>0.018422</td>\n",
       "      <td>0.310850</td>\n",
       "      <td>0.013031</td>\n",
       "      <td>0.006428</td>\n",
       "      <td>0.495522</td>\n",
       "      <td>1.0</td>\n",
       "    </tr>\n",
       "    <tr>\n",
       "      <th>3</th>\n",
       "      <td>0.027525</td>\n",
       "      <td>0.029733</td>\n",
       "      <td>0.453552</td>\n",
       "      <td>0.017411</td>\n",
       "      <td>0.006618</td>\n",
       "      <td>0.560117</td>\n",
       "      <td>0.037529</td>\n",
       "      <td>0.016849</td>\n",
       "      <td>0.252239</td>\n",
       "      <td>0.0</td>\n",
       "    </tr>\n",
       "    <tr>\n",
       "      <th>4</th>\n",
       "      <td>0.085886</td>\n",
       "      <td>0.018158</td>\n",
       "      <td>0.426230</td>\n",
       "      <td>0.066184</td>\n",
       "      <td>0.045537</td>\n",
       "      <td>0.618768</td>\n",
       "      <td>0.051212</td>\n",
       "      <td>0.022127</td>\n",
       "      <td>0.265672</td>\n",
       "      <td>0.0</td>\n",
       "    </tr>\n",
       "  </tbody>\n",
       "</table>\n",
       "</div>"
      ],
      "text/plain": [
       "   -1_flank_length  -1_flank_std  -1_flank_mean  central_length  central_std  \\\n",
       "0         0.042632      0.014696       0.467213        0.128383     0.055840   \n",
       "1         0.024007      0.010964       0.617486        0.046046     0.015203   \n",
       "2         0.092508      0.028922       0.699454        0.070065     0.018422   \n",
       "3         0.027525      0.029733       0.453552        0.017411     0.006618   \n",
       "4         0.085886      0.018158       0.426230        0.066184     0.045537   \n",
       "\n",
       "   central_mean  +1_flank_length  +1_flank_std  +1_flank_mean  label  \n",
       "0      0.516129         0.255929      0.017526       0.347761    0.0  \n",
       "1      0.648094         0.103857      0.039924       0.358209    1.0  \n",
       "2      0.310850         0.013031      0.006428       0.495522    1.0  \n",
       "3      0.560117         0.037529      0.016849       0.252239    0.0  \n",
       "4      0.618768         0.051212      0.022127       0.265672    0.0  "
      ]
     },
     "execution_count": 31,
     "metadata": {},
     "output_type": "execute_result"
    }
   ],
   "source": [
    "scaled_df.head()"
   ]
  },
  {
   "cell_type": "code",
   "execution_count": 32,
   "metadata": {},
   "outputs": [],
   "source": [
    "x_train = scaled_df.drop([\"label\"], axis=1)\n",
    "y_train = scaled_df[\"label\"]"
   ]
  },
  {
   "cell_type": "code",
   "execution_count": 33,
   "metadata": {},
   "outputs": [],
   "source": [
    "clf = svm.SVC()"
   ]
  },
  {
   "cell_type": "code",
   "execution_count": 34,
   "metadata": {},
   "outputs": [],
   "source": [
    "clf.fit(x_train, y_train)"
   ]
  },
  {
   "cell_type": "code",
   "execution_count": null,
   "metadata": {},
   "outputs": [],
   "source": [
    "import joblib\n",
    "\n",
    "# Save the trained SVM model to a file\n",
    "model_filename = 'svm_model.pkl'\n",
    "joblib.dump(clf, model_filename)\n"
   ]
  },
  {
   "cell_type": "code",
   "execution_count": null,
   "metadata": {},
   "outputs": [],
   "source": [
    "new_test = test.drop([\"transcript_id\", \"transcript_position\", \"sequence\", \"gene_id\"], axis=1)\n",
    "scaled_test = pd.DataFrame(scaler.fit_transform(new_test), columns=new_test.columns)\n",
    "x_test = scaled_test.drop([\"label\"], axis=1)\n",
    "y_test = scaled_test[\"label\"]"
   ]
  },
  {
   "cell_type": "code",
   "execution_count": null,
   "metadata": {},
   "outputs": [],
   "source": [
    "y_pred = clf.predict(x_test)"
   ]
  },
  {
   "cell_type": "code",
   "execution_count": null,
   "metadata": {},
   "outputs": [],
   "source": [
    "from sklearn.metrics import accuracy_score, confusion_matrix, classification_report\n",
    "# Calculate accuracy\n",
    "accuracy = accuracy_score(y_test, y_pred)\n",
    "print(f'Accuracy: {accuracy:.2f}')"
   ]
  },
  {
   "cell_type": "code",
   "execution_count": null,
   "metadata": {},
   "outputs": [],
   "source": [
    "# Generate a confusion matrix\n",
    "conf_matrix = confusion_matrix(y_test, y_pred)\n",
    "print('Confusion Matrix:\\n', conf_matrix)"
   ]
  },
  {
   "cell_type": "code",
   "execution_count": null,
   "metadata": {},
   "outputs": [],
   "source": [
    "# Display a classification report\n",
    "class_report = classification_report(y_test, y_pred)\n",
    "print('Classification Report:\\n', class_report)"
   ]
  },
  {
   "cell_type": "code",
   "execution_count": null,
   "metadata": {},
   "outputs": [],
   "source": [
    "# Later, to load the saved model\n",
    "loaded_model = joblib.load(model_filename)\n",
    "\n",
    "# You can now use `loaded_model` for predictions or other purposes"
   ]
  }
 ],
 "metadata": {
  "kernelspec": {
   "display_name": "DSA4266",
   "language": "python",
   "name": "python3"
  },
  "language_info": {
   "codemirror_mode": {
    "name": "ipython",
    "version": 3
   },
   "file_extension": ".py",
   "mimetype": "text/x-python",
   "name": "python",
   "nbconvert_exporter": "python",
   "pygments_lexer": "ipython3",
   "version": "3.10.13"
  }
 },
 "nbformat": 4,
 "nbformat_minor": 2
}
