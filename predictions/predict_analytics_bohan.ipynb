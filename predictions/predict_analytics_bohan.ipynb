{
 "cells": [
  {
   "cell_type": "code",
   "execution_count": 50,
   "metadata": {},
   "outputs": [],
   "source": [
    "import pandas as pd\n",
    "import numpy as np"
   ]
  },
  {
   "cell_type": "code",
   "execution_count": 82,
   "metadata": {},
   "outputs": [],
   "source": [
    "A549_replicate5 = pd.read_csv(\"A549_directRNA_replicate5_run1.csv\")\n",
    "A549_replicate6 = pd.read_csv(\"A549_directRNA_replicate6_run1.csv\")\n",
    "Hct116_replicate3 = pd.read_csv(\"Hct116_directRNA_replicate3_run1.csv\")\n",
    "Hct116_replicate4 = pd.read_csv(\"Hct116_directRNA_replicate4_run3.csv\")\n",
    "HepG2_replicate5 = pd.read_csv(\"HepG2_directRNA_replicate5_run2.csv\")\n",
    "HepG2_replicate6 = pd.read_csv(\"HepG2_directRNA_replicate6_run1.csv\")\n",
    "K562_replicate4 = pd.read_csv(\"K562_directRNA_replicate4_run1.csv\")\n",
    "K562_replicate5 = pd.read_csv(\"K562_directRNA_replicate5_run1.csv\")\n",
    "K562_replicate6 = pd.read_csv(\"K562_directRNA_replicate6_run1.csv\")\n",
    "MCF7_replicate3 = pd.read_csv(\"MCF7_directRNA_replicate3_run1.csv\")\n",
    "MCF7_replicate4 = pd.read_csv(\"MCF7_directRNA_replicate4_run1.csv\")"
   ]
  },
  {
   "cell_type": "code",
   "execution_count": 83,
   "metadata": {},
   "outputs": [],
   "source": [
    "A549 = pd.merge(A549_replicate5, A549_replicate6, on=['transcript_id', 'transcript_position'], how='inner')\n",
    "A549['average_score'] = (A549['probability_x'] + A549['probability_y']) / 2\n",
    "A549['predict_label'] = A549['average_score'].apply(lambda x: 0 if x < 0.5 else 1)\n",
    "A549 = A549.drop(['probability_x', 'probability_y'], axis=1)"
   ]
  },
  {
   "cell_type": "code",
   "execution_count": 84,
   "metadata": {},
   "outputs": [],
   "source": [
    "Hct116 = pd.merge(Hct116_replicate3, Hct116_replicate4, on=['transcript_id', 'transcript_position'], how='inner')\n",
    "Hct116['average_score'] = (Hct116['probability_x'] + Hct116['probability_y']) / 2\n",
    "Hct116['predict_label'] = Hct116['average_score'].apply(lambda x: 0 if x < 0.5 else 1)\n",
    "Hct116 = Hct116.drop(['probability_x', 'probability_y'], axis=1)"
   ]
  },
  {
   "cell_type": "code",
   "execution_count": 85,
   "metadata": {},
   "outputs": [],
   "source": [
    "HepG2 = pd.merge(HepG2_replicate5, HepG2_replicate6, on=['transcript_id', 'transcript_position'], how='inner')\n",
    "HepG2['average_score'] = (HepG2['probability_x'] + HepG2['probability_y']) / 2\n",
    "HepG2['predict_label'] = HepG2['average_score'].apply(lambda x: 0 if x < 0.5 else 1)\n",
    "HepG2 = HepG2.drop(['probability_x', 'probability_y'], axis=1)"
   ]
  },
  {
   "cell_type": "code",
   "execution_count": 86,
   "metadata": {},
   "outputs": [],
   "source": [
    "MCF7 = pd.merge(MCF7_replicate3, MCF7_replicate3, on=['transcript_id', 'transcript_position'], how='inner')\n",
    "MCF7['average_score'] = (MCF7['probability_x'] + MCF7['probability_y']) / 2\n",
    "MCF7['predict_label'] = MCF7['average_score'].apply(lambda x: 0 if x < 0.5 else 1)\n",
    "MCF7 = MCF7.drop(['probability_x', 'probability_y'], axis=1)"
   ]
  },
  {
   "cell_type": "code",
   "execution_count": 87,
   "metadata": {},
   "outputs": [],
   "source": [
    "inner_merged_K562 = pd.merge(K562_replicate4, K562_replicate5, on=['transcript_id', 'transcript_position'], how='inner')\n",
    "K562 = pd.merge(inner_merged_K562, K562_replicate6, on=['transcript_id', 'transcript_position'], how='inner')\n",
    "K562['average_score'] = (K562['probability_x'] + K562['probability_y']+K562['probability']) / 2\n",
    "K562['predict_label'] = K562['average_score'].apply(lambda x: 0 if x < 0.5 else 1)\n",
    "K562 = K562.drop(['probability_x', 'probability_y', 'probability'], axis=1)"
   ]
  },
  {
   "cell_type": "code",
   "execution_count": 88,
   "metadata": {},
   "outputs": [],
   "source": [
    "A549_count_1 = (A549['predict_label'] == 1).sum()\n",
    "A549_percentage = ((A549_count_1)/ len(A549))* 100\n"
   ]
  },
  {
   "cell_type": "code",
   "execution_count": 89,
   "metadata": {},
   "outputs": [
    {
     "data": {
      "text/plain": [
       "13.56525087990163"
      ]
     },
     "execution_count": 89,
     "metadata": {},
     "output_type": "execute_result"
    }
   ],
   "source": [
    "Hct116_count_1 = (Hct116['predict_label'] == 1).sum()\n",
    "Hct116_percentage = ((Hct116_count_1)/ len(Hct116))* 100\n",
    "Hct116_percentage"
   ]
  },
  {
   "cell_type": "code",
   "execution_count": 90,
   "metadata": {},
   "outputs": [
    {
     "data": {
      "text/plain": [
       "14.888767438334009"
      ]
     },
     "execution_count": 90,
     "metadata": {},
     "output_type": "execute_result"
    }
   ],
   "source": [
    "HepG2_count_1 = (HepG2['predict_label'] == 1).sum()\n",
    "HepG2_percentage = ((HepG2_count_1)/ len(HepG2))* 100\n",
    "HepG2_percentage"
   ]
  },
  {
   "cell_type": "code",
   "execution_count": 91,
   "metadata": {},
   "outputs": [
    {
     "data": {
      "text/plain": [
       "10.096142715610599"
      ]
     },
     "execution_count": 91,
     "metadata": {},
     "output_type": "execute_result"
    }
   ],
   "source": [
    "MCF7_count_1 = (MCF7['predict_label'] == 1).sum()\n",
    "MCF7_percentage = ((MCF7_count_1)/ len(MCF7))* 100\n",
    "MCF7_percentage"
   ]
  },
  {
   "cell_type": "code",
   "execution_count": 92,
   "metadata": {},
   "outputs": [
    {
     "data": {
      "text/plain": [
       "21.244854662710992"
      ]
     },
     "execution_count": 92,
     "metadata": {},
     "output_type": "execute_result"
    }
   ],
   "source": [
    "K562_count_1 = (K562['predict_label'] == 1).sum()\n",
    "K562_percentage = ((K562_count_1)/ len(K562))* 100\n",
    "K562_percentage"
   ]
  },
  {
   "cell_type": "code",
   "execution_count": 93,
   "metadata": {},
   "outputs": [
    {
     "data": {
      "image/png": "[encoded data removed]",
      "text/plain": [
       "<Figure size 640x480 with 1 Axes>"
      ]
     },
     "metadata": {},
     "output_type": "display_data"
    }
   ],
   "source": [
    "import matplotlib.pyplot as plt\n",
    "\n",
    "cell_lines = ['A549', 'Hct116', 'HepG2', 'MCF7', 'K562']\n",
    "percentages = [A549_percentage, Hct116_percentage, HepG2_percentage, MCF7_percentage, K562_percentage]\n",
    "\n",
    "plt.bar(cell_lines, percentages)\n",
    "plt.xlabel('Cell Line')\n",
    "plt.ylabel('Percentage')\n",
    "plt.title('M6A Modification Percentage for Different Cell Lines')\n",
    "plt.show()\n"
   ]
  },
  {
   "cell_type": "code",
   "execution_count": 94,
   "metadata": {},
   "outputs": [],
   "source": [
    "A549 = A549.drop(['predict_label'], axis=1)\n",
    "Hct116 = Hct116.drop(['predict_label'], axis=1)\n",
    "HepG2 = HepG2.drop(['predict_label'], axis=1)\n",
    "MCF7 = MCF7.drop(['predict_label'], axis=1)\n",
    "K562 = K562.drop(['predict_label'], axis=1)\n"
   ]
  },
  {
   "cell_type": "code",
   "execution_count": 124,
   "metadata": {},
   "outputs": [],
   "source": [
    "merge1 = pd.merge(A549, Hct116, on=['transcript_id', 'transcript_position'], how='inner')\n",
    "merge1['average_score'] = (merge1['average_score_x'] + merge1['average_score_y']) / 2\n",
    "merge1 = merge1.drop(['average_score_x', 'average_score_y'], axis=1)\n",
    "merge2 = pd.merge(merge1, HepG2, on=['transcript_id', 'transcript_position'], how='inner')\n",
    "merge2['average_score'] = (merge2['average_score_x'] + merge2['average_score_y']) / 2\n",
    "merge2 = merge2.drop(['average_score_x', 'average_score_y'], axis=1)\n",
    "merge3 = pd.merge(merge2, K562, on=['transcript_id', 'transcript_position'], how='inner')\n",
    "merge3['average_score'] = (merge3['average_score_x'] + merge3['average_score_y']) / 2\n",
    "merge3 = merge3.drop(['average_score_x', 'average_score_y'], axis=1)\n",
    "merge4 = pd.merge(merge3, MCF7, on=['transcript_id', 'transcript_position'], how='inner')\n"
   ]
  },
  {
   "cell_type": "code",
   "execution_count": 125,
   "metadata": {},
   "outputs": [
    {
     "data": {
      "text/plain": [
       "(0, 4)"
      ]
     },
     "execution_count": 125,
     "metadata": {},
     "output_type": "execute_result"
    }
   ],
   "source": [
    "merge4.shape"
   ]
  },
  {
   "cell_type": "code",
   "execution_count": 20,
   "metadata": {},
   "outputs": [],
   "source": [
    "A549_replicate5['predict_label'] = A549_replicate5['probability'].apply(lambda x: 0 if x < 0.5 else 1)\n",
    "A549_replicate6['predict_label'] = A549_replicate6['probability'].apply(lambda x: 0 if x < 0.5 else 1)\n",
    "Hct116_replicate3['predict_label'] = Hct116_replicate3['probability'].apply(lambda x: 0 if x < 0.5 else 1)\n",
    "Hct116_replicate4['predict_label'] = Hct116_replicate4['probability'].apply(lambda x: 0 if x < 0.5 else 1)\n",
    "HepG2_replicate5['predict_label'] = HepG2_replicate5['probability'].apply(lambda x: 0 if x < 0.5 else 1)\n",
    "HepG2_replicate6['predict_label'] = HepG2_replicate6['probability'].apply(lambda x: 0 if x < 0.5 else 1)\n",
    "K562_replicate4['predict_label'] = K562_replicate4['probability'].apply(lambda x: 0 if x < 0.5 else 1)\n",
    "K562_replicate5['predict_label'] = K562_replicate5['probability'].apply(lambda x: 0 if x < 0.5 else 1)\n",
    "K562_replicate6['predict_label'] = K562_replicate6['probability'].apply(lambda x: 0 if x < 0.5 else 1)\n",
    "MCF7_replicate3['predict_label'] = MCF7_replicate3['probability'].apply(lambda x: 0 if x < 0.5 else 1)\n",
    "MCF7_replicate4['predict_label'] = MCF7_replicate4['probability'].apply(lambda x: 0 if x < 0.5 else 1)"
   ]
  },
  {
   "cell_type": "code",
   "execution_count": 9,
   "metadata": {},
   "outputs": [],
   "source": [
    "merged_data = pd.read_csv(\"merged_data.csv\")"
   ]
  },
  {
   "cell_type": "code",
   "execution_count": 11,
   "metadata": {},
   "outputs": [
    {
     "data": {
      "text/html": [
       "<div>\n",
       "<style scoped>\n",
       "    .dataframe tbody tr th:only-of-type {\n",
       "        vertical-align: middle;\n",
       "    }\n",
       "\n",
       "    .dataframe tbody tr th {\n",
       "        vertical-align: top;\n",
       "    }\n",
       "\n",
       "    .dataframe thead th {\n",
       "        text-align: right;\n",
       "    }\n",
       "</style>\n",
       "<table border=\"1\" class=\"dataframe\">\n",
       "  <thead>\n",
       "    <tr style=\"text-align: right;\">\n",
       "      <th></th>\n",
       "      <th>transcript_id</th>\n",
       "      <th>transcript_position</th>\n",
       "      <th>sequence</th>\n",
       "      <th>avg_1-flank_length</th>\n",
       "      <th>avg_1-flank_std</th>\n",
       "      <th>avg_1-flank_mean</th>\n",
       "      <th>avg_central_length</th>\n",
       "      <th>avg_central_std</th>\n",
       "      <th>avg_central_mean</th>\n",
       "      <th>avg_1+flank_length</th>\n",
       "      <th>...</th>\n",
       "      <th>std_1-flank_std</th>\n",
       "      <th>std_1-flank_mean</th>\n",
       "      <th>std_central_length</th>\n",
       "      <th>std_central_std</th>\n",
       "      <th>std_central_mean</th>\n",
       "      <th>std_1+flank_length</th>\n",
       "      <th>std_1+flank_std</th>\n",
       "      <th>std_1+flank_mean</th>\n",
       "      <th>gene_id</th>\n",
       "      <th>label</th>\n",
       "    </tr>\n",
       "  </thead>\n",
       "  <tbody>\n",
       "    <tr>\n",
       "      <th>0</th>\n",
       "      <td>ENST00000000233</td>\n",
       "      <td>244</td>\n",
       "      <td>AAGACCA</td>\n",
       "      <td>0.008264</td>\n",
       "      <td>4.223784</td>\n",
       "      <td>123.702703</td>\n",
       "      <td>0.009373</td>\n",
       "      <td>7.382162</td>\n",
       "      <td>125.913514</td>\n",
       "      <td>0.007345</td>\n",
       "      <td>...</td>\n",
       "      <td>1.843025</td>\n",
       "      <td>4.944365</td>\n",
       "      <td>0.005364</td>\n",
       "      <td>3.302671</td>\n",
       "      <td>2.765244</td>\n",
       "      <td>0.004566</td>\n",
       "      <td>2.906225</td>\n",
       "      <td>2.522168</td>\n",
       "      <td>ENSG00000004059</td>\n",
       "      <td>0</td>\n",
       "    </tr>\n",
       "    <tr>\n",
       "      <th>1</th>\n",
       "      <td>ENST00000000233</td>\n",
       "      <td>261</td>\n",
       "      <td>CAAACTG</td>\n",
       "      <td>0.006609</td>\n",
       "      <td>3.216424</td>\n",
       "      <td>109.681395</td>\n",
       "      <td>0.006813</td>\n",
       "      <td>3.226535</td>\n",
       "      <td>107.889535</td>\n",
       "      <td>0.007710</td>\n",
       "      <td>...</td>\n",
       "      <td>1.689167</td>\n",
       "      <td>2.981182</td>\n",
       "      <td>0.003767</td>\n",
       "      <td>1.237045</td>\n",
       "      <td>3.526528</td>\n",
       "      <td>0.004528</td>\n",
       "      <td>1.466295</td>\n",
       "      <td>2.492530</td>\n",
       "      <td>ENSG00000004059</td>\n",
       "      <td>0</td>\n",
       "    </tr>\n",
       "    <tr>\n",
       "      <th>2</th>\n",
       "      <td>ENST00000000233</td>\n",
       "      <td>316</td>\n",
       "      <td>GAAACAG</td>\n",
       "      <td>0.007570</td>\n",
       "      <td>2.940541</td>\n",
       "      <td>105.475676</td>\n",
       "      <td>0.007416</td>\n",
       "      <td>3.642703</td>\n",
       "      <td>98.947027</td>\n",
       "      <td>0.007555</td>\n",
       "      <td>...</td>\n",
       "      <td>1.311103</td>\n",
       "      <td>1.492577</td>\n",
       "      <td>0.005035</td>\n",
       "      <td>0.893481</td>\n",
       "      <td>3.203816</td>\n",
       "      <td>0.004497</td>\n",
       "      <td>0.800496</td>\n",
       "      <td>1.484341</td>\n",
       "      <td>ENSG00000004059</td>\n",
       "      <td>0</td>\n",
       "    </tr>\n",
       "    <tr>\n",
       "      <th>3</th>\n",
       "      <td>ENST00000000233</td>\n",
       "      <td>332</td>\n",
       "      <td>AGAACAT</td>\n",
       "      <td>0.010620</td>\n",
       "      <td>6.476350</td>\n",
       "      <td>129.355000</td>\n",
       "      <td>0.008632</td>\n",
       "      <td>2.899200</td>\n",
       "      <td>97.836500</td>\n",
       "      <td>0.006102</td>\n",
       "      <td>...</td>\n",
       "      <td>2.459317</td>\n",
       "      <td>3.202963</td>\n",
       "      <td>0.004612</td>\n",
       "      <td>1.393868</td>\n",
       "      <td>1.928009</td>\n",
       "      <td>0.003595</td>\n",
       "      <td>0.741771</td>\n",
       "      <td>3.494937</td>\n",
       "      <td>ENSG00000004059</td>\n",
       "      <td>0</td>\n",
       "    </tr>\n",
       "    <tr>\n",
       "      <th>4</th>\n",
       "      <td>ENST00000000233</td>\n",
       "      <td>368</td>\n",
       "      <td>AGGACAA</td>\n",
       "      <td>0.010701</td>\n",
       "      <td>6.415051</td>\n",
       "      <td>117.924242</td>\n",
       "      <td>0.011479</td>\n",
       "      <td>5.870303</td>\n",
       "      <td>121.954545</td>\n",
       "      <td>0.010019</td>\n",
       "      <td>...</td>\n",
       "      <td>2.743228</td>\n",
       "      <td>2.664643</td>\n",
       "      <td>0.005407</td>\n",
       "      <td>1.753894</td>\n",
       "      <td>2.177236</td>\n",
       "      <td>0.005908</td>\n",
       "      <td>1.341822</td>\n",
       "      <td>2.379045</td>\n",
       "      <td>ENSG00000004059</td>\n",
       "      <td>0</td>\n",
       "    </tr>\n",
       "  </tbody>\n",
       "</table>\n",
       "<p>5 rows × 32 columns</p>\n",
       "</div>"
      ],
      "text/plain": [
       "     transcript_id  transcript_position sequence  avg_1-flank_length  \\\n",
       "0  ENST00000000233                  244  AAGACCA            0.008264   \n",
       "1  ENST00000000233                  261  CAAACTG            0.006609   \n",
       "2  ENST00000000233                  316  GAAACAG            0.007570   \n",
       "3  ENST00000000233                  332  AGAACAT            0.010620   \n",
       "4  ENST00000000233                  368  AGGACAA            0.010701   \n",
       "\n",
       "   avg_1-flank_std  avg_1-flank_mean  avg_central_length  avg_central_std  \\\n",
       "0         4.223784        123.702703            0.009373         7.382162   \n",
       "1         3.216424        109.681395            0.006813         3.226535   \n",
       "2         2.940541        105.475676            0.007416         3.642703   \n",
       "3         6.476350        129.355000            0.008632         2.899200   \n",
       "4         6.415051        117.924242            0.011479         5.870303   \n",
       "\n",
       "   avg_central_mean  avg_1+flank_length  ...  std_1-flank_std  \\\n",
       "0        125.913514            0.007345  ...         1.843025   \n",
       "1        107.889535            0.007710  ...         1.689167   \n",
       "2         98.947027            0.007555  ...         1.311103   \n",
       "3         97.836500            0.006102  ...         2.459317   \n",
       "4        121.954545            0.010019  ...         2.743228   \n",
       "\n",
       "   std_1-flank_mean  std_central_length  std_central_std  std_central_mean  \\\n",
       "0          4.944365            0.005364         3.302671          2.765244   \n",
       "1          2.981182            0.003767         1.237045          3.526528   \n",
       "2          1.492577            0.005035         0.893481          3.203816   \n",
       "3          3.202963            0.004612         1.393868          1.928009   \n",
       "4          2.664643            0.005407         1.753894          2.177236   \n",
       "\n",
       "   std_1+flank_length  std_1+flank_std  std_1+flank_mean          gene_id  \\\n",
       "0            0.004566         2.906225          2.522168  ENSG00000004059   \n",
       "1            0.004528         1.466295          2.492530  ENSG00000004059   \n",
       "2            0.004497         0.800496          1.484341  ENSG00000004059   \n",
       "3            0.003595         0.741771          3.494937  ENSG00000004059   \n",
       "4            0.005908         1.341822          2.379045  ENSG00000004059   \n",
       "\n",
       "   label  \n",
       "0      0  \n",
       "1      0  \n",
       "2      0  \n",
       "3      0  \n",
       "4      0  \n",
       "\n",
       "[5 rows x 32 columns]"
      ]
     },
     "execution_count": 11,
     "metadata": {},
     "output_type": "execute_result"
    }
   ],
   "source": [
    "merged_data.head()"
   ]
  }
 ],
 "metadata": {
  "kernelspec": {
   "display_name": "Python 3",
   "language": "python",
   "name": "python3"
  },
  "language_info": {
   "codemirror_mode": {
    "name": "ipython",
    "version": 3
   },
   "file_extension": ".py",
   "mimetype": "text/x-python",
   "name": "python",
   "nbconvert_exporter": "python",
   "pygments_lexer": "ipython3",
   "version": "3.11.5"
  }
 },
 "nbformat": 4,
 "nbformat_minor": 2
}
