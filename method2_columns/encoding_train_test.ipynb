{
 "cells": [
  {
   "cell_type": "code",
   "execution_count": 1,
   "metadata": {},
   "outputs": [],
   "source": [
    "## One Hot Encoding\n",
    "from sklearn.preprocessing import LabelEncoder\n",
    "## train test split\n",
    "from sklearn.model_selection import train_test_split\n",
    "import pandas as pd\n",
    "import numpy as np"
   ]
  },
  {
   "cell_type": "code",
   "execution_count": 32,
   "metadata": {},
   "outputs": [],
   "source": [
    "df = pd.read_csv('merged_data.csv')"
   ]
  },
  {
   "cell_type": "code",
   "execution_count": 33,
   "metadata": {},
   "outputs": [
    {
     "data": {
      "text/plain": [
       "(121838, 32)"
      ]
     },
     "execution_count": 33,
     "metadata": {},
     "output_type": "execute_result"
    }
   ],
   "source": [
    "df.shape"
   ]
  },
  {
   "cell_type": "code",
   "execution_count": 34,
   "metadata": {},
   "outputs": [],
   "source": [
    "df['seq'] = df['sequence'].str[1:6]"
   ]
  },
  {
   "cell_type": "code",
   "execution_count": 35,
   "metadata": {},
   "outputs": [
    {
     "data": {
      "text/html": [
       "<div>\n",
       "<style scoped>\n",
       "    .dataframe tbody tr th:only-of-type {\n",
       "        vertical-align: middle;\n",
       "    }\n",
       "\n",
       "    .dataframe tbody tr th {\n",
       "        vertical-align: top;\n",
       "    }\n",
       "\n",
       "    .dataframe thead th {\n",
       "        text-align: right;\n",
       "    }\n",
       "</style>\n",
       "<table border=\"1\" class=\"dataframe\">\n",
       "  <thead>\n",
       "    <tr style=\"text-align: right;\">\n",
       "      <th></th>\n",
       "      <th>transcript_id</th>\n",
       "      <th>transcript_position</th>\n",
       "      <th>sequence</th>\n",
       "      <th>avg_1-flank_length</th>\n",
       "      <th>avg_1-flank_std</th>\n",
       "      <th>avg_1-flank_mean</th>\n",
       "      <th>avg_central_length</th>\n",
       "      <th>avg_central_std</th>\n",
       "      <th>avg_central_mean</th>\n",
       "      <th>avg_1+flank_length</th>\n",
       "      <th>...</th>\n",
       "      <th>std_1-flank_mean</th>\n",
       "      <th>std_central_length</th>\n",
       "      <th>std_central_std</th>\n",
       "      <th>std_central_mean</th>\n",
       "      <th>std_1+flank_length</th>\n",
       "      <th>std_1+flank_std</th>\n",
       "      <th>std_1+flank_mean</th>\n",
       "      <th>gene_id</th>\n",
       "      <th>label</th>\n",
       "      <th>seq</th>\n",
       "    </tr>\n",
       "  </thead>\n",
       "  <tbody>\n",
       "    <tr>\n",
       "      <th>0</th>\n",
       "      <td>ENST00000000233</td>\n",
       "      <td>244</td>\n",
       "      <td>AAGACCA</td>\n",
       "      <td>0.008264</td>\n",
       "      <td>4.223784</td>\n",
       "      <td>123.702703</td>\n",
       "      <td>0.009373</td>\n",
       "      <td>7.382162</td>\n",
       "      <td>125.913514</td>\n",
       "      <td>0.007345</td>\n",
       "      <td>...</td>\n",
       "      <td>4.944365</td>\n",
       "      <td>0.005364</td>\n",
       "      <td>3.302671</td>\n",
       "      <td>2.765244</td>\n",
       "      <td>0.004566</td>\n",
       "      <td>2.906225</td>\n",
       "      <td>2.522168</td>\n",
       "      <td>ENSG00000004059</td>\n",
       "      <td>0</td>\n",
       "      <td>AGACC</td>\n",
       "    </tr>\n",
       "    <tr>\n",
       "      <th>1</th>\n",
       "      <td>ENST00000000233</td>\n",
       "      <td>261</td>\n",
       "      <td>CAAACTG</td>\n",
       "      <td>0.006609</td>\n",
       "      <td>3.216424</td>\n",
       "      <td>109.681395</td>\n",
       "      <td>0.006813</td>\n",
       "      <td>3.226535</td>\n",
       "      <td>107.889535</td>\n",
       "      <td>0.007710</td>\n",
       "      <td>...</td>\n",
       "      <td>2.981182</td>\n",
       "      <td>0.003767</td>\n",
       "      <td>1.237045</td>\n",
       "      <td>3.526528</td>\n",
       "      <td>0.004528</td>\n",
       "      <td>1.466295</td>\n",
       "      <td>2.492530</td>\n",
       "      <td>ENSG00000004059</td>\n",
       "      <td>0</td>\n",
       "      <td>AAACT</td>\n",
       "    </tr>\n",
       "    <tr>\n",
       "      <th>2</th>\n",
       "      <td>ENST00000000233</td>\n",
       "      <td>316</td>\n",
       "      <td>GAAACAG</td>\n",
       "      <td>0.007570</td>\n",
       "      <td>2.940541</td>\n",
       "      <td>105.475676</td>\n",
       "      <td>0.007416</td>\n",
       "      <td>3.642703</td>\n",
       "      <td>98.947027</td>\n",
       "      <td>0.007555</td>\n",
       "      <td>...</td>\n",
       "      <td>1.492577</td>\n",
       "      <td>0.005035</td>\n",
       "      <td>0.893481</td>\n",
       "      <td>3.203816</td>\n",
       "      <td>0.004497</td>\n",
       "      <td>0.800496</td>\n",
       "      <td>1.484341</td>\n",
       "      <td>ENSG00000004059</td>\n",
       "      <td>0</td>\n",
       "      <td>AAACA</td>\n",
       "    </tr>\n",
       "    <tr>\n",
       "      <th>3</th>\n",
       "      <td>ENST00000000233</td>\n",
       "      <td>332</td>\n",
       "      <td>AGAACAT</td>\n",
       "      <td>0.010620</td>\n",
       "      <td>6.476350</td>\n",
       "      <td>129.355000</td>\n",
       "      <td>0.008632</td>\n",
       "      <td>2.899200</td>\n",
       "      <td>97.836500</td>\n",
       "      <td>0.006102</td>\n",
       "      <td>...</td>\n",
       "      <td>3.202963</td>\n",
       "      <td>0.004612</td>\n",
       "      <td>1.393868</td>\n",
       "      <td>1.928009</td>\n",
       "      <td>0.003595</td>\n",
       "      <td>0.741771</td>\n",
       "      <td>3.494937</td>\n",
       "      <td>ENSG00000004059</td>\n",
       "      <td>0</td>\n",
       "      <td>GAACA</td>\n",
       "    </tr>\n",
       "    <tr>\n",
       "      <th>4</th>\n",
       "      <td>ENST00000000233</td>\n",
       "      <td>368</td>\n",
       "      <td>AGGACAA</td>\n",
       "      <td>0.010701</td>\n",
       "      <td>6.415051</td>\n",
       "      <td>117.924242</td>\n",
       "      <td>0.011479</td>\n",
       "      <td>5.870303</td>\n",
       "      <td>121.954545</td>\n",
       "      <td>0.010019</td>\n",
       "      <td>...</td>\n",
       "      <td>2.664643</td>\n",
       "      <td>0.005407</td>\n",
       "      <td>1.753894</td>\n",
       "      <td>2.177236</td>\n",
       "      <td>0.005908</td>\n",
       "      <td>1.341822</td>\n",
       "      <td>2.379045</td>\n",
       "      <td>ENSG00000004059</td>\n",
       "      <td>0</td>\n",
       "      <td>GGACA</td>\n",
       "    </tr>\n",
       "  </tbody>\n",
       "</table>\n",
       "<p>5 rows × 33 columns</p>\n",
       "</div>"
      ],
      "text/plain": [
       "     transcript_id  transcript_position sequence  avg_1-flank_length  \\\n",
       "0  ENST00000000233                  244  AAGACCA            0.008264   \n",
       "1  ENST00000000233                  261  CAAACTG            0.006609   \n",
       "2  ENST00000000233                  316  GAAACAG            0.007570   \n",
       "3  ENST00000000233                  332  AGAACAT            0.010620   \n",
       "4  ENST00000000233                  368  AGGACAA            0.010701   \n",
       "\n",
       "   avg_1-flank_std  avg_1-flank_mean  avg_central_length  avg_central_std  \\\n",
       "0         4.223784        123.702703            0.009373         7.382162   \n",
       "1         3.216424        109.681395            0.006813         3.226535   \n",
       "2         2.940541        105.475676            0.007416         3.642703   \n",
       "3         6.476350        129.355000            0.008632         2.899200   \n",
       "4         6.415051        117.924242            0.011479         5.870303   \n",
       "\n",
       "   avg_central_mean  avg_1+flank_length  ...  std_1-flank_mean  \\\n",
       "0        125.913514            0.007345  ...          4.944365   \n",
       "1        107.889535            0.007710  ...          2.981182   \n",
       "2         98.947027            0.007555  ...          1.492577   \n",
       "3         97.836500            0.006102  ...          3.202963   \n",
       "4        121.954545            0.010019  ...          2.664643   \n",
       "\n",
       "   std_central_length  std_central_std  std_central_mean  std_1+flank_length  \\\n",
       "0            0.005364         3.302671          2.765244            0.004566   \n",
       "1            0.003767         1.237045          3.526528            0.004528   \n",
       "2            0.005035         0.893481          3.203816            0.004497   \n",
       "3            0.004612         1.393868          1.928009            0.003595   \n",
       "4            0.005407         1.753894          2.177236            0.005908   \n",
       "\n",
       "   std_1+flank_std  std_1+flank_mean          gene_id  label    seq  \n",
       "0         2.906225          2.522168  ENSG00000004059      0  AGACC  \n",
       "1         1.466295          2.492530  ENSG00000004059      0  AAACT  \n",
       "2         0.800496          1.484341  ENSG00000004059      0  AAACA  \n",
       "3         0.741771          3.494937  ENSG00000004059      0  GAACA  \n",
       "4         1.341822          2.379045  ENSG00000004059      0  GGACA  \n",
       "\n",
       "[5 rows x 33 columns]"
      ]
     },
     "execution_count": 35,
     "metadata": {},
     "output_type": "execute_result"
    }
   ],
   "source": [
    "df.head()"
   ]
  },
  {
   "cell_type": "code",
   "execution_count": 36,
   "metadata": {},
   "outputs": [
    {
     "name": "stderr",
     "output_type": "stream",
     "text": [
      "/Library/Frameworks/Python.framework/Versions/3.11/lib/python3.11/site-packages/sklearn/preprocessing/_label.py:114: DataConversionWarning: A column-vector y was passed when a 1d array was expected. Please change the shape of y to (n_samples, ), for example using ravel().\n",
      "  y = column_or_1d(y, warn=True)\n"
     ]
    }
   ],
   "source": [
    "df_le = df.copy()\n",
    "holder = df_le[\"seq\"].values.reshape(-1, 1)\n",
    "\n",
    "label_encoder = LabelEncoder()\n",
    "\n",
    "temp = pd.DataFrame(label_encoder.fit_transform(holder))\n",
    "\n",
    "temp.columns = [\"seq_le\"]\n",
    "\n",
    "df_le = df_le.join(temp)"
   ]
  },
  {
   "cell_type": "code",
   "execution_count": 37,
   "metadata": {},
   "outputs": [],
   "source": [
    "df_le = df_le.drop([\"sequence\", \"seq\"], axis=1)"
   ]
  },
  {
   "cell_type": "code",
   "execution_count": 38,
   "metadata": {},
   "outputs": [
    {
     "data": {
      "text/plain": [
       "Index(['transcript_id', 'transcript_position', 'avg_1-flank_length',\n",
       "       'avg_1-flank_std', 'avg_1-flank_mean', 'avg_central_length',\n",
       "       'avg_central_std', 'avg_central_mean', 'avg_1+flank_length',\n",
       "       'avg_1+flank_std', 'avg_1+flank_mean', 'med_1-flank_length',\n",
       "       'med_1-flank_std', 'med_1-flank_mean', 'med_central_length',\n",
       "       'med_central_std', 'med_central_mean', 'med_1+flank_length',\n",
       "       'med_1+flank_std', 'med_1+flank_mean', 'std_1-flank_length',\n",
       "       'std_1-flank_std', 'std_1-flank_mean', 'std_central_length',\n",
       "       'std_central_std', 'std_central_mean', 'std_1+flank_length',\n",
       "       'std_1+flank_std', 'std_1+flank_mean', 'gene_id', 'label', 'seq_le'],\n",
       "      dtype='object')"
      ]
     },
     "execution_count": 38,
     "metadata": {},
     "output_type": "execute_result"
    }
   ],
   "source": [
    "df_le.columns"
   ]
  },
  {
   "cell_type": "code",
   "execution_count": 39,
   "metadata": {},
   "outputs": [],
   "source": [
    "train, test = train_test_split(df_le, test_size=0.2)"
   ]
  },
  {
   "cell_type": "code",
   "execution_count": 40,
   "metadata": {},
   "outputs": [
    {
     "data": {
      "text/plain": [
       "(97470, 32)"
      ]
     },
     "execution_count": 40,
     "metadata": {},
     "output_type": "execute_result"
    }
   ],
   "source": [
    "train.shape"
   ]
  },
  {
   "cell_type": "code",
   "execution_count": 41,
   "metadata": {},
   "outputs": [
    {
     "data": {
      "text/plain": [
       "(24368, 32)"
      ]
     },
     "execution_count": 41,
     "metadata": {},
     "output_type": "execute_result"
    }
   ],
   "source": [
    "test.shape"
   ]
  },
  {
   "cell_type": "code",
   "execution_count": 42,
   "metadata": {},
   "outputs": [
    {
     "data": {
      "text/plain": [
       "93082"
      ]
     },
     "execution_count": 42,
     "metadata": {},
     "output_type": "execute_result"
    }
   ],
   "source": [
    "len(train[train['label'] == 0])"
   ]
  },
  {
   "cell_type": "code",
   "execution_count": 43,
   "metadata": {},
   "outputs": [
    {
     "data": {
      "text/plain": [
       "4388"
      ]
     },
     "execution_count": 43,
     "metadata": {},
     "output_type": "execute_result"
    }
   ],
   "source": [
    "len(train[train['label'] == 1])"
   ]
  },
  {
   "cell_type": "code",
   "execution_count": 64,
   "metadata": {},
   "outputs": [
    {
     "data": {
      "text/plain": [
       "0.9534883720930233"
      ]
     },
     "execution_count": 64,
     "metadata": {},
     "output_type": "execute_result"
    }
   ],
   "source": [
    "1 - 4332/93138"
   ]
  },
  {
   "cell_type": "code",
   "execution_count": 58,
   "metadata": {},
   "outputs": [],
   "source": [
    "X_train = train.drop(['transcript_id', 'gene_id', 'label'], axis=1)\n",
    "y_train = train['label']\n",
    "\n",
    "X_test = test.drop(['transcript_id', 'gene_id', 'label'], axis=1)\n",
    "y_test = test['label']"
   ]
  },
  {
   "cell_type": "code",
   "execution_count": 59,
   "metadata": {},
   "outputs": [],
   "source": [
    "from imblearn.over_sampling import SMOTE\n",
    "\n",
    "smote = SMOTE(sampling_strategy='auto', random_state=42)\n",
    "X_resampledtrain, y_resampledtrain = smote.fit_resample(X_train, y_train)\n",
    "X_resampledtest, y_resampledtest = smote.fit_resample(X_test, y_test)\n"
   ]
  },
  {
   "cell_type": "code",
   "execution_count": 60,
   "metadata": {},
   "outputs": [
    {
     "name": "stdout",
     "output_type": "stream",
     "text": [
      "Original Class Distribution:\n",
      "label\n",
      "0    93082\n",
      "1     4388\n",
      "Name: count, dtype: int64\n",
      "\n",
      "Resampled Class Distribution:\n",
      "label\n",
      "0    93082\n",
      "1    93082\n",
      "Name: count, dtype: int64\n"
     ]
    }
   ],
   "source": [
    "original_class_counts = y_train.value_counts()\n",
    "resampled_class_counts = pd.Series(y_resampledtrain).value_counts()\n",
    "\n",
    "print(\"Original Class Distribution:\")\n",
    "print(original_class_counts)\n",
    "\n",
    "print(\"\\nResampled Class Distribution:\")\n",
    "print(resampled_class_counts)"
   ]
  },
  {
   "cell_type": "code",
   "execution_count": 61,
   "metadata": {},
   "outputs": [
    {
     "name": "stdout",
     "output_type": "stream",
     "text": [
      "Original Class Distribution:\n",
      "label\n",
      "0    23281\n",
      "1     1087\n",
      "Name: count, dtype: int64\n",
      "\n",
      "Resampled Class Distribution:\n",
      "label\n",
      "0    23281\n",
      "1    23281\n",
      "Name: count, dtype: int64\n"
     ]
    }
   ],
   "source": [
    "original_class_counts = y_test.value_counts()\n",
    "resampled_class_counts = pd.Series(y_resampledtest).value_counts()\n",
    "\n",
    "print(\"Original Class Distribution:\")\n",
    "print(original_class_counts)\n",
    "\n",
    "print(\"\\nResampled Class Distribution:\")\n",
    "print(resampled_class_counts)"
   ]
  },
  {
   "cell_type": "code",
   "execution_count": 56,
   "metadata": {},
   "outputs": [],
   "source": [
    "resampled_train = pd.DataFrame(data=X_resampledtrain, columns=X_train.columns)\n",
    "resampled_train['label'] = y_resampledtrain\n",
    "resampled_train.to_csv('resampled_traindata.csv', index=False)\n"
   ]
  },
  {
   "cell_type": "code",
   "execution_count": 62,
   "metadata": {},
   "outputs": [],
   "source": [
    "resampled_test = pd.DataFrame(data=X_resampledtest, columns=X_test.columns)\n",
    "resampled_test['label'] = y_resampledtest\n",
    "resampled_test.to_csv('resampled_testdata.csv', index=False)"
   ]
  },
  {
   "cell_type": "code",
   "execution_count": null,
   "metadata": {},
   "outputs": [],
   "source": []
  }
 ],
 "metadata": {
  "kernelspec": {
   "display_name": "Python 3",
   "language": "python",
   "name": "python3"
  },
  "language_info": {
   "codemirror_mode": {
    "name": "ipython",
    "version": 3
   },
   "file_extension": ".py",
   "mimetype": "text/x-python",
   "name": "python",
   "nbconvert_exporter": "python",
   "pygments_lexer": "ipython3",
   "version": "3.11.5"
  }
 },
 "nbformat": 4,
 "nbformat_minor": 2
}
