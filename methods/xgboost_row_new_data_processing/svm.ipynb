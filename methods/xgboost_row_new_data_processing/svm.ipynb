{
 "cells": [
  {
   "cell_type": "code",
   "execution_count": 1,
   "metadata": {},
   "outputs": [],
   "source": [
    "import pandas as pd\n",
    "from sklearn import svm\n",
    "from sklearn.metrics import accuracy_score, classification_report"
   ]
  },
  {
   "cell_type": "code",
   "execution_count": 20,
   "metadata": {},
   "outputs": [],
   "source": [
    "test_true_ratio = pd.read_csv('data/transcript_balanced_test.csv')\n",
    "# test_balanced_ratio = pd.read_csv('data/test_data_new.csv')\n",
    "test_true_ratio = test_true_ratio.sample(n=100000)"
   ]
  },
  {
   "cell_type": "code",
   "execution_count": 18,
   "metadata": {},
   "outputs": [],
   "source": [
    "train = pd.read_csv('data/transcript_balanced_train.csv')"
   ]
  },
  {
   "cell_type": "markdown",
   "metadata": {},
   "source": [
    "## Note: only 10000 is taken from train\n",
    "This is to reduce the training time\n",
    "\n",
    "10000 takes less than 1 min\n",
    "\n",
    "100000 takes ~ 10 min\n",
    "\n",
    "1000000 takes ~ 10 hours\n",
    "\n",
    "runned using 12100F"
   ]
  },
  {
   "cell_type": "code",
   "execution_count": 21,
   "metadata": {},
   "outputs": [],
   "source": [
    "train = train.sample(n=100000)"
   ]
  },
  {
   "cell_type": "code",
   "execution_count": 22,
   "metadata": {},
   "outputs": [],
   "source": [
    "x_train = train.drop(['label'], axis=1)\n",
    "y_train = train['label']"
   ]
  },
  {
   "cell_type": "code",
   "execution_count": 23,
   "metadata": {},
   "outputs": [
    {
     "data": {
      "text/html": [
       "<div>\n",
       "<style scoped>\n",
       "    .dataframe tbody tr th:only-of-type {\n",
       "        vertical-align: middle;\n",
       "    }\n",
       "\n",
       "    .dataframe tbody tr th {\n",
       "        vertical-align: top;\n",
       "    }\n",
       "\n",
       "    .dataframe thead th {\n",
       "        text-align: right;\n",
       "    }\n",
       "</style>\n",
       "<table border=\"1\" class=\"dataframe\">\n",
       "  <thead>\n",
       "    <tr style=\"text-align: right;\">\n",
       "      <th></th>\n",
       "      <th>transcript_position</th>\n",
       "      <th>-1_flank_length</th>\n",
       "      <th>-1_flank_std</th>\n",
       "      <th>-1_flank_mean</th>\n",
       "      <th>central_length</th>\n",
       "      <th>central_std</th>\n",
       "      <th>central_mean</th>\n",
       "      <th>+1_flank_length</th>\n",
       "      <th>+1_flank_std</th>\n",
       "      <th>+1_flank_mean</th>\n",
       "      <th>...</th>\n",
       "      <th>1-mer_2</th>\n",
       "      <th>1-mer_3</th>\n",
       "      <th>1-mer_4</th>\n",
       "      <th>1-mer_5</th>\n",
       "      <th>1-mer_6</th>\n",
       "      <th>5-mer_0</th>\n",
       "      <th>5-mer_1</th>\n",
       "      <th>5-mer_2</th>\n",
       "      <th>new_transcript_id</th>\n",
       "      <th>new_gene_id</th>\n",
       "    </tr>\n",
       "  </thead>\n",
       "  <tbody>\n",
       "    <tr>\n",
       "      <th>1286551</th>\n",
       "      <td>0.024296</td>\n",
       "      <td>0.056169</td>\n",
       "      <td>0.014015</td>\n",
       "      <td>0.578005</td>\n",
       "      <td>0.065802</td>\n",
       "      <td>0.045531</td>\n",
       "      <td>0.565217</td>\n",
       "      <td>0.061892</td>\n",
       "      <td>0.024827</td>\n",
       "      <td>0.300000</td>\n",
       "      <td>...</td>\n",
       "      <td>1.0</td>\n",
       "      <td>0.0</td>\n",
       "      <td>0.0</td>\n",
       "      <td>0.0</td>\n",
       "      <td>0.666667</td>\n",
       "      <td>0.913043</td>\n",
       "      <td>0.529412</td>\n",
       "      <td>0.608696</td>\n",
       "      <td>0.594734</td>\n",
       "      <td>0.558699</td>\n",
       "    </tr>\n",
       "    <tr>\n",
       "      <th>1729167</th>\n",
       "      <td>0.073370</td>\n",
       "      <td>0.079580</td>\n",
       "      <td>0.010760</td>\n",
       "      <td>0.488491</td>\n",
       "      <td>0.073931</td>\n",
       "      <td>0.018610</td>\n",
       "      <td>0.442935</td>\n",
       "      <td>0.025492</td>\n",
       "      <td>0.012358</td>\n",
       "      <td>0.438961</td>\n",
       "      <td>...</td>\n",
       "      <td>0.0</td>\n",
       "      <td>0.0</td>\n",
       "      <td>0.0</td>\n",
       "      <td>1.0</td>\n",
       "      <td>1.000000</td>\n",
       "      <td>0.521739</td>\n",
       "      <td>0.117647</td>\n",
       "      <td>0.478261</td>\n",
       "      <td>0.832427</td>\n",
       "      <td>0.385646</td>\n",
       "    </tr>\n",
       "    <tr>\n",
       "      <th>1829830</th>\n",
       "      <td>0.095477</td>\n",
       "      <td>0.029553</td>\n",
       "      <td>0.027034</td>\n",
       "      <td>0.332481</td>\n",
       "      <td>0.035320</td>\n",
       "      <td>0.074053</td>\n",
       "      <td>0.673913</td>\n",
       "      <td>0.038653</td>\n",
       "      <td>0.012681</td>\n",
       "      <td>0.348052</td>\n",
       "      <td>...</td>\n",
       "      <td>1.0</td>\n",
       "      <td>0.0</td>\n",
       "      <td>0.0</td>\n",
       "      <td>1.0</td>\n",
       "      <td>1.000000</td>\n",
       "      <td>0.217391</td>\n",
       "      <td>1.000000</td>\n",
       "      <td>1.000000</td>\n",
       "      <td>0.915793</td>\n",
       "      <td>0.319441</td>\n",
       "    </tr>\n",
       "    <tr>\n",
       "      <th>99445</th>\n",
       "      <td>0.045656</td>\n",
       "      <td>0.026794</td>\n",
       "      <td>0.014646</td>\n",
       "      <td>0.398977</td>\n",
       "      <td>0.150377</td>\n",
       "      <td>0.046160</td>\n",
       "      <td>0.633152</td>\n",
       "      <td>0.027508</td>\n",
       "      <td>0.013263</td>\n",
       "      <td>0.371429</td>\n",
       "      <td>...</td>\n",
       "      <td>1.0</td>\n",
       "      <td>0.0</td>\n",
       "      <td>0.0</td>\n",
       "      <td>1.0</td>\n",
       "      <td>0.666667</td>\n",
       "      <td>1.000000</td>\n",
       "      <td>1.000000</td>\n",
       "      <td>0.956522</td>\n",
       "      <td>0.351108</td>\n",
       "      <td>0.749196</td>\n",
       "    </tr>\n",
       "    <tr>\n",
       "      <th>797881</th>\n",
       "      <td>0.023389</td>\n",
       "      <td>0.106284</td>\n",
       "      <td>0.013432</td>\n",
       "      <td>0.641944</td>\n",
       "      <td>0.086511</td>\n",
       "      <td>0.056906</td>\n",
       "      <td>0.660326</td>\n",
       "      <td>0.055134</td>\n",
       "      <td>0.012165</td>\n",
       "      <td>0.270130</td>\n",
       "      <td>...</td>\n",
       "      <td>1.0</td>\n",
       "      <td>0.0</td>\n",
       "      <td>0.0</td>\n",
       "      <td>0.0</td>\n",
       "      <td>0.333333</td>\n",
       "      <td>0.826087</td>\n",
       "      <td>0.176471</td>\n",
       "      <td>0.565217</td>\n",
       "      <td>0.522050</td>\n",
       "      <td>0.235171</td>\n",
       "    </tr>\n",
       "  </tbody>\n",
       "</table>\n",
       "<p>5 rows × 22 columns</p>\n",
       "</div>"
      ],
      "text/plain": [
       "         transcript_position  -1_flank_length  -1_flank_std  -1_flank_mean  \\\n",
       "1286551             0.024296         0.056169      0.014015       0.578005   \n",
       "1729167             0.073370         0.079580      0.010760       0.488491   \n",
       "1829830             0.095477         0.029553      0.027034       0.332481   \n",
       "99445               0.045656         0.026794      0.014646       0.398977   \n",
       "797881              0.023389         0.106284      0.013432       0.641944   \n",
       "\n",
       "         central_length  central_std  central_mean  +1_flank_length  \\\n",
       "1286551        0.065802     0.045531      0.565217         0.061892   \n",
       "1729167        0.073931     0.018610      0.442935         0.025492   \n",
       "1829830        0.035320     0.074053      0.673913         0.038653   \n",
       "99445          0.150377     0.046160      0.633152         0.027508   \n",
       "797881         0.086511     0.056906      0.660326         0.055134   \n",
       "\n",
       "         +1_flank_std  +1_flank_mean  ...  1-mer_2  1-mer_3  1-mer_4  1-mer_5  \\\n",
       "1286551      0.024827       0.300000  ...      1.0      0.0      0.0      0.0   \n",
       "1729167      0.012358       0.438961  ...      0.0      0.0      0.0      1.0   \n",
       "1829830      0.012681       0.348052  ...      1.0      0.0      0.0      1.0   \n",
       "99445        0.013263       0.371429  ...      1.0      0.0      0.0      1.0   \n",
       "797881       0.012165       0.270130  ...      1.0      0.0      0.0      0.0   \n",
       "\n",
       "          1-mer_6   5-mer_0   5-mer_1   5-mer_2  new_transcript_id  \\\n",
       "1286551  0.666667  0.913043  0.529412  0.608696           0.594734   \n",
       "1729167  1.000000  0.521739  0.117647  0.478261           0.832427   \n",
       "1829830  1.000000  0.217391  1.000000  1.000000           0.915793   \n",
       "99445    0.666667  1.000000  1.000000  0.956522           0.351108   \n",
       "797881   0.333333  0.826087  0.176471  0.565217           0.522050   \n",
       "\n",
       "         new_gene_id  \n",
       "1286551     0.558699  \n",
       "1729167     0.385646  \n",
       "1829830     0.319441  \n",
       "99445       0.749196  \n",
       "797881      0.235171  \n",
       "\n",
       "[5 rows x 22 columns]"
      ]
     },
     "execution_count": 23,
     "metadata": {},
     "output_type": "execute_result"
    }
   ],
   "source": [
    "x_train.head()"
   ]
  },
  {
   "cell_type": "code",
   "execution_count": 24,
   "metadata": {},
   "outputs": [
    {
     "data": {
      "text/plain": [
       "1286551    0\n",
       "1729167    0\n",
       "1829830    0\n",
       "99445      0\n",
       "797881     0\n",
       "          ..\n",
       "121077     0\n",
       "808189     0\n",
       "1340232    0\n",
       "1402288    0\n",
       "804101     0\n",
       "Name: label, Length: 100000, dtype: int32"
      ]
     },
     "execution_count": 24,
     "metadata": {},
     "output_type": "execute_result"
    }
   ],
   "source": [
    "y_train.astype('int')"
   ]
  },
  {
   "cell_type": "code",
   "execution_count": 25,
   "metadata": {},
   "outputs": [
    {
     "data": {
      "text/plain": [
       "1286551    0.0\n",
       "1729167    0.0\n",
       "1829830    0.0\n",
       "99445      0.0\n",
       "797881     0.0\n",
       "Name: label, dtype: float64"
      ]
     },
     "execution_count": 25,
     "metadata": {},
     "output_type": "execute_result"
    }
   ],
   "source": [
    "y_train.head()"
   ]
  },
  {
   "cell_type": "code",
   "execution_count": 35,
   "metadata": {},
   "outputs": [],
   "source": [
    "from sklearn.svm import SVC\n",
    "\n",
    "# Set equal costs for both types of misclassifications\n",
    "C01 = 1  # Cost of classifying true negatives as true positives\n",
    "C10 = 1  # Cost of classifying true positives as true negatives\n",
    "\n",
    "# Initialize the SVM classifier with the cost matrix\n",
    "svm = SVC(class_weight='balanced')"
   ]
  },
  {
   "cell_type": "code",
   "execution_count": 39,
   "metadata": {},
   "outputs": [
    {
     "data": {
      "text/html": [
       "<style>#sk-container-id-3 {color: black;}#sk-container-id-3 pre{padding: 0;}#sk-container-id-3 div.sk-toggleable {background-color: white;}#sk-container-id-3 label.sk-toggleable__label {cursor: pointer;display: block;width: 100%;margin-bottom: 0;padding: 0.3em;box-sizing: border-box;text-align: center;}#sk-container-id-3 label.sk-toggleable__label-arrow:before {content: \"▸\";float: left;margin-right: 0.25em;color: #696969;}#sk-container-id-3 label.sk-toggleable__label-arrow:hover:before {color: black;}#sk-container-id-3 div.sk-estimator:hover label.sk-toggleable__label-arrow:before {color: black;}#sk-container-id-3 div.sk-toggleable__content {max-height: 0;max-width: 0;overflow: hidden;text-align: left;background-color: #f0f8ff;}#sk-container-id-3 div.sk-toggleable__content pre {margin: 0.2em;color: black;border-radius: 0.25em;background-color: #f0f8ff;}#sk-container-id-3 input.sk-toggleable__control:checked~div.sk-toggleable__content {max-height: 200px;max-width: 100%;overflow: auto;}#sk-container-id-3 input.sk-toggleable__control:checked~label.sk-toggleable__label-arrow:before {content: \"▾\";}#sk-container-id-3 div.sk-estimator input.sk-toggleable__control:checked~label.sk-toggleable__label {background-color: #d4ebff;}#sk-container-id-3 div.sk-label input.sk-toggleable__control:checked~label.sk-toggleable__label {background-color: #d4ebff;}#sk-container-id-3 input.sk-hidden--visually {border: 0;clip: rect(1px 1px 1px 1px);clip: rect(1px, 1px, 1px, 1px);height: 1px;margin: -1px;overflow: hidden;padding: 0;position: absolute;width: 1px;}#sk-container-id-3 div.sk-estimator {font-family: monospace;background-color: #f0f8ff;border: 1px dotted black;border-radius: 0.25em;box-sizing: border-box;margin-bottom: 0.5em;}#sk-container-id-3 div.sk-estimator:hover {background-color: #d4ebff;}#sk-container-id-3 div.sk-parallel-item::after {content: \"\";width: 100%;border-bottom: 1px solid gray;flex-grow: 1;}#sk-container-id-3 div.sk-label:hover label.sk-toggleable__label {background-color: #d4ebff;}#sk-container-id-3 div.sk-serial::before {content: \"\";position: absolute;border-left: 1px solid gray;box-sizing: border-box;top: 0;bottom: 0;left: 50%;z-index: 0;}#sk-container-id-3 div.sk-serial {display: flex;flex-direction: column;align-items: center;background-color: white;padding-right: 0.2em;padding-left: 0.2em;position: relative;}#sk-container-id-3 div.sk-item {position: relative;z-index: 1;}#sk-container-id-3 div.sk-parallel {display: flex;align-items: stretch;justify-content: center;background-color: white;position: relative;}#sk-container-id-3 div.sk-item::before, #sk-container-id-3 div.sk-parallel-item::before {content: \"\";position: absolute;border-left: 1px solid gray;box-sizing: border-box;top: 0;bottom: 0;left: 50%;z-index: -1;}#sk-container-id-3 div.sk-parallel-item {display: flex;flex-direction: column;z-index: 1;position: relative;background-color: white;}#sk-container-id-3 div.sk-parallel-item:first-child::after {align-self: flex-end;width: 50%;}#sk-container-id-3 div.sk-parallel-item:last-child::after {align-self: flex-start;width: 50%;}#sk-container-id-3 div.sk-parallel-item:only-child::after {width: 0;}#sk-container-id-3 div.sk-dashed-wrapped {border: 1px dashed gray;margin: 0 0.4em 0.5em 0.4em;box-sizing: border-box;padding-bottom: 0.4em;background-color: white;}#sk-container-id-3 div.sk-label label {font-family: monospace;font-weight: bold;display: inline-block;line-height: 1.2em;}#sk-container-id-3 div.sk-label-container {text-align: center;}#sk-container-id-3 div.sk-container {/* jupyter's `normalize.less` sets `[hidden] { display: none; }` but bootstrap.min.css set `[hidden] { display: none !important; }` so we also need the `!important` here to be able to override the default hidden behavior on the sphinx rendered scikit-learn.org. See: https://github.com/scikit-learn/scikit-learn/issues/21755 */display: inline-block !important;position: relative;}#sk-container-id-3 div.sk-text-repr-fallback {display: none;}</style><div id=\"sk-container-id-3\" class=\"sk-top-container\"><div class=\"sk-text-repr-fallback\"><pre>SVC(class_weight=&#x27;balanced&#x27;)</pre><b>In a Jupyter environment, please rerun this cell to show the HTML representation or trust the notebook. <br />On GitHub, the HTML representation is unable to render, please try loading this page with nbviewer.org.</b></div><div class=\"sk-container\" hidden><div class=\"sk-item\"><div class=\"sk-estimator sk-toggleable\"><input class=\"sk-toggleable__control sk-hidden--visually\" id=\"sk-estimator-id-3\" type=\"checkbox\" checked><label for=\"sk-estimator-id-3\" class=\"sk-toggleable__label sk-toggleable__label-arrow\">SVC</label><div class=\"sk-toggleable__content\"><pre>SVC(class_weight=&#x27;balanced&#x27;)</pre></div></div></div></div></div>"
      ],
      "text/plain": [
       "SVC(class_weight='balanced')"
      ]
     },
     "execution_count": 39,
     "metadata": {},
     "output_type": "execute_result"
    }
   ],
   "source": [
    "svm.fit(x_train, y_train)"
   ]
  },
  {
   "cell_type": "code",
   "execution_count": 40,
   "metadata": {},
   "outputs": [
    {
     "data": {
      "text/plain": [
       "['svm_model_with_transcript_balanced_data_position_100000_F1_optimize.pkl']"
      ]
     },
     "execution_count": 40,
     "metadata": {},
     "output_type": "execute_result"
    }
   ],
   "source": [
    "import joblib\n",
    "\n",
    "# Save the trained SVM model to a file\n",
    "model_filename = 'svm_model_with_transcript_balanced_data_position_100000_F1_optimize.pkl'\n",
    "joblib.dump(svm, model_filename)\n",
    "\n",
    "# # Later, to load the saved model\n",
    "# loaded_model = joblib.load(model_filename)\n",
    "\n",
    "# # You can now use `loaded_model` for predictions or other purposes"
   ]
  },
  {
   "cell_type": "markdown",
   "metadata": {},
   "source": [
    "## classification report using balanced test dataset"
   ]
  },
  {
   "cell_type": "code",
   "execution_count": 41,
   "metadata": {},
   "outputs": [],
   "source": [
    "# x_test = test_balanced_ratio.drop([\"label\"], axis=1)\n",
    "# y_test = test_balanced_ratio[\"label\"]"
   ]
  },
  {
   "cell_type": "code",
   "execution_count": 42,
   "metadata": {},
   "outputs": [],
   "source": [
    "# y_pred = clf.predict(x_test)"
   ]
  },
  {
   "cell_type": "code",
   "execution_count": 43,
   "metadata": {},
   "outputs": [],
   "source": [
    "# Calculate accuracy\n",
    "# accuracy = accuracy_score(y_test, y_pred)\n",
    "# print(f'Accuracy: {accuracy:.2f}')"
   ]
  },
  {
   "cell_type": "code",
   "execution_count": 44,
   "metadata": {},
   "outputs": [],
   "source": [
    "# Display a classification report\n",
    "# class_report = classification_report(y_test, y_pred)\n",
    "# print('Classification Report:\\n', class_report)"
   ]
  },
  {
   "cell_type": "markdown",
   "metadata": {},
   "source": [
    "## classification report using true test dataset"
   ]
  },
  {
   "cell_type": "code",
   "execution_count": 45,
   "metadata": {},
   "outputs": [],
   "source": [
    "x_test = test_true_ratio.drop([\"label\"], axis=1)\n",
    "y_test = test_true_ratio[\"label\"]"
   ]
  },
  {
   "cell_type": "code",
   "execution_count": 46,
   "metadata": {},
   "outputs": [],
   "source": [
    "y_pred = svm.predict(x_test)"
   ]
  },
  {
   "cell_type": "code",
   "execution_count": 47,
   "metadata": {},
   "outputs": [
    {
     "name": "stdout",
     "output_type": "stream",
     "text": [
      "Accuracy: 0.71\n"
     ]
    }
   ],
   "source": [
    "# Calculate accuracy\n",
    "accuracy = accuracy_score(y_test, y_pred)\n",
    "print(f'Accuracy: {accuracy:.2f}')"
   ]
  },
  {
   "cell_type": "code",
   "execution_count": 48,
   "metadata": {},
   "outputs": [
    {
     "name": "stdout",
     "output_type": "stream",
     "text": [
      "Classification Report:\n",
      "               precision    recall  f1-score   support\n",
      "\n",
      "         0.0       0.98      0.70      0.82     95099\n",
      "         1.0       0.12      0.79      0.21      4901\n",
      "\n",
      "    accuracy                           0.71    100000\n",
      "   macro avg       0.55      0.75      0.51    100000\n",
      "weighted avg       0.94      0.71      0.79    100000\n",
      "\n"
     ]
    }
   ],
   "source": [
    "# Display a classification report\n",
    "class_report = classification_report(y_test, y_pred)\n",
    "print('Classification Report:\\n', class_report)"
   ]
  }
 ],
 "metadata": {
  "kernelspec": {
   "display_name": "DSA4266",
   "language": "python",
   "name": "python3"
  },
  "language_info": {
   "codemirror_mode": {
    "name": "ipython",
    "version": 3
   },
   "file_extension": ".py",
   "mimetype": "text/x-python",
   "name": "python",
   "nbconvert_exporter": "python",
   "pygments_lexer": "ipython3",
   "version": "3.10.13"
  }
 },
 "nbformat": 4,
 "nbformat_minor": 2
}
