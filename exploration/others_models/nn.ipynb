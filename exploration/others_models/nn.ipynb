{
 "cells": [
  {
   "cell_type": "code",
   "execution_count": 1,
   "metadata": {},
   "outputs": [],
   "source": [
    "import pandas as pd\n",
    "import numpy as np\n"
   ]
  },
  {
   "cell_type": "code",
   "execution_count": 22,
   "metadata": {},
   "outputs": [],
   "source": [
    "train = pd.read_csv('train_data_new.csv')\n",
    "test = pd.read_csv('test_data_new.csv')"
   ]
  },
  {
   "cell_type": "code",
   "execution_count": 23,
   "metadata": {},
   "outputs": [
    {
     "data": {
      "text/plain": [
       "(949190, 11)"
      ]
     },
     "execution_count": 23,
     "metadata": {},
     "output_type": "execute_result"
    }
   ],
   "source": [
    "train.shape"
   ]
  },
  {
   "cell_type": "code",
   "execution_count": 24,
   "metadata": {},
   "outputs": [
    {
     "data": {
      "text/plain": [
       "(49958, 11)"
      ]
     },
     "execution_count": 24,
     "metadata": {},
     "output_type": "execute_result"
    }
   ],
   "source": [
    "test.shape"
   ]
  },
  {
   "cell_type": "code",
   "execution_count": 25,
   "metadata": {},
   "outputs": [
    {
     "data": {
      "text/html": [
       "<div>\n",
       "<style scoped>\n",
       "    .dataframe tbody tr th:only-of-type {\n",
       "        vertical-align: middle;\n",
       "    }\n",
       "\n",
       "    .dataframe tbody tr th {\n",
       "        vertical-align: top;\n",
       "    }\n",
       "\n",
       "    .dataframe thead th {\n",
       "        text-align: right;\n",
       "    }\n",
       "</style>\n",
       "<table border=\"1\" class=\"dataframe\">\n",
       "  <thead>\n",
       "    <tr style=\"text-align: right;\">\n",
       "      <th></th>\n",
       "      <th>transcript_position</th>\n",
       "      <th>-1_flank_length</th>\n",
       "      <th>-1_flank_std</th>\n",
       "      <th>-1_flank_mean</th>\n",
       "      <th>central_length</th>\n",
       "      <th>central_std</th>\n",
       "      <th>central_mean</th>\n",
       "      <th>+1_flank_length</th>\n",
       "      <th>+1_flank_std</th>\n",
       "      <th>+1_flank_mean</th>\n",
       "      <th>label</th>\n",
       "    </tr>\n",
       "  </thead>\n",
       "  <tbody>\n",
       "    <tr>\n",
       "      <th>0</th>\n",
       "      <td>0.070326</td>\n",
       "      <td>0.005577</td>\n",
       "      <td>0.019601</td>\n",
       "      <td>0.598997</td>\n",
       "      <td>0.018997</td>\n",
       "      <td>0.029356</td>\n",
       "      <td>0.677419</td>\n",
       "      <td>0.026248</td>\n",
       "      <td>0.034558</td>\n",
       "      <td>0.186585</td>\n",
       "      <td>0.0</td>\n",
       "    </tr>\n",
       "    <tr>\n",
       "      <th>1</th>\n",
       "      <td>0.017461</td>\n",
       "      <td>0.025266</td>\n",
       "      <td>0.008820</td>\n",
       "      <td>0.536341</td>\n",
       "      <td>0.038947</td>\n",
       "      <td>0.031589</td>\n",
       "      <td>0.454094</td>\n",
       "      <td>0.034439</td>\n",
       "      <td>0.017915</td>\n",
       "      <td>0.385366</td>\n",
       "      <td>0.0</td>\n",
       "    </tr>\n",
       "    <tr>\n",
       "      <th>2</th>\n",
       "      <td>0.043093</td>\n",
       "      <td>0.081460</td>\n",
       "      <td>0.021107</td>\n",
       "      <td>0.611529</td>\n",
       "      <td>0.016503</td>\n",
       "      <td>0.025957</td>\n",
       "      <td>0.677419</td>\n",
       "      <td>0.019637</td>\n",
       "      <td>0.008289</td>\n",
       "      <td>0.314634</td>\n",
       "      <td>1.0</td>\n",
       "    </tr>\n",
       "    <tr>\n",
       "      <th>3</th>\n",
       "      <td>0.112672</td>\n",
       "      <td>0.084840</td>\n",
       "      <td>0.028732</td>\n",
       "      <td>0.511278</td>\n",
       "      <td>0.036526</td>\n",
       "      <td>0.025277</td>\n",
       "      <td>0.578164</td>\n",
       "      <td>0.075390</td>\n",
       "      <td>0.035483</td>\n",
       "      <td>0.269512</td>\n",
       "      <td>1.0</td>\n",
       "    </tr>\n",
       "    <tr>\n",
       "      <th>4</th>\n",
       "      <td>0.181396</td>\n",
       "      <td>0.079770</td>\n",
       "      <td>0.048109</td>\n",
       "      <td>0.548872</td>\n",
       "      <td>0.082441</td>\n",
       "      <td>0.018091</td>\n",
       "      <td>0.196030</td>\n",
       "      <td>0.138544</td>\n",
       "      <td>0.008669</td>\n",
       "      <td>0.275610</td>\n",
       "      <td>0.0</td>\n",
       "    </tr>\n",
       "  </tbody>\n",
       "</table>\n",
       "</div>"
      ],
      "text/plain": [
       "   transcript_position  -1_flank_length  -1_flank_std  -1_flank_mean  \\\n",
       "0             0.070326         0.005577      0.019601       0.598997   \n",
       "1             0.017461         0.025266      0.008820       0.536341   \n",
       "2             0.043093         0.081460      0.021107       0.611529   \n",
       "3             0.112672         0.084840      0.028732       0.511278   \n",
       "4             0.181396         0.079770      0.048109       0.548872   \n",
       "\n",
       "   central_length  central_std  central_mean  +1_flank_length  +1_flank_std  \\\n",
       "0        0.018997     0.029356      0.677419         0.026248      0.034558   \n",
       "1        0.038947     0.031589      0.454094         0.034439      0.017915   \n",
       "2        0.016503     0.025957      0.677419         0.019637      0.008289   \n",
       "3        0.036526     0.025277      0.578164         0.075390      0.035483   \n",
       "4        0.082441     0.018091      0.196030         0.138544      0.008669   \n",
       "\n",
       "   +1_flank_mean  label  \n",
       "0       0.186585    0.0  \n",
       "1       0.385366    0.0  \n",
       "2       0.314634    1.0  \n",
       "3       0.269512    1.0  \n",
       "4       0.275610    0.0  "
      ]
     },
     "execution_count": 25,
     "metadata": {},
     "output_type": "execute_result"
    }
   ],
   "source": [
    "train.head()"
   ]
  },
  {
   "cell_type": "code",
   "execution_count": 26,
   "metadata": {},
   "outputs": [
    {
     "data": {
      "text/html": [
       "<div>\n",
       "<style scoped>\n",
       "    .dataframe tbody tr th:only-of-type {\n",
       "        vertical-align: middle;\n",
       "    }\n",
       "\n",
       "    .dataframe tbody tr th {\n",
       "        vertical-align: top;\n",
       "    }\n",
       "\n",
       "    .dataframe thead th {\n",
       "        text-align: right;\n",
       "    }\n",
       "</style>\n",
       "<table border=\"1\" class=\"dataframe\">\n",
       "  <thead>\n",
       "    <tr style=\"text-align: right;\">\n",
       "      <th></th>\n",
       "      <th>transcript_position</th>\n",
       "      <th>-1_flank_length</th>\n",
       "      <th>-1_flank_std</th>\n",
       "      <th>-1_flank_mean</th>\n",
       "      <th>central_length</th>\n",
       "      <th>central_std</th>\n",
       "      <th>central_mean</th>\n",
       "      <th>+1_flank_length</th>\n",
       "      <th>+1_flank_std</th>\n",
       "      <th>+1_flank_mean</th>\n",
       "      <th>label</th>\n",
       "    </tr>\n",
       "  </thead>\n",
       "  <tbody>\n",
       "    <tr>\n",
       "      <th>0</th>\n",
       "      <td>0.077001</td>\n",
       "      <td>0.022478</td>\n",
       "      <td>0.010277</td>\n",
       "      <td>0.385965</td>\n",
       "      <td>0.018630</td>\n",
       "      <td>0.007749</td>\n",
       "      <td>0.354839</td>\n",
       "      <td>0.016381</td>\n",
       "      <td>0.011498</td>\n",
       "      <td>0.368293</td>\n",
       "      <td>1.0</td>\n",
       "    </tr>\n",
       "    <tr>\n",
       "      <th>1</th>\n",
       "      <td>0.025471</td>\n",
       "      <td>0.087375</td>\n",
       "      <td>0.005177</td>\n",
       "      <td>0.271930</td>\n",
       "      <td>0.083174</td>\n",
       "      <td>0.007895</td>\n",
       "      <td>0.255583</td>\n",
       "      <td>0.045885</td>\n",
       "      <td>0.017154</td>\n",
       "      <td>0.257317</td>\n",
       "      <td>0.0</td>\n",
       "    </tr>\n",
       "    <tr>\n",
       "      <th>2</th>\n",
       "      <td>0.037272</td>\n",
       "      <td>0.115261</td>\n",
       "      <td>0.023341</td>\n",
       "      <td>0.548872</td>\n",
       "      <td>0.029192</td>\n",
       "      <td>0.015032</td>\n",
       "      <td>0.615385</td>\n",
       "      <td>0.120782</td>\n",
       "      <td>0.008452</td>\n",
       "      <td>0.347561</td>\n",
       "      <td>1.0</td>\n",
       "    </tr>\n",
       "    <tr>\n",
       "      <th>3</th>\n",
       "      <td>0.034816</td>\n",
       "      <td>0.025266</td>\n",
       "      <td>0.020815</td>\n",
       "      <td>0.411028</td>\n",
       "      <td>0.023471</td>\n",
       "      <td>0.010954</td>\n",
       "      <td>0.627792</td>\n",
       "      <td>0.055654</td>\n",
       "      <td>0.010247</td>\n",
       "      <td>0.340244</td>\n",
       "      <td>1.0</td>\n",
       "    </tr>\n",
       "    <tr>\n",
       "      <th>4</th>\n",
       "      <td>0.016660</td>\n",
       "      <td>0.030843</td>\n",
       "      <td>0.016444</td>\n",
       "      <td>0.548872</td>\n",
       "      <td>0.017016</td>\n",
       "      <td>0.033629</td>\n",
       "      <td>0.540943</td>\n",
       "      <td>0.036017</td>\n",
       "      <td>0.021070</td>\n",
       "      <td>0.307317</td>\n",
       "      <td>0.0</td>\n",
       "    </tr>\n",
       "  </tbody>\n",
       "</table>\n",
       "</div>"
      ],
      "text/plain": [
       "   transcript_position  -1_flank_length  -1_flank_std  -1_flank_mean  \\\n",
       "0             0.077001         0.022478      0.010277       0.385965   \n",
       "1             0.025471         0.087375      0.005177       0.271930   \n",
       "2             0.037272         0.115261      0.023341       0.548872   \n",
       "3             0.034816         0.025266      0.020815       0.411028   \n",
       "4             0.016660         0.030843      0.016444       0.548872   \n",
       "\n",
       "   central_length  central_std  central_mean  +1_flank_length  +1_flank_std  \\\n",
       "0        0.018630     0.007749      0.354839         0.016381      0.011498   \n",
       "1        0.083174     0.007895      0.255583         0.045885      0.017154   \n",
       "2        0.029192     0.015032      0.615385         0.120782      0.008452   \n",
       "3        0.023471     0.010954      0.627792         0.055654      0.010247   \n",
       "4        0.017016     0.033629      0.540943         0.036017      0.021070   \n",
       "\n",
       "   +1_flank_mean  label  \n",
       "0       0.368293    1.0  \n",
       "1       0.257317    0.0  \n",
       "2       0.347561    1.0  \n",
       "3       0.340244    1.0  \n",
       "4       0.307317    0.0  "
      ]
     },
     "execution_count": 26,
     "metadata": {},
     "output_type": "execute_result"
    }
   ],
   "source": [
    "test.head()"
   ]
  },
  {
   "cell_type": "code",
   "execution_count": 27,
   "metadata": {},
   "outputs": [],
   "source": [
    "X_train = train.drop([\"label\"], axis=1)\n",
    "y_train = train['label']\n",
    "X_test = test.drop([\"label\"], axis=1)\n",
    "y_test = test['label']"
   ]
  },
  {
   "cell_type": "code",
   "execution_count": 28,
   "metadata": {},
   "outputs": [],
   "source": [
    "import tensorflow as tf\n",
    "from tensorflow.keras.models import Sequential\n",
    "from tensorflow.keras.layers import Dense, Dropout\n",
    "\n",
    "model = Sequential([\n",
    "    Dense(128, activation='relu', input_dim=X_train.shape[1]),\n",
    "    Dropout(0.5),\n",
    "    Dense(64, activation='relu'),\n",
    "    Dropout(0.5),\n",
    "    Dense(32, activation='relu'),\n",
    "    Dense(1, activation='sigmoid')\n",
    "])\n",
    "\n",
    "model.compile(optimizer='adam', loss='binary_crossentropy', metrics=['accuracy'])\n"
   ]
  },
  {
   "cell_type": "code",
   "execution_count": 29,
   "metadata": {},
   "outputs": [
    {
     "name": "stdout",
     "output_type": "stream",
     "text": [
      "Epoch 1/50\n",
      "26696/26696 [==============================] - 157s 6ms/step - loss: 0.5822 - accuracy: 0.6928 - val_loss: 0.5546 - val_accuracy: 0.7175\n",
      "Epoch 2/50\n",
      "26696/26696 [==============================] - 134s 5ms/step - loss: 0.5646 - accuracy: 0.7067 - val_loss: 0.5493 - val_accuracy: 0.7186\n",
      "Epoch 3/50\n",
      "26696/26696 [==============================] - 140s 5ms/step - loss: 0.5603 - accuracy: 0.7099 - val_loss: 0.5453 - val_accuracy: 0.7224\n",
      "Epoch 4/50\n",
      "26696/26696 [==============================] - 147s 6ms/step - loss: 0.5575 - accuracy: 0.7122 - val_loss: 0.5483 - val_accuracy: 0.7243\n",
      "Epoch 5/50\n",
      "26696/26696 [==============================] - 135s 5ms/step - loss: 0.5563 - accuracy: 0.7132 - val_loss: 0.5409 - val_accuracy: 0.7251\n",
      "Epoch 6/50\n",
      "26696/26696 [==============================] - 220s 8ms/step - loss: 0.5549 - accuracy: 0.7141 - val_loss: 0.5402 - val_accuracy: 0.7263\n",
      "Epoch 7/50\n",
      "26696/26696 [==============================] - 142s 5ms/step - loss: 0.5540 - accuracy: 0.7147 - val_loss: 0.5411 - val_accuracy: 0.7252\n",
      "Epoch 8/50\n",
      "26696/26696 [==============================] - 134s 5ms/step - loss: 0.5534 - accuracy: 0.7152 - val_loss: 0.5413 - val_accuracy: 0.7246\n",
      "Epoch 9/50\n",
      "26696/26696 [==============================] - 214s 8ms/step - loss: 0.5526 - accuracy: 0.7158 - val_loss: 0.5406 - val_accuracy: 0.7255\n",
      "Epoch 10/50\n",
      "26696/26696 [==============================] - 133s 5ms/step - loss: 0.5520 - accuracy: 0.7153 - val_loss: 0.5436 - val_accuracy: 0.7261\n",
      "Epoch 11/50\n",
      "26696/26696 [==============================] - 146s 5ms/step - loss: 0.5516 - accuracy: 0.7163 - val_loss: 0.5391 - val_accuracy: 0.7257\n",
      "Epoch 12/50\n",
      "26696/26696 [==============================] - 140s 5ms/step - loss: 0.5513 - accuracy: 0.7160 - val_loss: 0.5438 - val_accuracy: 0.7263\n",
      "Epoch 13/50\n",
      "26696/26696 [==============================] - 103s 4ms/step - loss: 0.5509 - accuracy: 0.7169 - val_loss: 0.5414 - val_accuracy: 0.7276\n",
      "Epoch 14/50\n",
      "26696/26696 [==============================] - 119s 4ms/step - loss: 0.5508 - accuracy: 0.7168 - val_loss: 0.5403 - val_accuracy: 0.7263\n",
      "Epoch 15/50\n",
      "26696/26696 [==============================] - 102s 4ms/step - loss: 0.5505 - accuracy: 0.7170 - val_loss: 0.5415 - val_accuracy: 0.7262\n",
      "Epoch 16/50\n",
      "26696/26696 [==============================] - 98s 4ms/step - loss: 0.5499 - accuracy: 0.7174 - val_loss: 0.5449 - val_accuracy: 0.7260\n",
      "Epoch 17/50\n",
      "26696/26696 [==============================] - 101s 4ms/step - loss: 0.5498 - accuracy: 0.7172 - val_loss: 0.5419 - val_accuracy: 0.7257\n",
      "Epoch 18/50\n",
      "26696/26696 [==============================] - 98s 4ms/step - loss: 0.5494 - accuracy: 0.7177 - val_loss: 0.5417 - val_accuracy: 0.7269\n",
      "Epoch 19/50\n",
      "26696/26696 [==============================] - 93s 3ms/step - loss: 0.5490 - accuracy: 0.7179 - val_loss: 0.5394 - val_accuracy: 0.7266\n",
      "Epoch 20/50\n",
      "26696/26696 [==============================] - 92s 3ms/step - loss: 0.5491 - accuracy: 0.7179 - val_loss: 0.5418 - val_accuracy: 0.7262\n",
      "Epoch 21/50\n",
      "26696/26696 [==============================] - 94s 4ms/step - loss: 0.5489 - accuracy: 0.7183 - val_loss: 0.5374 - val_accuracy: 0.7278\n",
      "Epoch 22/50\n",
      "26696/26696 [==============================] - 102s 4ms/step - loss: 0.5485 - accuracy: 0.7182 - val_loss: 0.5371 - val_accuracy: 0.7278\n",
      "Epoch 23/50\n",
      "26696/26696 [==============================] - 94s 4ms/step - loss: 0.5486 - accuracy: 0.7179 - val_loss: 0.5405 - val_accuracy: 0.7271\n",
      "Epoch 24/50\n",
      "26696/26696 [==============================] - 98s 4ms/step - loss: 0.5486 - accuracy: 0.7178 - val_loss: 0.5396 - val_accuracy: 0.7263\n",
      "Epoch 25/50\n",
      "26696/26696 [==============================] - 91s 3ms/step - loss: 0.5483 - accuracy: 0.7181 - val_loss: 0.5400 - val_accuracy: 0.7263\n",
      "Epoch 26/50\n",
      "26696/26696 [==============================] - 96s 4ms/step - loss: 0.5482 - accuracy: 0.7186 - val_loss: 0.5381 - val_accuracy: 0.7286\n",
      "Epoch 27/50\n",
      "26696/26696 [==============================] - 85s 3ms/step - loss: 0.5481 - accuracy: 0.7183 - val_loss: 0.5415 - val_accuracy: 0.7253\n",
      "Epoch 28/50\n",
      "26696/26696 [==============================] - 97s 4ms/step - loss: 0.5478 - accuracy: 0.7186 - val_loss: 0.5375 - val_accuracy: 0.7276\n",
      "Epoch 29/50\n",
      "26696/26696 [==============================] - 89s 3ms/step - loss: 0.5477 - accuracy: 0.7184 - val_loss: 0.5389 - val_accuracy: 0.7277\n",
      "Epoch 30/50\n",
      "26696/26696 [==============================] - 86s 3ms/step - loss: 0.5475 - accuracy: 0.7190 - val_loss: 0.5360 - val_accuracy: 0.7279\n",
      "Epoch 31/50\n",
      "26696/26696 [==============================] - 86s 3ms/step - loss: 0.5475 - accuracy: 0.7190 - val_loss: 0.5362 - val_accuracy: 0.7280\n",
      "Epoch 32/50\n",
      "26696/26696 [==============================] - 93s 3ms/step - loss: 0.5478 - accuracy: 0.7184 - val_loss: 0.5416 - val_accuracy: 0.7277\n",
      "Epoch 33/50\n",
      "26696/26696 [==============================] - 89s 3ms/step - loss: 0.5469 - accuracy: 0.7191 - val_loss: 0.5364 - val_accuracy: 0.7272\n",
      "Epoch 34/50\n",
      "26696/26696 [==============================] - 87s 3ms/step - loss: 0.5471 - accuracy: 0.7189 - val_loss: 0.5417 - val_accuracy: 0.7258\n",
      "Epoch 35/50\n",
      "26696/26696 [==============================] - 88s 3ms/step - loss: 0.5472 - accuracy: 0.7194 - val_loss: 0.5374 - val_accuracy: 0.7271\n",
      "Epoch 36/50\n",
      "26696/26696 [==============================] - 86s 3ms/step - loss: 0.5472 - accuracy: 0.7186 - val_loss: 0.5411 - val_accuracy: 0.7270\n",
      "Epoch 37/50\n",
      "26696/26696 [==============================] - 93s 3ms/step - loss: 0.5469 - accuracy: 0.7191 - val_loss: 0.5426 - val_accuracy: 0.7270\n",
      "Epoch 38/50\n",
      "26696/26696 [==============================] - 74s 3ms/step - loss: 0.5474 - accuracy: 0.7191 - val_loss: 0.5371 - val_accuracy: 0.7284\n",
      "Epoch 39/50\n",
      "26696/26696 [==============================] - 74s 3ms/step - loss: 0.5468 - accuracy: 0.7192 - val_loss: 0.5394 - val_accuracy: 0.7274\n",
      "Epoch 40/50\n",
      "26696/26696 [==============================] - 62s 2ms/step - loss: 0.5469 - accuracy: 0.7197 - val_loss: 0.5445 - val_accuracy: 0.7255\n",
      "Epoch 41/50\n",
      "26696/26696 [==============================] - 60s 2ms/step - loss: 0.5464 - accuracy: 0.7195 - val_loss: 0.5501 - val_accuracy: 0.7271\n",
      "Epoch 42/50\n",
      "26696/26696 [==============================] - 64s 2ms/step - loss: 0.5466 - accuracy: 0.7193 - val_loss: 0.5383 - val_accuracy: 0.7287\n",
      "Epoch 43/50\n",
      "26696/26696 [==============================] - 60s 2ms/step - loss: 0.5469 - accuracy: 0.7191 - val_loss: 0.5413 - val_accuracy: 0.7267\n",
      "Epoch 44/50\n",
      "26696/26696 [==============================] - 81s 3ms/step - loss: 0.5469 - accuracy: 0.7189 - val_loss: 0.5384 - val_accuracy: 0.7287\n",
      "Epoch 45/50\n",
      "26696/26696 [==============================] - 108s 4ms/step - loss: 0.5468 - accuracy: 0.7192 - val_loss: 0.5369 - val_accuracy: 0.7283\n",
      "Epoch 46/50\n",
      "26696/26696 [==============================] - 105s 4ms/step - loss: 0.5469 - accuracy: 0.7193 - val_loss: 0.5372 - val_accuracy: 0.7273\n",
      "Epoch 47/50\n",
      "26696/26696 [==============================] - 105s 4ms/step - loss: 0.5466 - accuracy: 0.7196 - val_loss: 0.5402 - val_accuracy: 0.7278\n",
      "Epoch 48/50\n",
      "26696/26696 [==============================] - 102s 4ms/step - loss: 0.5464 - accuracy: 0.7195 - val_loss: 0.5384 - val_accuracy: 0.7286\n",
      "Epoch 49/50\n",
      "26696/26696 [==============================] - 104s 4ms/step - loss: 0.5463 - accuracy: 0.7193 - val_loss: 0.5395 - val_accuracy: 0.7270\n",
      "Epoch 50/50\n",
      "26696/26696 [==============================] - 105s 4ms/step - loss: 0.5464 - accuracy: 0.7193 - val_loss: 0.5404 - val_accuracy: 0.7281\n"
     ]
    },
    {
     "data": {
      "text/plain": [
       "<keras.src.callbacks.History at 0x14a662050>"
      ]
     },
     "execution_count": 29,
     "metadata": {},
     "output_type": "execute_result"
    }
   ],
   "source": [
    "model.fit(X_train, y_train, epochs=50, batch_size=32, validation_split=0.1)\n"
   ]
  },
  {
   "cell_type": "code",
   "execution_count": 30,
   "metadata": {},
   "outputs": [
    {
     "name": "stdout",
     "output_type": "stream",
     "text": [
      "1562/1562 [==============================] - 3s 2ms/step - loss: 0.5458 - accuracy: 0.7235\n",
      "Test Accuracy: 72.35%\n"
     ]
    }
   ],
   "source": [
    "loss, accuracy = model.evaluate(X_test, y_test)\n",
    "print(f\"Test Accuracy: {accuracy * 100:.2f}%\")\n"
   ]
  },
  {
   "cell_type": "code",
   "execution_count": 31,
   "metadata": {},
   "outputs": [
    {
     "name": "stdout",
     "output_type": "stream",
     "text": [
      "1562/1562 [==============================] - 2s 1ms/step\n",
      "              precision    recall  f1-score   support\n",
      "\n",
      "         0.0       0.73      0.71      0.72     25034\n",
      "         1.0       0.72      0.73      0.73     24924\n",
      "\n",
      "    accuracy                           0.72     49958\n",
      "   macro avg       0.72      0.72      0.72     49958\n",
      "weighted avg       0.72      0.72      0.72     49958\n",
      "\n"
     ]
    }
   ],
   "source": [
    "from sklearn.metrics import classification_report\n",
    "\n",
    "y_pred = model.predict(X_test)\n",
    "y_pred_classes = (y_pred > 0.5).astype(int)  # Convert probabilities to class labels\n",
    "\n",
    "print(classification_report(y_test, y_pred_classes))\n"
   ]
  },
  {
   "cell_type": "code",
   "execution_count": 32,
   "metadata": {},
   "outputs": [
    {
     "name": "stdout",
     "output_type": "stream",
     "text": [
      "1562/1562 [==============================] - 2s 1ms/step\n"
     ]
    },
    {
     "data": {
      "image/png": "[encoded data removed]",
      "text/plain": [
       "<Figure size 1000x700 with 1 Axes>"
      ]
     },
     "metadata": {},
     "output_type": "display_data"
    }
   ],
   "source": [
    "import numpy as np\n",
    "import matplotlib.pyplot as plt\n",
    "from sklearn.metrics import roc_curve, auc\n",
    "\n",
    "y_pred_probs = model.predict(X_test).ravel()  # Get predicted probabilities\n",
    "\n",
    "fpr, tpr, thresholds = roc_curve(y_test, y_pred_probs)\n",
    "roc_auc = auc(fpr, tpr)\n",
    "\n",
    "plt.figure(figsize=(10, 7))\n",
    "plt.plot(fpr, tpr, color='darkorange', lw=2, label='ROC curve (AUC = %0.2f)' % roc_auc)\n",
    "plt.plot([0, 1], [0, 1], color='navy', lw=2, linestyle='--')  # Diagonal line\n",
    "plt.xlim([0.0, 1.0])\n",
    "plt.ylim([0.0, 1.05])\n",
    "plt.xlabel('False Positive Rate')\n",
    "plt.ylabel('True Positive Rate')\n",
    "plt.title('Receiver Operating Characteristic (ROC) Curve')\n",
    "plt.legend(loc=\"lower right\")\n",
    "plt.show()\n"
   ]
  }
 ],
 "metadata": {
  "kernelspec": {
   "display_name": "Python 3.11.4 64-bit",
   "language": "python",
   "name": "python3"
  },
  "language_info": {
   "codemirror_mode": {
    "name": "ipython",
    "version": 3
   },
   "file_extension": ".py",
   "mimetype": "text/x-python",
   "name": "python",
   "nbconvert_exporter": "python",
   "pygments_lexer": "ipython3",
   "version": "3.11.4"
  },
  "orig_nbformat": 4,
  "vscode": {
   "interpreter": {
    "hash": "aee8b7b246df8f9039afb4144a1f6fd8d2ca17a180786b69acc140d282b71a49"
   }
  }
 },
 "nbformat": 4,
 "nbformat_minor": 2
}
