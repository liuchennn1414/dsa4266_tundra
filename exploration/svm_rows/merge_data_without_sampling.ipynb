{
 "cells": [
  {
   "cell_type": "markdown",
   "id": "0681eaf0",
   "metadata": {},
   "source": [
    "# Data Parsing and Visualisation \n",
    "--- \n",
    "This notebook demonstrates how we conduct data parsing and some simple EDA to visualise and analyse the data. \n",
    "\n",
    "## Part 1: Data Parsing \n",
    "The following is what we have done (in order): \n",
    "1. Read in data info csv as info, unzip dataset0.json.gz and read in the json data. \n",
    "2. Calculate the mean, median, std, min, max for the length, std and mean of the signal at each of the 3 positions (1-,central, 1+) and save the results into result_df. We have then generated 45 numerical features from our dataset0. \n",
    "3. Merged result_df with the label data. The final merged_data df have 121838 rows and 50 columns. "
   ]
  },
  {
   "cell_type": "code",
   "execution_count": 1,
   "id": "edcc007d-16ea-4453-a1a9-363baa2796a2",
   "metadata": {},
   "outputs": [],
   "source": [
    "import json\n",
    "import pandas as pd"
   ]
  },
  {
   "cell_type": "markdown",
   "id": "b6dc0b8d",
   "metadata": {},
   "source": [
    "Please modify the datapath based on your local directory "
   ]
  },
  {
   "cell_type": "code",
   "execution_count": 2,
   "id": "220f459e",
   "metadata": {},
   "outputs": [
    {
     "name": "stderr",
     "output_type": "stream",
     "text": [
      "'gzip' is not recognized as an internal or external command,\n",
      "operable program or batch file.\n"
     ]
    }
   ],
   "source": [
    "!gzip -d data/dataset0.json.gz"
   ]
  },
  {
   "cell_type": "code",
   "execution_count": 3,
   "id": "616121cb",
   "metadata": {},
   "outputs": [],
   "source": [
    "info = pd.read_csv(\"data/data.info\")"
   ]
  },
  {
   "cell_type": "markdown",
   "id": "0fc50e02",
   "metadata": {},
   "source": [
    "Before you run the following code, run !gzip -d dataset0.json.gz in the terminal to unzip the data file "
   ]
  },
  {
   "cell_type": "code",
   "execution_count": 4,
   "id": "b76e06b0-8294-4505-8970-80fc29a289e7",
   "metadata": {},
   "outputs": [],
   "source": [
    "data_list = []\n",
    "\n",
    "with open('data/dataset0.json', 'r') as json_file:\n",
    "    for line in json_file:\n",
    "        data = json.loads(line)\n",
    "        data_list.append(data)\n"
   ]
  },
  {
   "cell_type": "code",
   "execution_count": 5,
   "id": "c2079ad0",
   "metadata": {},
   "outputs": [
    {
     "name": "stdout",
     "output_type": "stream",
     "text": [
      "0\n",
      "10000\n",
      "20000\n",
      "30000\n",
      "40000\n",
      "50000\n",
      "60000\n",
      "70000\n",
      "80000\n",
      "90000\n",
      "100000\n",
      "110000\n",
      "120000\n",
      "done\n"
     ]
    }
   ],
   "source": [
    "def explore_dataset(data_list):\n",
    "    a_results = []\n",
    "    i = 0\n",
    "    for data in data_list:\n",
    "        trans_id, first = next(iter(data.items()))\n",
    "        position, second = next(iter(first.items()))\n",
    "        sequence, data = next(iter(second.items()))\n",
    "        fixed_features = [trans_id, position, sequence]\n",
    "        for obs in data:\n",
    "            a_results.append(fixed_features + obs)\n",
    "        if (i % 10000 == 0):\n",
    "            print(i)\n",
    "        i += 1\n",
    "    print(\"done\")\n",
    "    return a_results\n",
    "\n",
    "results = explore_dataset(data_list)"
   ]
  },
  {
   "cell_type": "code",
   "execution_count": 6,
   "id": "9ad2b923",
   "metadata": {},
   "outputs": [],
   "source": [
    "result_df = pd.DataFrame(results)"
   ]
  },
  {
   "cell_type": "code",
   "execution_count": 7,
   "id": "9a3bf8db",
   "metadata": {},
   "outputs": [
    {
     "name": "stdout",
     "output_type": "stream",
     "text": [
      "['transcript_id', 'transcript_position', 'sequence', '-1_flank_length', '-1_flank_std', '-1_flank_mean', 'central_length', 'central_std', 'central_mean', '+1_flank_length', '+1_flank_std', '+1_flank_mean']\n"
     ]
    }
   ],
   "source": [
    "colnames = ['transcript_id', 'transcript_position', 'sequence']\n",
    "for i in ['-1_flank', 'central', '+1_flank']:\n",
    "    for j in [\"length\", \"std\", \"mean\"]:\n",
    "        colnames.append(i + '_' + j)\n",
    "print(colnames)\n",
    "result_df.columns = colnames"
   ]
  },
  {
   "cell_type": "code",
   "execution_count": 8,
   "id": "9ffc1f62",
   "metadata": {},
   "outputs": [
    {
     "data": {
      "text/plain": [
       "(11027106, 12)"
      ]
     },
     "execution_count": 8,
     "metadata": {},
     "output_type": "execute_result"
    }
   ],
   "source": [
    "result_df.shape"
   ]
  },
  {
   "cell_type": "code",
   "execution_count": 9,
   "id": "e0841689",
   "metadata": {},
   "outputs": [],
   "source": [
    "result_df['transcript_position'] = result_df['transcript_position'].astype(int)"
   ]
  },
  {
   "cell_type": "code",
   "execution_count": 10,
   "id": "2d543cd8",
   "metadata": {},
   "outputs": [
    {
     "data": {
      "text/html": [
       "<div>\n",
       "<style scoped>\n",
       "    .dataframe tbody tr th:only-of-type {\n",
       "        vertical-align: middle;\n",
       "    }\n",
       "\n",
       "    .dataframe tbody tr th {\n",
       "        vertical-align: top;\n",
       "    }\n",
       "\n",
       "    .dataframe thead th {\n",
       "        text-align: right;\n",
       "    }\n",
       "</style>\n",
       "<table border=\"1\" class=\"dataframe\">\n",
       "  <thead>\n",
       "    <tr style=\"text-align: right;\">\n",
       "      <th></th>\n",
       "      <th>transcript_id</th>\n",
       "      <th>transcript_position</th>\n",
       "      <th>sequence</th>\n",
       "      <th>-1_flank_length</th>\n",
       "      <th>-1_flank_std</th>\n",
       "      <th>-1_flank_mean</th>\n",
       "      <th>central_length</th>\n",
       "      <th>central_std</th>\n",
       "      <th>central_mean</th>\n",
       "      <th>+1_flank_length</th>\n",
       "      <th>+1_flank_std</th>\n",
       "      <th>+1_flank_mean</th>\n",
       "    </tr>\n",
       "  </thead>\n",
       "  <tbody>\n",
       "    <tr>\n",
       "      <th>0</th>\n",
       "      <td>ENST00000000233</td>\n",
       "      <td>244</td>\n",
       "      <td>AAGACCA</td>\n",
       "      <td>0.00299</td>\n",
       "      <td>2.06</td>\n",
       "      <td>125.0</td>\n",
       "      <td>0.01770</td>\n",
       "      <td>10.40</td>\n",
       "      <td>122.0</td>\n",
       "      <td>0.00930</td>\n",
       "      <td>10.90</td>\n",
       "      <td>84.1</td>\n",
       "    </tr>\n",
       "    <tr>\n",
       "      <th>1</th>\n",
       "      <td>ENST00000000233</td>\n",
       "      <td>244</td>\n",
       "      <td>AAGACCA</td>\n",
       "      <td>0.00631</td>\n",
       "      <td>2.53</td>\n",
       "      <td>125.0</td>\n",
       "      <td>0.00844</td>\n",
       "      <td>4.67</td>\n",
       "      <td>126.0</td>\n",
       "      <td>0.01030</td>\n",
       "      <td>6.30</td>\n",
       "      <td>80.9</td>\n",
       "    </tr>\n",
       "    <tr>\n",
       "      <th>2</th>\n",
       "      <td>ENST00000000233</td>\n",
       "      <td>244</td>\n",
       "      <td>AAGACCA</td>\n",
       "      <td>0.00465</td>\n",
       "      <td>3.92</td>\n",
       "      <td>109.0</td>\n",
       "      <td>0.01360</td>\n",
       "      <td>12.00</td>\n",
       "      <td>124.0</td>\n",
       "      <td>0.00498</td>\n",
       "      <td>2.13</td>\n",
       "      <td>79.6</td>\n",
       "    </tr>\n",
       "    <tr>\n",
       "      <th>3</th>\n",
       "      <td>ENST00000000233</td>\n",
       "      <td>244</td>\n",
       "      <td>AAGACCA</td>\n",
       "      <td>0.00398</td>\n",
       "      <td>2.06</td>\n",
       "      <td>125.0</td>\n",
       "      <td>0.00830</td>\n",
       "      <td>5.01</td>\n",
       "      <td>130.0</td>\n",
       "      <td>0.00498</td>\n",
       "      <td>3.78</td>\n",
       "      <td>80.4</td>\n",
       "    </tr>\n",
       "    <tr>\n",
       "      <th>4</th>\n",
       "      <td>ENST00000000233</td>\n",
       "      <td>244</td>\n",
       "      <td>AAGACCA</td>\n",
       "      <td>0.00664</td>\n",
       "      <td>2.92</td>\n",
       "      <td>120.0</td>\n",
       "      <td>0.00266</td>\n",
       "      <td>3.94</td>\n",
       "      <td>129.0</td>\n",
       "      <td>0.01300</td>\n",
       "      <td>7.15</td>\n",
       "      <td>82.2</td>\n",
       "    </tr>\n",
       "  </tbody>\n",
       "</table>\n",
       "</div>"
      ],
      "text/plain": [
       "     transcript_id  transcript_position sequence  -1_flank_length  \\\n",
       "0  ENST00000000233                  244  AAGACCA          0.00299   \n",
       "1  ENST00000000233                  244  AAGACCA          0.00631   \n",
       "2  ENST00000000233                  244  AAGACCA          0.00465   \n",
       "3  ENST00000000233                  244  AAGACCA          0.00398   \n",
       "4  ENST00000000233                  244  AAGACCA          0.00664   \n",
       "\n",
       "   -1_flank_std  -1_flank_mean  central_length  central_std  central_mean  \\\n",
       "0          2.06          125.0         0.01770        10.40         122.0   \n",
       "1          2.53          125.0         0.00844         4.67         126.0   \n",
       "2          3.92          109.0         0.01360        12.00         124.0   \n",
       "3          2.06          125.0         0.00830         5.01         130.0   \n",
       "4          2.92          120.0         0.00266         3.94         129.0   \n",
       "\n",
       "   +1_flank_length  +1_flank_std  +1_flank_mean  \n",
       "0          0.00930         10.90           84.1  \n",
       "1          0.01030          6.30           80.9  \n",
       "2          0.00498          2.13           79.6  \n",
       "3          0.00498          3.78           80.4  \n",
       "4          0.01300          7.15           82.2  "
      ]
     },
     "execution_count": 10,
     "metadata": {},
     "output_type": "execute_result"
    }
   ],
   "source": [
    "result_df.head()"
   ]
  },
  {
   "cell_type": "code",
   "execution_count": 11,
   "id": "8a01f198",
   "metadata": {},
   "outputs": [
    {
     "data": {
      "text/html": [
       "<div>\n",
       "<style scoped>\n",
       "    .dataframe tbody tr th:only-of-type {\n",
       "        vertical-align: middle;\n",
       "    }\n",
       "\n",
       "    .dataframe tbody tr th {\n",
       "        vertical-align: top;\n",
       "    }\n",
       "\n",
       "    .dataframe thead th {\n",
       "        text-align: right;\n",
       "    }\n",
       "</style>\n",
       "<table border=\"1\" class=\"dataframe\">\n",
       "  <thead>\n",
       "    <tr style=\"text-align: right;\">\n",
       "      <th></th>\n",
       "      <th>gene_id</th>\n",
       "      <th>transcript_id</th>\n",
       "      <th>transcript_position</th>\n",
       "      <th>label</th>\n",
       "    </tr>\n",
       "  </thead>\n",
       "  <tbody>\n",
       "    <tr>\n",
       "      <th>0</th>\n",
       "      <td>ENSG00000004059</td>\n",
       "      <td>ENST00000000233</td>\n",
       "      <td>244</td>\n",
       "      <td>0</td>\n",
       "    </tr>\n",
       "    <tr>\n",
       "      <th>1</th>\n",
       "      <td>ENSG00000004059</td>\n",
       "      <td>ENST00000000233</td>\n",
       "      <td>261</td>\n",
       "      <td>0</td>\n",
       "    </tr>\n",
       "    <tr>\n",
       "      <th>2</th>\n",
       "      <td>ENSG00000004059</td>\n",
       "      <td>ENST00000000233</td>\n",
       "      <td>316</td>\n",
       "      <td>0</td>\n",
       "    </tr>\n",
       "    <tr>\n",
       "      <th>3</th>\n",
       "      <td>ENSG00000004059</td>\n",
       "      <td>ENST00000000233</td>\n",
       "      <td>332</td>\n",
       "      <td>0</td>\n",
       "    </tr>\n",
       "    <tr>\n",
       "      <th>4</th>\n",
       "      <td>ENSG00000004059</td>\n",
       "      <td>ENST00000000233</td>\n",
       "      <td>368</td>\n",
       "      <td>0</td>\n",
       "    </tr>\n",
       "  </tbody>\n",
       "</table>\n",
       "</div>"
      ],
      "text/plain": [
       "           gene_id    transcript_id  transcript_position  label\n",
       "0  ENSG00000004059  ENST00000000233                  244      0\n",
       "1  ENSG00000004059  ENST00000000233                  261      0\n",
       "2  ENSG00000004059  ENST00000000233                  316      0\n",
       "3  ENSG00000004059  ENST00000000233                  332      0\n",
       "4  ENSG00000004059  ENST00000000233                  368      0"
      ]
     },
     "execution_count": 11,
     "metadata": {},
     "output_type": "execute_result"
    }
   ],
   "source": [
    "info.head()"
   ]
  },
  {
   "cell_type": "code",
   "execution_count": 12,
   "id": "557a71e7",
   "metadata": {},
   "outputs": [],
   "source": [
    "merged_data = pd.merge(result_df, info, on=['transcript_id', 'transcript_position'], how='inner')"
   ]
  },
  {
   "cell_type": "code",
   "execution_count": 13,
   "id": "c2849998",
   "metadata": {},
   "outputs": [
    {
     "data": {
      "text/html": [
       "<div>\n",
       "<style scoped>\n",
       "    .dataframe tbody tr th:only-of-type {\n",
       "        vertical-align: middle;\n",
       "    }\n",
       "\n",
       "    .dataframe tbody tr th {\n",
       "        vertical-align: top;\n",
       "    }\n",
       "\n",
       "    .dataframe thead th {\n",
       "        text-align: right;\n",
       "    }\n",
       "</style>\n",
       "<table border=\"1\" class=\"dataframe\">\n",
       "  <thead>\n",
       "    <tr style=\"text-align: right;\">\n",
       "      <th></th>\n",
       "      <th>transcript_id</th>\n",
       "      <th>transcript_position</th>\n",
       "      <th>sequence</th>\n",
       "      <th>-1_flank_length</th>\n",
       "      <th>-1_flank_std</th>\n",
       "      <th>-1_flank_mean</th>\n",
       "      <th>central_length</th>\n",
       "      <th>central_std</th>\n",
       "      <th>central_mean</th>\n",
       "      <th>+1_flank_length</th>\n",
       "      <th>+1_flank_std</th>\n",
       "      <th>+1_flank_mean</th>\n",
       "      <th>gene_id</th>\n",
       "      <th>label</th>\n",
       "    </tr>\n",
       "  </thead>\n",
       "  <tbody>\n",
       "    <tr>\n",
       "      <th>0</th>\n",
       "      <td>ENST00000000233</td>\n",
       "      <td>244</td>\n",
       "      <td>AAGACCA</td>\n",
       "      <td>0.00299</td>\n",
       "      <td>2.06</td>\n",
       "      <td>125.0</td>\n",
       "      <td>0.01770</td>\n",
       "      <td>10.40</td>\n",
       "      <td>122.0</td>\n",
       "      <td>0.00930</td>\n",
       "      <td>10.90</td>\n",
       "      <td>84.1</td>\n",
       "      <td>ENSG00000004059</td>\n",
       "      <td>0</td>\n",
       "    </tr>\n",
       "    <tr>\n",
       "      <th>1</th>\n",
       "      <td>ENST00000000233</td>\n",
       "      <td>244</td>\n",
       "      <td>AAGACCA</td>\n",
       "      <td>0.00631</td>\n",
       "      <td>2.53</td>\n",
       "      <td>125.0</td>\n",
       "      <td>0.00844</td>\n",
       "      <td>4.67</td>\n",
       "      <td>126.0</td>\n",
       "      <td>0.01030</td>\n",
       "      <td>6.30</td>\n",
       "      <td>80.9</td>\n",
       "      <td>ENSG00000004059</td>\n",
       "      <td>0</td>\n",
       "    </tr>\n",
       "    <tr>\n",
       "      <th>2</th>\n",
       "      <td>ENST00000000233</td>\n",
       "      <td>244</td>\n",
       "      <td>AAGACCA</td>\n",
       "      <td>0.00465</td>\n",
       "      <td>3.92</td>\n",
       "      <td>109.0</td>\n",
       "      <td>0.01360</td>\n",
       "      <td>12.00</td>\n",
       "      <td>124.0</td>\n",
       "      <td>0.00498</td>\n",
       "      <td>2.13</td>\n",
       "      <td>79.6</td>\n",
       "      <td>ENSG00000004059</td>\n",
       "      <td>0</td>\n",
       "    </tr>\n",
       "    <tr>\n",
       "      <th>3</th>\n",
       "      <td>ENST00000000233</td>\n",
       "      <td>244</td>\n",
       "      <td>AAGACCA</td>\n",
       "      <td>0.00398</td>\n",
       "      <td>2.06</td>\n",
       "      <td>125.0</td>\n",
       "      <td>0.00830</td>\n",
       "      <td>5.01</td>\n",
       "      <td>130.0</td>\n",
       "      <td>0.00498</td>\n",
       "      <td>3.78</td>\n",
       "      <td>80.4</td>\n",
       "      <td>ENSG00000004059</td>\n",
       "      <td>0</td>\n",
       "    </tr>\n",
       "    <tr>\n",
       "      <th>4</th>\n",
       "      <td>ENST00000000233</td>\n",
       "      <td>244</td>\n",
       "      <td>AAGACCA</td>\n",
       "      <td>0.00664</td>\n",
       "      <td>2.92</td>\n",
       "      <td>120.0</td>\n",
       "      <td>0.00266</td>\n",
       "      <td>3.94</td>\n",
       "      <td>129.0</td>\n",
       "      <td>0.01300</td>\n",
       "      <td>7.15</td>\n",
       "      <td>82.2</td>\n",
       "      <td>ENSG00000004059</td>\n",
       "      <td>0</td>\n",
       "    </tr>\n",
       "  </tbody>\n",
       "</table>\n",
       "</div>"
      ],
      "text/plain": [
       "     transcript_id  transcript_position sequence  -1_flank_length  \\\n",
       "0  ENST00000000233                  244  AAGACCA          0.00299   \n",
       "1  ENST00000000233                  244  AAGACCA          0.00631   \n",
       "2  ENST00000000233                  244  AAGACCA          0.00465   \n",
       "3  ENST00000000233                  244  AAGACCA          0.00398   \n",
       "4  ENST00000000233                  244  AAGACCA          0.00664   \n",
       "\n",
       "   -1_flank_std  -1_flank_mean  central_length  central_std  central_mean  \\\n",
       "0          2.06          125.0         0.01770        10.40         122.0   \n",
       "1          2.53          125.0         0.00844         4.67         126.0   \n",
       "2          3.92          109.0         0.01360        12.00         124.0   \n",
       "3          2.06          125.0         0.00830         5.01         130.0   \n",
       "4          2.92          120.0         0.00266         3.94         129.0   \n",
       "\n",
       "   +1_flank_length  +1_flank_std  +1_flank_mean          gene_id  label  \n",
       "0          0.00930         10.90           84.1  ENSG00000004059      0  \n",
       "1          0.01030          6.30           80.9  ENSG00000004059      0  \n",
       "2          0.00498          2.13           79.6  ENSG00000004059      0  \n",
       "3          0.00498          3.78           80.4  ENSG00000004059      0  \n",
       "4          0.01300          7.15           82.2  ENSG00000004059      0  "
      ]
     },
     "execution_count": 13,
     "metadata": {},
     "output_type": "execute_result"
    }
   ],
   "source": [
    "merged_data.head()"
   ]
  },
  {
   "cell_type": "code",
   "execution_count": 15,
   "id": "80e4e9d7",
   "metadata": {},
   "outputs": [
    {
     "data": {
      "text/plain": [
       "(11027106, 14)"
      ]
     },
     "execution_count": 15,
     "metadata": {},
     "output_type": "execute_result"
    }
   ],
   "source": [
    "merged_data.shape"
   ]
  },
  {
   "cell_type": "code",
   "execution_count": 16,
   "id": "2ba1008e",
   "metadata": {},
   "outputs": [
    {
     "data": {
      "text/plain": [
       "<Axes: xlabel='label'>"
      ]
     },
     "execution_count": 16,
     "metadata": {},
     "output_type": "execute_result"
    },
    {
     "data": {
      "image/png": "[encoded data removed]",
      "text/plain": [
       "<Figure size 640x480 with 1 Axes>"
      ]
     },
     "metadata": {},
     "output_type": "display_data"
    }
   ],
   "source": [
    "# View distribution of labels \n",
    "merged_data['label'].value_counts().plot(kind='bar')"
   ]
  },
  {
   "cell_type": "code",
   "execution_count": 14,
   "id": "53b4f5a9",
   "metadata": {},
   "outputs": [],
   "source": [
    "file_path = \"data/merged_data.csv\"\n",
    "\n",
    "merged_data.to_csv(file_path, index=False)"
   ]
  },
  {
   "cell_type": "markdown",
   "id": "b4b9f0bf",
   "metadata": {},
   "source": [
    "The data is highly imbalanced. given the large size of the data, we may consider to perform undersampling to truncate the label 0 to handle the imbalanced dataset. "
   ]
  }
 ],
 "metadata": {
  "kernelspec": {
   "display_name": "Python 3.11.4 64-bit",
   "language": "python",
   "name": "python3"
  },
  "language_info": {
   "codemirror_mode": {
    "name": "ipython",
    "version": 3
   },
   "file_extension": ".py",
   "mimetype": "text/x-python",
   "name": "python",
   "nbconvert_exporter": "python",
   "pygments_lexer": "ipython3",
   "version": "3.10.13"
  },
  "vscode": {
   "interpreter": {
    "hash": "aee8b7b246df8f9039afb4144a1f6fd8d2ca17a180786b69acc140d282b71a49"
   }
  }
 },
 "nbformat": 4,
 "nbformat_minor": 5
}
