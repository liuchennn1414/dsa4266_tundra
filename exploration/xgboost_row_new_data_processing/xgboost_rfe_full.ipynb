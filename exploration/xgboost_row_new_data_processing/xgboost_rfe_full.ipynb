{
 "cells": [
  {
   "cell_type": "code",
   "execution_count": 1,
   "metadata": {},
   "outputs": [],
   "source": [
    "import pandas as pd\n",
    "import numpy as np \n",
    "import xgboost as xgb\n",
    "from sklearn.metrics import classification_report\n",
    "from sklearn.metrics import accuracy_score\n",
    "import matplotlib.pyplot as plt\n",
    "from sklearn.metrics import roc_curve, auc"
   ]
  },
  {
   "cell_type": "code",
   "execution_count": 10,
   "metadata": {},
   "outputs": [],
   "source": [
    "train = pd.read_csv('data/no_normalize_data_train.csv')\n",
    "test = pd.read_csv('data/no_normalize_data_test.csv')"
   ]
  },
  {
   "cell_type": "code",
   "execution_count": null,
   "metadata": {},
   "outputs": [],
   "source": []
  },
  {
   "cell_type": "code",
   "execution_count": 11,
   "metadata": {},
   "outputs": [],
   "source": [
    "X_train = train.drop(['label'], axis=1)\n",
    "y_train = train['label']\n",
    "X_test = test.drop(['label'], axis=1)\n",
    "y_test = test['label']"
   ]
  },
  {
   "cell_type": "code",
   "execution_count": null,
   "metadata": {},
   "outputs": [],
   "source": []
  },
  {
   "cell_type": "code",
   "execution_count": 19,
   "metadata": {},
   "outputs": [
    {
     "name": "stdout",
     "output_type": "stream",
     "text": [
      "[[0.         0.01286912 0.09738294 ... 0.0644931  0.10122221 0.01281356]\n",
      " [0.         0.01286912 0.03952288 ... 0.0644931  0.10122221 0.01281356]\n",
      " [0.         0.01286912 0.09471248 ... 0.0644931  0.10122221 0.01281356]\n",
      " ...\n",
      " [1.         0.09024403 0.03329179 ... 0.01798474 0.19739731 0.58902962]\n",
      " [1.         0.09024403 0.02812889 ... 0.01798474 0.19739731 0.58902962]\n",
      " [1.         0.09024403 0.14456115 ... 0.01798474 0.19739731 0.58902962]]\n",
      "[[0.         0.05477198 0.02030829 ... 0.02915311 0.02377856 0.02264808]\n",
      " [0.         0.05477198 0.02838268 ... 0.02915311 0.02377856 0.02264808]\n",
      " [0.         0.05477198 0.06092488 ... 0.02915311 0.02377856 0.02264808]\n",
      " ...\n",
      " [1.         0.38340386 0.02838268 ... 0.01411083 0.03108806 1.        ]\n",
      " [1.         0.38340386 0.03963788 ... 0.01411083 0.03108806 1.        ]\n",
      " [1.         0.38340386 0.08123318 ... 0.01411083 0.03108806 1.        ]]\n"
     ]
    }
   ],
   "source": [
    "from sklearn import preprocessing\n",
    "scaler = preprocessing.MinMaxScaler()\n",
    "d = scaler.fit_transform(X_train)\n",
    "print(d)\n",
    "X_train = pd.DataFrame(d, columns=X_train.columns)\n",
    "d = scaler.fit_transform(X_test)\n",
    "print(d)\n",
    "X_test = pd.DataFrame(d, columns=X_test.columns)"
   ]
  },
  {
   "cell_type": "code",
   "execution_count": 20,
   "metadata": {},
   "outputs": [
    {
     "data": {
      "text/html": [
       "<div>\n",
       "<style scoped>\n",
       "    .dataframe tbody tr th:only-of-type {\n",
       "        vertical-align: middle;\n",
       "    }\n",
       "\n",
       "    .dataframe tbody tr th {\n",
       "        vertical-align: top;\n",
       "    }\n",
       "\n",
       "    .dataframe thead th {\n",
       "        text-align: right;\n",
       "    }\n",
       "</style>\n",
       "<table border=\"1\" class=\"dataframe\">\n",
       "  <thead>\n",
       "    <tr style=\"text-align: right;\">\n",
       "      <th></th>\n",
       "      <th>transcript_id</th>\n",
       "      <th>transcript_position</th>\n",
       "      <th>-1_flank_length</th>\n",
       "      <th>-1_flank_std</th>\n",
       "      <th>-1_flank_mean</th>\n",
       "      <th>central_length</th>\n",
       "      <th>central_std</th>\n",
       "      <th>central_mean</th>\n",
       "      <th>+1_flank_length</th>\n",
       "      <th>+1_flank_std</th>\n",
       "      <th>...</th>\n",
       "      <th>-1_flank_length_std</th>\n",
       "      <th>-1_flank_std_std</th>\n",
       "      <th>-1_flank_mean_std</th>\n",
       "      <th>central_length_std</th>\n",
       "      <th>central_std_std</th>\n",
       "      <th>central_mean_std</th>\n",
       "      <th>+1_flank_length_std</th>\n",
       "      <th>+1_flank_std_std</th>\n",
       "      <th>+1_flank_mean_std</th>\n",
       "      <th>gene_id</th>\n",
       "    </tr>\n",
       "  </thead>\n",
       "  <tbody>\n",
       "    <tr>\n",
       "      <th>0</th>\n",
       "      <td>0.0</td>\n",
       "      <td>0.012869</td>\n",
       "      <td>0.097383</td>\n",
       "      <td>0.017609</td>\n",
       "      <td>0.693095</td>\n",
       "      <td>0.025547</td>\n",
       "      <td>0.035586</td>\n",
       "      <td>0.673913</td>\n",
       "      <td>0.035452</td>\n",
       "      <td>0.014684</td>\n",
       "      <td>...</td>\n",
       "      <td>0.114449</td>\n",
       "      <td>0.019897</td>\n",
       "      <td>0.235959</td>\n",
       "      <td>0.255451</td>\n",
       "      <td>0.080439</td>\n",
       "      <td>0.207596</td>\n",
       "      <td>0.214301</td>\n",
       "      <td>0.064493</td>\n",
       "      <td>0.101222</td>\n",
       "      <td>0.012814</td>\n",
       "    </tr>\n",
       "    <tr>\n",
       "      <th>1</th>\n",
       "      <td>0.0</td>\n",
       "      <td>0.012869</td>\n",
       "      <td>0.039523</td>\n",
       "      <td>0.018678</td>\n",
       "      <td>0.603581</td>\n",
       "      <td>0.101026</td>\n",
       "      <td>0.041302</td>\n",
       "      <td>0.633152</td>\n",
       "      <td>0.007825</td>\n",
       "      <td>0.006867</td>\n",
       "      <td>...</td>\n",
       "      <td>0.114449</td>\n",
       "      <td>0.019897</td>\n",
       "      <td>0.235959</td>\n",
       "      <td>0.255451</td>\n",
       "      <td>0.080439</td>\n",
       "      <td>0.207596</td>\n",
       "      <td>0.214301</td>\n",
       "      <td>0.064493</td>\n",
       "      <td>0.101222</td>\n",
       "      <td>0.012814</td>\n",
       "    </tr>\n",
       "    <tr>\n",
       "      <th>2</th>\n",
       "      <td>0.0</td>\n",
       "      <td>0.012869</td>\n",
       "      <td>0.094712</td>\n",
       "      <td>0.023779</td>\n",
       "      <td>0.411765</td>\n",
       "      <td>0.115541</td>\n",
       "      <td>0.053133</td>\n",
       "      <td>0.687500</td>\n",
       "      <td>0.027626</td>\n",
       "      <td>0.019852</td>\n",
       "      <td>...</td>\n",
       "      <td>0.114449</td>\n",
       "      <td>0.019897</td>\n",
       "      <td>0.235959</td>\n",
       "      <td>0.255451</td>\n",
       "      <td>0.080439</td>\n",
       "      <td>0.207596</td>\n",
       "      <td>0.214301</td>\n",
       "      <td>0.064493</td>\n",
       "      <td>0.101222</td>\n",
       "      <td>0.012814</td>\n",
       "    </tr>\n",
       "    <tr>\n",
       "      <th>3</th>\n",
       "      <td>0.0</td>\n",
       "      <td>0.012869</td>\n",
       "      <td>0.022699</td>\n",
       "      <td>0.021010</td>\n",
       "      <td>0.641944</td>\n",
       "      <td>0.049158</td>\n",
       "      <td>0.028441</td>\n",
       "      <td>0.714674</td>\n",
       "      <td>0.065212</td>\n",
       "      <td>0.021920</td>\n",
       "      <td>...</td>\n",
       "      <td>0.114449</td>\n",
       "      <td>0.019897</td>\n",
       "      <td>0.235959</td>\n",
       "      <td>0.255451</td>\n",
       "      <td>0.080439</td>\n",
       "      <td>0.207596</td>\n",
       "      <td>0.214301</td>\n",
       "      <td>0.064493</td>\n",
       "      <td>0.101222</td>\n",
       "      <td>0.012814</td>\n",
       "    </tr>\n",
       "    <tr>\n",
       "      <th>4</th>\n",
       "      <td>0.0</td>\n",
       "      <td>0.012869</td>\n",
       "      <td>0.112516</td>\n",
       "      <td>0.018873</td>\n",
       "      <td>0.641944</td>\n",
       "      <td>0.116509</td>\n",
       "      <td>0.056048</td>\n",
       "      <td>0.673913</td>\n",
       "      <td>0.185440</td>\n",
       "      <td>0.051055</td>\n",
       "      <td>...</td>\n",
       "      <td>0.114449</td>\n",
       "      <td>0.019897</td>\n",
       "      <td>0.235959</td>\n",
       "      <td>0.255451</td>\n",
       "      <td>0.080439</td>\n",
       "      <td>0.207596</td>\n",
       "      <td>0.214301</td>\n",
       "      <td>0.064493</td>\n",
       "      <td>0.101222</td>\n",
       "      <td>0.012814</td>\n",
       "    </tr>\n",
       "  </tbody>\n",
       "</table>\n",
       "<p>5 rows × 31 columns</p>\n",
       "</div>"
      ],
      "text/plain": [
       "   transcript_id  transcript_position  -1_flank_length  -1_flank_std  \\\n",
       "0            0.0             0.012869         0.097383      0.017609   \n",
       "1            0.0             0.012869         0.039523      0.018678   \n",
       "2            0.0             0.012869         0.094712      0.023779   \n",
       "3            0.0             0.012869         0.022699      0.021010   \n",
       "4            0.0             0.012869         0.112516      0.018873   \n",
       "\n",
       "   -1_flank_mean  central_length  central_std  central_mean  +1_flank_length  \\\n",
       "0       0.693095        0.025547     0.035586      0.673913         0.035452   \n",
       "1       0.603581        0.101026     0.041302      0.633152         0.007825   \n",
       "2       0.411765        0.115541     0.053133      0.687500         0.027626   \n",
       "3       0.641944        0.049158     0.028441      0.714674         0.065212   \n",
       "4       0.641944        0.116509     0.056048      0.673913         0.185440   \n",
       "\n",
       "   +1_flank_std  ...  -1_flank_length_std  -1_flank_std_std  \\\n",
       "0      0.014684  ...             0.114449          0.019897   \n",
       "1      0.006867  ...             0.114449          0.019897   \n",
       "2      0.019852  ...             0.114449          0.019897   \n",
       "3      0.021920  ...             0.114449          0.019897   \n",
       "4      0.051055  ...             0.114449          0.019897   \n",
       "\n",
       "   -1_flank_mean_std  central_length_std  central_std_std  central_mean_std  \\\n",
       "0           0.235959            0.255451         0.080439          0.207596   \n",
       "1           0.235959            0.255451         0.080439          0.207596   \n",
       "2           0.235959            0.255451         0.080439          0.207596   \n",
       "3           0.235959            0.255451         0.080439          0.207596   \n",
       "4           0.235959            0.255451         0.080439          0.207596   \n",
       "\n",
       "   +1_flank_length_std  +1_flank_std_std  +1_flank_mean_std   gene_id  \n",
       "0             0.214301          0.064493           0.101222  0.012814  \n",
       "1             0.214301          0.064493           0.101222  0.012814  \n",
       "2             0.214301          0.064493           0.101222  0.012814  \n",
       "3             0.214301          0.064493           0.101222  0.012814  \n",
       "4             0.214301          0.064493           0.101222  0.012814  \n",
       "\n",
       "[5 rows x 31 columns]"
      ]
     },
     "execution_count": 20,
     "metadata": {},
     "output_type": "execute_result"
    }
   ],
   "source": [
    "X_train.head()"
   ]
  },
  {
   "cell_type": "code",
   "execution_count": 21,
   "metadata": {},
   "outputs": [
    {
     "data": {
      "image/png": "[encoded data removed]",
      "text/plain": [
       "<Figure size 1000x600 with 1 Axes>"
      ]
     },
     "metadata": {},
     "output_type": "display_data"
    }
   ],
   "source": [
    "from sklearn.feature_selection import RFE\n",
    "from sklearn.linear_model import LogisticRegression\n",
    "from sklearn.linear_model import LassoCV\n",
    "lasso_model = LassoCV(cv=5)  # 5-fold cross-validation\n",
    "lasso_model.fit(X_train, y_train)\n",
    "feature_importance = np.abs(lasso_model.coef_)\n",
    "\n",
    "feature_names = X_train.columns\n",
    "feature_importance_df = pd.DataFrame({'Feature': feature_names, 'Importance': feature_importance})\n",
    "feature_importance_df = feature_importance_df.sort_values(by='Importance', ascending=False)\n",
    "\n",
    "plt.figure(figsize=(10, 6))\n",
    "plt.barh(feature_importance_df['Feature'], feature_importance_df['Importance'])\n",
    "plt.xlabel('Importance')\n",
    "plt.title('Feature Importance Using Lasso Model')\n",
    "plt.gca().invert_yaxis()  \n",
    "plt.show()\n"
   ]
  },
  {
   "cell_type": "code",
   "execution_count": 47,
   "metadata": {},
   "outputs": [
    {
     "data": {
      "image/png": "[encoded data removed]",
      "text/plain": [
       "<Figure size 800x600 with 1 Axes>"
      ]
     },
     "metadata": {},
     "output_type": "display_data"
    },
    {
     "name": "stdout",
     "output_type": "stream",
     "text": [
      "Number of components to retain 0.95 of variance: 5\n"
     ]
    }
   ],
   "source": [
    "import pandas as pd\n",
    "from sklearn.decomposition import PCA\n",
    "from sklearn.preprocessing import StandardScaler\n",
    "import matplotlib.pyplot as plt\n",
    "\n",
    "pca = PCA()\n",
    "X_pca = pca.fit_transform(X_train)\n",
    "\n",
    "cumulative_variance_ratio = pca.explained_variance_ratio_.cumsum()\n",
    "\n",
    "plt.figure(figsize=(8, 6))\n",
    "plt.plot(range(1, len(cumulative_variance_ratio) + 1), cumulative_variance_ratio, marker='o', linestyle='--')\n",
    "plt.xlabel(\"Number of Components\")\n",
    "plt.ylabel(\"Cumulative Explained Variance Ratio\")\n",
    "plt.title(\"Cumulative Explained Variance Ratio vs. Number of Components\")\n",
    "plt.grid()\n",
    "plt.show()\n",
    "\n",
    "desired_variance_retained = 0.95\n",
    "n_components = len(cumulative_variance_ratio[cumulative_variance_ratio < desired_variance_retained]) + 1\n",
    "\n",
    "print(f\"Number of components to retain {desired_variance_retained} of variance: {n_components}\")"
   ]
  },
  {
   "cell_type": "code",
   "execution_count": 71,
   "metadata": {},
   "outputs": [],
   "source": [
    "import warnings\n",
    "from sklearn.feature_selection import RFE\n",
    "from xgboost import XGBClassifier\n",
    "from sklearn.linear_model import LogisticRegression\n",
    "\n",
    "clf = XGBClassifier()\n",
    "# clf = LogisticRegression()\n",
    "rfe = RFE(estimator=clf, n_features_to_select=n_components)\n",
    "with warnings.catch_warnings():\n",
    "    warnings.filterwarnings(\"ignore\") \n",
    "    rfe.fit(X_train, y_train)"
   ]
  },
  {
   "cell_type": "code",
   "execution_count": 72,
   "metadata": {},
   "outputs": [
    {
     "name": "stdout",
     "output_type": "stream",
     "text": [
      "['central_std', '+1_flank_std', '-1_flank_std_std', '+1_flank_std_std', '+1_flank_mean_std']\n"
     ]
    }
   ],
   "source": [
    "selected_features = [f for f, s in zip(X_train.columns, rfe.support_) if s]\n",
    "print(selected_features)"
   ]
  },
  {
   "cell_type": "code",
   "execution_count": 73,
   "metadata": {},
   "outputs": [],
   "source": [
    "X_train_drop = X_train[selected_features]\n",
    "X_test_drop = X_test[selected_features]"
   ]
  },
  {
   "cell_type": "code",
   "execution_count": 74,
   "metadata": {},
   "outputs": [],
   "source": [
    "from imblearn.over_sampling import SMOTE\n",
    "\n",
    "smote = SMOTE(sampling_strategy='auto', random_state=42)\n",
    "X_resampledtrain, y_resampledtrain = smote.fit_resample(X_train_drop, y_train)\n",
    "resampled_train = pd.DataFrame(data=X_resampledtrain, columns=X_train_drop.columns)\n",
    "resampled_train['label'] = y_resampledtrain"
   ]
  },
  {
   "cell_type": "code",
   "execution_count": 75,
   "metadata": {},
   "outputs": [
    {
     "data": {
      "text/html": [
       "<div>\n",
       "<style scoped>\n",
       "    .dataframe tbody tr th:only-of-type {\n",
       "        vertical-align: middle;\n",
       "    }\n",
       "\n",
       "    .dataframe tbody tr th {\n",
       "        vertical-align: top;\n",
       "    }\n",
       "\n",
       "    .dataframe thead th {\n",
       "        text-align: right;\n",
       "    }\n",
       "</style>\n",
       "<table border=\"1\" class=\"dataframe\">\n",
       "  <thead>\n",
       "    <tr style=\"text-align: right;\">\n",
       "      <th></th>\n",
       "      <th>central_std</th>\n",
       "      <th>+1_flank_std</th>\n",
       "      <th>-1_flank_std_std</th>\n",
       "      <th>+1_flank_std_std</th>\n",
       "      <th>+1_flank_mean_std</th>\n",
       "      <th>label</th>\n",
       "    </tr>\n",
       "  </thead>\n",
       "  <tbody>\n",
       "    <tr>\n",
       "      <th>0</th>\n",
       "      <td>0.035586</td>\n",
       "      <td>0.014684</td>\n",
       "      <td>0.019897</td>\n",
       "      <td>0.064493</td>\n",
       "      <td>0.101222</td>\n",
       "      <td>0</td>\n",
       "    </tr>\n",
       "    <tr>\n",
       "      <th>1</th>\n",
       "      <td>0.041302</td>\n",
       "      <td>0.006867</td>\n",
       "      <td>0.019897</td>\n",
       "      <td>0.064493</td>\n",
       "      <td>0.101222</td>\n",
       "      <td>0</td>\n",
       "    </tr>\n",
       "    <tr>\n",
       "      <th>2</th>\n",
       "      <td>0.053133</td>\n",
       "      <td>0.019852</td>\n",
       "      <td>0.019897</td>\n",
       "      <td>0.064493</td>\n",
       "      <td>0.101222</td>\n",
       "      <td>0</td>\n",
       "    </tr>\n",
       "    <tr>\n",
       "      <th>3</th>\n",
       "      <td>0.028441</td>\n",
       "      <td>0.021920</td>\n",
       "      <td>0.019897</td>\n",
       "      <td>0.064493</td>\n",
       "      <td>0.101222</td>\n",
       "      <td>0</td>\n",
       "    </tr>\n",
       "    <tr>\n",
       "      <th>4</th>\n",
       "      <td>0.056048</td>\n",
       "      <td>0.051055</td>\n",
       "      <td>0.019897</td>\n",
       "      <td>0.064493</td>\n",
       "      <td>0.101222</td>\n",
       "      <td>0</td>\n",
       "    </tr>\n",
       "  </tbody>\n",
       "</table>\n",
       "</div>"
      ],
      "text/plain": [
       "   central_std  +1_flank_std  -1_flank_std_std  +1_flank_std_std  \\\n",
       "0     0.035586      0.014684          0.019897          0.064493   \n",
       "1     0.041302      0.006867          0.019897          0.064493   \n",
       "2     0.053133      0.019852          0.019897          0.064493   \n",
       "3     0.028441      0.021920          0.019897          0.064493   \n",
       "4     0.056048      0.051055          0.019897          0.064493   \n",
       "\n",
       "   +1_flank_mean_std  label  \n",
       "0           0.101222      0  \n",
       "1           0.101222      0  \n",
       "2           0.101222      0  \n",
       "3           0.101222      0  \n",
       "4           0.101222      0  "
      ]
     },
     "execution_count": 75,
     "metadata": {},
     "output_type": "execute_result"
    }
   ],
   "source": [
    "resampled_train.head()"
   ]
  },
  {
   "cell_type": "code",
   "execution_count": 76,
   "metadata": {},
   "outputs": [
    {
     "data": {
      "text/plain": [
       "label\n",
       "0    1874300\n",
       "1    1874300\n",
       "Name: count, dtype: int64"
      ]
     },
     "execution_count": 76,
     "metadata": {},
     "output_type": "execute_result"
    }
   ],
   "source": [
    "y_train.value_counts()"
   ]
  },
  {
   "cell_type": "code",
   "execution_count": 77,
   "metadata": {},
   "outputs": [],
   "source": [
    "X_train = resampled_train.drop(['label'], axis=1)\n",
    "y_train = resampled_train['label']"
   ]
  },
  {
   "cell_type": "code",
   "execution_count": 78,
   "metadata": {},
   "outputs": [
    {
     "data": {
      "text/plain": [
       "label\n",
       "0    1874300\n",
       "1    1874300\n",
       "Name: count, dtype: int64"
      ]
     },
     "execution_count": 78,
     "metadata": {},
     "output_type": "execute_result"
    }
   ],
   "source": [
    "y_train.value_counts()"
   ]
  },
  {
   "cell_type": "code",
   "execution_count": 79,
   "metadata": {},
   "outputs": [
    {
     "data": {
      "text/plain": [
       "label\n",
       "0    452960\n",
       "1     23680\n",
       "Name: count, dtype: int64"
      ]
     },
     "execution_count": 79,
     "metadata": {},
     "output_type": "execute_result"
    }
   ],
   "source": [
    "y_test.value_counts()"
   ]
  },
  {
   "cell_type": "code",
   "execution_count": 80,
   "metadata": {},
   "outputs": [
    {
     "data": {
      "text/plain": [
       "Index(['central_std', '+1_flank_std', '-1_flank_std_std', '+1_flank_std_std',\n",
       "       '+1_flank_mean_std'],\n",
       "      dtype='object')"
      ]
     },
     "execution_count": 80,
     "metadata": {},
     "output_type": "execute_result"
    }
   ],
   "source": [
    "X_train.columns"
   ]
  },
  {
   "cell_type": "code",
   "execution_count": 81,
   "metadata": {},
   "outputs": [
    {
     "data": {
      "text/html": [
       "<div>\n",
       "<style scoped>\n",
       "    .dataframe tbody tr th:only-of-type {\n",
       "        vertical-align: middle;\n",
       "    }\n",
       "\n",
       "    .dataframe tbody tr th {\n",
       "        vertical-align: top;\n",
       "    }\n",
       "\n",
       "    .dataframe thead th {\n",
       "        text-align: right;\n",
       "    }\n",
       "</style>\n",
       "<table border=\"1\" class=\"dataframe\">\n",
       "  <thead>\n",
       "    <tr style=\"text-align: right;\">\n",
       "      <th></th>\n",
       "      <th>central_std</th>\n",
       "      <th>+1_flank_std</th>\n",
       "      <th>-1_flank_std_std</th>\n",
       "      <th>+1_flank_std_std</th>\n",
       "      <th>+1_flank_mean_std</th>\n",
       "    </tr>\n",
       "  </thead>\n",
       "  <tbody>\n",
       "    <tr>\n",
       "      <th>0</th>\n",
       "      <td>0.035586</td>\n",
       "      <td>0.014684</td>\n",
       "      <td>0.019897</td>\n",
       "      <td>0.064493</td>\n",
       "      <td>0.101222</td>\n",
       "    </tr>\n",
       "    <tr>\n",
       "      <th>1</th>\n",
       "      <td>0.041302</td>\n",
       "      <td>0.006867</td>\n",
       "      <td>0.019897</td>\n",
       "      <td>0.064493</td>\n",
       "      <td>0.101222</td>\n",
       "    </tr>\n",
       "    <tr>\n",
       "      <th>2</th>\n",
       "      <td>0.053133</td>\n",
       "      <td>0.019852</td>\n",
       "      <td>0.019897</td>\n",
       "      <td>0.064493</td>\n",
       "      <td>0.101222</td>\n",
       "    </tr>\n",
       "    <tr>\n",
       "      <th>3</th>\n",
       "      <td>0.028441</td>\n",
       "      <td>0.021920</td>\n",
       "      <td>0.019897</td>\n",
       "      <td>0.064493</td>\n",
       "      <td>0.101222</td>\n",
       "    </tr>\n",
       "    <tr>\n",
       "      <th>4</th>\n",
       "      <td>0.056048</td>\n",
       "      <td>0.051055</td>\n",
       "      <td>0.019897</td>\n",
       "      <td>0.064493</td>\n",
       "      <td>0.101222</td>\n",
       "    </tr>\n",
       "  </tbody>\n",
       "</table>\n",
       "</div>"
      ],
      "text/plain": [
       "   central_std  +1_flank_std  -1_flank_std_std  +1_flank_std_std  \\\n",
       "0     0.035586      0.014684          0.019897          0.064493   \n",
       "1     0.041302      0.006867          0.019897          0.064493   \n",
       "2     0.053133      0.019852          0.019897          0.064493   \n",
       "3     0.028441      0.021920          0.019897          0.064493   \n",
       "4     0.056048      0.051055          0.019897          0.064493   \n",
       "\n",
       "   +1_flank_mean_std  \n",
       "0           0.101222  \n",
       "1           0.101222  \n",
       "2           0.101222  \n",
       "3           0.101222  \n",
       "4           0.101222  "
      ]
     },
     "execution_count": 81,
     "metadata": {},
     "output_type": "execute_result"
    }
   ],
   "source": [
    "X_train.head()"
   ]
  },
  {
   "cell_type": "markdown",
   "metadata": {},
   "source": [
    "### Innovation: Bayesian Optimisation with Hyperopt\n",
    "source: https://www.kaggle.com/code/prashant111/a-guide-on-xgboost-hyperparameters-tuning"
   ]
  },
  {
   "cell_type": "code",
   "execution_count": 82,
   "metadata": {},
   "outputs": [],
   "source": [
    "# !pip3 install hyperopt"
   ]
  },
  {
   "cell_type": "code",
   "execution_count": 83,
   "metadata": {},
   "outputs": [],
   "source": [
    "classification_objective = \"reg:logistic\" #'binary:logistic'\n",
    "# Set alpha and beta based on your preferences for the trade-off between ROC AUC and PR AUC.\n",
    "alpha = 0.5\n",
    "beta = 0.5"
   ]
  },
  {
   "cell_type": "code",
   "execution_count": 84,
   "metadata": {},
   "outputs": [],
   "source": [
    "from hyperopt import STATUS_OK, Trials, fmin, hp, tpe\n",
    "space = {\n",
    "    'max_depth': hp.quniform(\"max_depth\", 3, 18, 1),\n",
    "    'gamma': hp.uniform('gamma', 1, 9),\n",
    "    'reg_alpha': hp.quniform('reg_alpha', 40, 180, 1),\n",
    "    'reg_lambda': hp.uniform('reg_lambda', 0, 1),\n",
    "    'colsample_bytree': hp.uniform('colsample_bytree', 0.5, 1),\n",
    "    'min_child_weight': hp.quniform('min_child_weight', 0, 10, 1),\n",
    "    'n_estimators': 180,\n",
    "    'objective': classification_objective,  # Use binary classification objective\n",
    "    'seed': 0\n",
    "}"
   ]
  },
  {
   "cell_type": "code",
   "execution_count": 85,
   "metadata": {},
   "outputs": [],
   "source": [
    "from sklearn.metrics import roc_auc_score, average_precision_score\n",
    "import numpy as np\n",
    "from hyperopt import STATUS_OK\n",
    "\n",
    "def objective(space):\n",
    "    clf = xgb.XGBClassifier(\n",
    "        n_estimators=space['n_estimators'], \n",
    "        objective=space['objective'], \n",
    "        max_depth=int(space['max_depth']), \n",
    "        gamma=space['gamma'],\n",
    "        reg_alpha=int(space['reg_alpha']),\n",
    "        min_child_weight=int(space['min_child_weight']),\n",
    "        colsample_bytree=int(space['colsample_bytree']))\n",
    "    \n",
    "    evaluation = [(X_train, y_train), (X_test_drop, y_test)]\n",
    "    \n",
    "    clf.fit(\n",
    "        X_train, y_train,\n",
    "        eval_set=evaluation, \n",
    "        eval_metric=[\"auc\", \"logloss\"],  # Evaluate on both ROC AUC and log loss (which corresponds to negative PR AUC)\n",
    "        early_stopping_rounds=10, verbose=False)\n",
    "    \n",
    "    y_pred_proba = clf.predict_proba(X_test_drop)\n",
    "    roc_auc = roc_auc_score(y_test, y_pred_proba[:, 1])\n",
    "    pr_auc = average_precision_score(y_test, y_pred_proba[:, 1])\n",
    "    \n",
    "    # You can customize the combination of these metrics based on your preferences.\n",
    "    # For instance, you can assign weights to each metric.\n",
    "    combined_metric = alpha * roc_auc + beta * pr_auc\n",
    "    \n",
    "    print(\"ROC AUC:\", roc_auc)\n",
    "    print(\"PR AUC:\", pr_auc)\n",
    "    print(\"Combined Metric:\", combined_metric)\n",
    "    \n",
    "    return {'loss': -combined_metric, 'status': STATUS_OK }\n",
    "\n",
    "# Then, you can run your hyperparameter optimization using this objective function.\n"
   ]
  },
  {
   "cell_type": "code",
   "execution_count": 86,
   "metadata": {},
   "outputs": [
    {
     "name": "stdout",
     "output_type": "stream",
     "text": [
      "ROC AUC:                                             \n",
      "0.5477670299011398                                   \n",
      "PR AUC:                                              \n",
      "0.05625457504282015                                  \n",
      "Combined Metric:                                     \n",
      "0.30201080247198                                     \n",
      "100%|██████████| 1/1 [01:00<00:00, 60.97s/trial, best loss: -0.30201080247198]\n"
     ]
    }
   ],
   "source": [
    "import warnings\n",
    "\n",
    "with warnings.catch_warnings():\n",
    "    warnings.filterwarnings(\"ignore\") \n",
    "    \n",
    "    trials = Trials()\n",
    "\n",
    "    best_hyperparams = fmin(fn = objective,\n",
    "                        space = space,\n",
    "                        algo = tpe.suggest,\n",
    "                        max_evals = 1,\n",
    "                        trials = trials)"
   ]
  },
  {
   "cell_type": "code",
   "execution_count": 87,
   "metadata": {},
   "outputs": [
    {
     "data": {
      "text/html": [
       "<style>#sk-container-id-3 {color: black;}#sk-container-id-3 pre{padding: 0;}#sk-container-id-3 div.sk-toggleable {background-color: white;}#sk-container-id-3 label.sk-toggleable__label {cursor: pointer;display: block;width: 100%;margin-bottom: 0;padding: 0.3em;box-sizing: border-box;text-align: center;}#sk-container-id-3 label.sk-toggleable__label-arrow:before {content: \"▸\";float: left;margin-right: 0.25em;color: #696969;}#sk-container-id-3 label.sk-toggleable__label-arrow:hover:before {color: black;}#sk-container-id-3 div.sk-estimator:hover label.sk-toggleable__label-arrow:before {color: black;}#sk-container-id-3 div.sk-toggleable__content {max-height: 0;max-width: 0;overflow: hidden;text-align: left;background-color: #f0f8ff;}#sk-container-id-3 div.sk-toggleable__content pre {margin: 0.2em;color: black;border-radius: 0.25em;background-color: #f0f8ff;}#sk-container-id-3 input.sk-toggleable__control:checked~div.sk-toggleable__content {max-height: 200px;max-width: 100%;overflow: auto;}#sk-container-id-3 input.sk-toggleable__control:checked~label.sk-toggleable__label-arrow:before {content: \"▾\";}#sk-container-id-3 div.sk-estimator input.sk-toggleable__control:checked~label.sk-toggleable__label {background-color: #d4ebff;}#sk-container-id-3 div.sk-label input.sk-toggleable__control:checked~label.sk-toggleable__label {background-color: #d4ebff;}#sk-container-id-3 input.sk-hidden--visually {border: 0;clip: rect(1px 1px 1px 1px);clip: rect(1px, 1px, 1px, 1px);height: 1px;margin: -1px;overflow: hidden;padding: 0;position: absolute;width: 1px;}#sk-container-id-3 div.sk-estimator {font-family: monospace;background-color: #f0f8ff;border: 1px dotted black;border-radius: 0.25em;box-sizing: border-box;margin-bottom: 0.5em;}#sk-container-id-3 div.sk-estimator:hover {background-color: #d4ebff;}#sk-container-id-3 div.sk-parallel-item::after {content: \"\";width: 100%;border-bottom: 1px solid gray;flex-grow: 1;}#sk-container-id-3 div.sk-label:hover label.sk-toggleable__label {background-color: #d4ebff;}#sk-container-id-3 div.sk-serial::before {content: \"\";position: absolute;border-left: 1px solid gray;box-sizing: border-box;top: 0;bottom: 0;left: 50%;z-index: 0;}#sk-container-id-3 div.sk-serial {display: flex;flex-direction: column;align-items: center;background-color: white;padding-right: 0.2em;padding-left: 0.2em;position: relative;}#sk-container-id-3 div.sk-item {position: relative;z-index: 1;}#sk-container-id-3 div.sk-parallel {display: flex;align-items: stretch;justify-content: center;background-color: white;position: relative;}#sk-container-id-3 div.sk-item::before, #sk-container-id-3 div.sk-parallel-item::before {content: \"\";position: absolute;border-left: 1px solid gray;box-sizing: border-box;top: 0;bottom: 0;left: 50%;z-index: -1;}#sk-container-id-3 div.sk-parallel-item {display: flex;flex-direction: column;z-index: 1;position: relative;background-color: white;}#sk-container-id-3 div.sk-parallel-item:first-child::after {align-self: flex-end;width: 50%;}#sk-container-id-3 div.sk-parallel-item:last-child::after {align-self: flex-start;width: 50%;}#sk-container-id-3 div.sk-parallel-item:only-child::after {width: 0;}#sk-container-id-3 div.sk-dashed-wrapped {border: 1px dashed gray;margin: 0 0.4em 0.5em 0.4em;box-sizing: border-box;padding-bottom: 0.4em;background-color: white;}#sk-container-id-3 div.sk-label label {font-family: monospace;font-weight: bold;display: inline-block;line-height: 1.2em;}#sk-container-id-3 div.sk-label-container {text-align: center;}#sk-container-id-3 div.sk-container {/* jupyter's `normalize.less` sets `[hidden] { display: none; }` but bootstrap.min.css set `[hidden] { display: none !important; }` so we also need the `!important` here to be able to override the default hidden behavior on the sphinx rendered scikit-learn.org. See: https://github.com/scikit-learn/scikit-learn/issues/21755 */display: inline-block !important;position: relative;}#sk-container-id-3 div.sk-text-repr-fallback {display: none;}</style><div id=\"sk-container-id-3\" class=\"sk-top-container\"><div class=\"sk-text-repr-fallback\"><pre>XGBClassifier(base_score=None, booster=None, callbacks=None,\n",
       "              colsample_bylevel=None, colsample_bynode=None,\n",
       "              colsample_bytree=0.8430130414367301, device=None,\n",
       "              early_stopping_rounds=None, enable_categorical=False,\n",
       "              eval_metric=None, feature_types=None, gamma=6.0857229209368855,\n",
       "              grow_policy=None, importance_type=None,\n",
       "              interaction_constraints=None, learning_rate=None, max_bin=None,\n",
       "              max_cat_threshold=None, max_cat_to_onehot=None,\n",
       "              max_delta_step=None, max_depth=13, max_leaves=None,\n",
       "              min_child_weight=7.0, missing=nan, monotone_constraints=None,\n",
       "              multi_strategy=None, n_estimators=180, n_jobs=None,\n",
       "              num_parallel_tree=None, objective=&#x27;reg:logistic&#x27;, ...)</pre><b>In a Jupyter environment, please rerun this cell to show the HTML representation or trust the notebook. <br />On GitHub, the HTML representation is unable to render, please try loading this page with nbviewer.org.</b></div><div class=\"sk-container\" hidden><div class=\"sk-item\"><div class=\"sk-estimator sk-toggleable\"><input class=\"sk-toggleable__control sk-hidden--visually\" id=\"sk-estimator-id-3\" type=\"checkbox\" checked><label for=\"sk-estimator-id-3\" class=\"sk-toggleable__label sk-toggleable__label-arrow\">XGBClassifier</label><div class=\"sk-toggleable__content\"><pre>XGBClassifier(base_score=None, booster=None, callbacks=None,\n",
       "              colsample_bylevel=None, colsample_bynode=None,\n",
       "              colsample_bytree=0.8430130414367301, device=None,\n",
       "              early_stopping_rounds=None, enable_categorical=False,\n",
       "              eval_metric=None, feature_types=None, gamma=6.0857229209368855,\n",
       "              grow_policy=None, importance_type=None,\n",
       "              interaction_constraints=None, learning_rate=None, max_bin=None,\n",
       "              max_cat_threshold=None, max_cat_to_onehot=None,\n",
       "              max_delta_step=None, max_depth=13, max_leaves=None,\n",
       "              min_child_weight=7.0, missing=nan, monotone_constraints=None,\n",
       "              multi_strategy=None, n_estimators=180, n_jobs=None,\n",
       "              num_parallel_tree=None, objective=&#x27;reg:logistic&#x27;, ...)</pre></div></div></div></div></div>"
      ],
      "text/plain": [
       "XGBClassifier(base_score=None, booster=None, callbacks=None,\n",
       "              colsample_bylevel=None, colsample_bynode=None,\n",
       "              colsample_bytree=0.8430130414367301, device=None,\n",
       "              early_stopping_rounds=None, enable_categorical=False,\n",
       "              eval_metric=None, feature_types=None, gamma=6.0857229209368855,\n",
       "              grow_policy=None, importance_type=None,\n",
       "              interaction_constraints=None, learning_rate=None, max_bin=None,\n",
       "              max_cat_threshold=None, max_cat_to_onehot=None,\n",
       "              max_delta_step=None, max_depth=13, max_leaves=None,\n",
       "              min_child_weight=7.0, missing=nan, monotone_constraints=None,\n",
       "              multi_strategy=None, n_estimators=180, n_jobs=None,\n",
       "              num_parallel_tree=None, objective='reg:logistic', ...)"
      ]
     },
     "execution_count": 87,
     "metadata": {},
     "output_type": "execute_result"
    }
   ],
   "source": [
    "# version 6: reg:logistic \n",
    "best_model = xgb.XGBClassifier(colsample_bytree = best_hyperparams['colsample_bytree'], \n",
    "                                gamma= best_hyperparams['gamma'], \n",
    "                                max_depth= int(best_hyperparams['max_depth']), \n",
    "                                min_child_weight = best_hyperparams['min_child_weight'], \n",
    "                                reg_alpha = best_hyperparams['reg_alpha'], \n",
    "                                reg_lambda = best_hyperparams['reg_lambda'],\n",
    "                                n_estimators = 180, \n",
    "                                objective = classification_objective)\n",
    "best_model.fit(X_train,y_train)"
   ]
  },
  {
   "cell_type": "code",
   "execution_count": 88,
   "metadata": {},
   "outputs": [
    {
     "name": "stdout",
     "output_type": "stream",
     "text": [
      "              precision    recall  f1-score   support\n",
      "\n",
      "           0       0.95      0.89      0.92    452960\n",
      "           1       0.05      0.10      0.06     23680\n",
      "\n",
      "    accuracy                           0.85    476640\n",
      "   macro avg       0.50      0.50      0.49    476640\n",
      "weighted avg       0.91      0.85      0.88    476640\n",
      "\n"
     ]
    }
   ],
   "source": [
    "y_pred = best_model.predict(X_test_drop)\n",
    "print(classification_report(y_test, y_pred))"
   ]
  },
  {
   "cell_type": "code",
   "execution_count": 89,
   "metadata": {},
   "outputs": [
    {
     "data": {
      "image/png": "[encoded data removed]",
      "text/plain": [
       "<Figure size 1000x700 with 1 Axes>"
      ]
     },
     "metadata": {},
     "output_type": "display_data"
    }
   ],
   "source": [
    "# ROC AUC \n",
    "fpr, tpr, thresholds = roc_curve(y_test, y_pred)\n",
    "roc_auc = auc(fpr, tpr)\n",
    "\n",
    "plt.figure(figsize=(10, 7))\n",
    "plt.plot(fpr, tpr, color='darkorange', lw=2, label='ROC curve (AUC = %0.2f)' % roc_auc)\n",
    "plt.plot([0, 1], [0, 1], color='navy', lw=2, linestyle='--')  # Diagonal line\n",
    "plt.xlim([0.0, 1.0])\n",
    "plt.ylim([0.0, 1.05])\n",
    "plt.xlabel('False Positive Rate')\n",
    "plt.ylabel('True Positive Rate')\n",
    "plt.title('Receiver Operating Characteristic (ROC) Curve')\n",
    "plt.legend(loc=\"lower right\")\n",
    "plt.show()"
   ]
  },
  {
   "cell_type": "code",
   "execution_count": 90,
   "metadata": {},
   "outputs": [
    {
     "data": {
      "image/png": "[encoded data removed]",
      "text/plain": [
       "<Figure size 640x480 with 1 Axes>"
      ]
     },
     "metadata": {},
     "output_type": "display_data"
    }
   ],
   "source": [
    "# Get predicted probabilities for the positive class (class 1)\n",
    "from sklearn.metrics import average_precision_score, precision_recall_curve\n",
    "y_pred_prob = best_model.predict_proba(X_test_drop)[:, 1]\n",
    "\n",
    "# Calculate PR AUC\n",
    "pr_auc = average_precision_score(y_test, y_pred_prob)\n",
    "\n",
    "# Plot Precision-Recall curve (optional)\n",
    "precision, recall, _ = precision_recall_curve(y_test, y_pred_prob)\n",
    "\n",
    "plt.figure()\n",
    "plt.step(recall, precision, color='b', alpha=0.2, where='post')\n",
    "plt.fill_between(recall, precision, step='post', alpha=0.2, color='b')\n",
    "plt.xlabel('Recall')\n",
    "plt.ylabel('Precision')\n",
    "plt.ylim([0.0, 1.05])\n",
    "plt.xlim([0.0, 1.0])\n",
    "plt.title('Precision-Recall curve: AUC={0:0.2f}'.format(pr_auc))\n",
    "plt.show()\n"
   ]
  },
  {
   "cell_type": "code",
   "execution_count": 91,
   "metadata": {},
   "outputs": [],
   "source": [
    "# # output probabiliy \n",
    "# prob = best_model.predict_proba(X_test)[:,1]\n",
    "# transcript_id = test['transcript_id']\n",
    "# transcript_position = test['transcript_position']\n",
    "# data = {\n",
    "#     'transcript_id': transcript_id,\n",
    "#     'transcript_position': transcript_position,\n",
    "#     'probability': prob\n",
    "# }\n",
    "\n",
    "# # Create a DataFrame from the data dictionary\n",
    "# output = pd.DataFrame(data)\n",
    "\n",
    "# output.head()\n",
    "\n"
   ]
  },
  {
   "cell_type": "code",
   "execution_count": 92,
   "metadata": {},
   "outputs": [
    {
     "data": {
      "text/html": [
       "<div>\n",
       "<style scoped>\n",
       "    .dataframe tbody tr th:only-of-type {\n",
       "        vertical-align: middle;\n",
       "    }\n",
       "\n",
       "    .dataframe tbody tr th {\n",
       "        vertical-align: top;\n",
       "    }\n",
       "\n",
       "    .dataframe thead th {\n",
       "        text-align: right;\n",
       "    }\n",
       "</style>\n",
       "<table border=\"1\" class=\"dataframe\">\n",
       "  <thead>\n",
       "    <tr style=\"text-align: right;\">\n",
       "      <th></th>\n",
       "      <th>transcript_id</th>\n",
       "      <th>transcript_position</th>\n",
       "      <th>-1_flank_length</th>\n",
       "      <th>-1_flank_std</th>\n",
       "      <th>-1_flank_mean</th>\n",
       "      <th>central_length</th>\n",
       "      <th>central_std</th>\n",
       "      <th>central_mean</th>\n",
       "      <th>+1_flank_length</th>\n",
       "      <th>+1_flank_std</th>\n",
       "      <th>...</th>\n",
       "      <th>-1_flank_std_std</th>\n",
       "      <th>-1_flank_mean_std</th>\n",
       "      <th>central_length_std</th>\n",
       "      <th>central_std_std</th>\n",
       "      <th>central_mean_std</th>\n",
       "      <th>+1_flank_length_std</th>\n",
       "      <th>+1_flank_std_std</th>\n",
       "      <th>+1_flank_mean_std</th>\n",
       "      <th>gene_id</th>\n",
       "      <th>label</th>\n",
       "    </tr>\n",
       "  </thead>\n",
       "  <tbody>\n",
       "    <tr>\n",
       "      <th>0</th>\n",
       "      <td>5257</td>\n",
       "      <td>470</td>\n",
       "      <td>0.00332</td>\n",
       "      <td>2.82</td>\n",
       "      <td>112.0</td>\n",
       "      <td>0.01250</td>\n",
       "      <td>9.00</td>\n",
       "      <td>126.0</td>\n",
       "      <td>0.01100</td>\n",
       "      <td>2.63</td>\n",
       "      <td>...</td>\n",
       "      <td>3.356609</td>\n",
       "      <td>2.716422</td>\n",
       "      <td>0.005348</td>\n",
       "      <td>1.699429</td>\n",
       "      <td>3.391553</td>\n",
       "      <td>0.006624</td>\n",
       "      <td>0.909722</td>\n",
       "      <td>1.148867</td>\n",
       "      <td>6451</td>\n",
       "      <td>0</td>\n",
       "    </tr>\n",
       "    <tr>\n",
       "      <th>1</th>\n",
       "      <td>5257</td>\n",
       "      <td>470</td>\n",
       "      <td>0.00398</td>\n",
       "      <td>2.39</td>\n",
       "      <td>112.0</td>\n",
       "      <td>0.00631</td>\n",
       "      <td>7.82</td>\n",
       "      <td>121.0</td>\n",
       "      <td>0.01160</td>\n",
       "      <td>3.13</td>\n",
       "      <td>...</td>\n",
       "      <td>3.356609</td>\n",
       "      <td>2.716422</td>\n",
       "      <td>0.005348</td>\n",
       "      <td>1.699429</td>\n",
       "      <td>3.391553</td>\n",
       "      <td>0.006624</td>\n",
       "      <td>0.909722</td>\n",
       "      <td>1.148867</td>\n",
       "      <td>6451</td>\n",
       "      <td>0</td>\n",
       "    </tr>\n",
       "    <tr>\n",
       "      <th>2</th>\n",
       "      <td>5257</td>\n",
       "      <td>470</td>\n",
       "      <td>0.00664</td>\n",
       "      <td>7.71</td>\n",
       "      <td>111.0</td>\n",
       "      <td>0.02090</td>\n",
       "      <td>9.67</td>\n",
       "      <td>122.0</td>\n",
       "      <td>0.00992</td>\n",
       "      <td>2.11</td>\n",
       "      <td>...</td>\n",
       "      <td>3.356609</td>\n",
       "      <td>2.716422</td>\n",
       "      <td>0.005348</td>\n",
       "      <td>1.699429</td>\n",
       "      <td>3.391553</td>\n",
       "      <td>0.006624</td>\n",
       "      <td>0.909722</td>\n",
       "      <td>1.148867</td>\n",
       "      <td>6451</td>\n",
       "      <td>0</td>\n",
       "    </tr>\n",
       "    <tr>\n",
       "      <th>3</th>\n",
       "      <td>5257</td>\n",
       "      <td>470</td>\n",
       "      <td>0.00303</td>\n",
       "      <td>2.61</td>\n",
       "      <td>110.0</td>\n",
       "      <td>0.00827</td>\n",
       "      <td>5.24</td>\n",
       "      <td>121.0</td>\n",
       "      <td>0.02060</td>\n",
       "      <td>4.88</td>\n",
       "      <td>...</td>\n",
       "      <td>3.356609</td>\n",
       "      <td>2.716422</td>\n",
       "      <td>0.005348</td>\n",
       "      <td>1.699429</td>\n",
       "      <td>3.391553</td>\n",
       "      <td>0.006624</td>\n",
       "      <td>0.909722</td>\n",
       "      <td>1.148867</td>\n",
       "      <td>6451</td>\n",
       "      <td>0</td>\n",
       "    </tr>\n",
       "    <tr>\n",
       "      <th>4</th>\n",
       "      <td>5257</td>\n",
       "      <td>470</td>\n",
       "      <td>0.00611</td>\n",
       "      <td>2.57</td>\n",
       "      <td>114.0</td>\n",
       "      <td>0.01260</td>\n",
       "      <td>10.10</td>\n",
       "      <td>124.0</td>\n",
       "      <td>0.01030</td>\n",
       "      <td>3.62</td>\n",
       "      <td>...</td>\n",
       "      <td>3.356609</td>\n",
       "      <td>2.716422</td>\n",
       "      <td>0.005348</td>\n",
       "      <td>1.699429</td>\n",
       "      <td>3.391553</td>\n",
       "      <td>0.006624</td>\n",
       "      <td>0.909722</td>\n",
       "      <td>1.148867</td>\n",
       "      <td>6451</td>\n",
       "      <td>0</td>\n",
       "    </tr>\n",
       "  </tbody>\n",
       "</table>\n",
       "<p>5 rows × 32 columns</p>\n",
       "</div>"
      ],
      "text/plain": [
       "   transcript_id  transcript_position  -1_flank_length  -1_flank_std  \\\n",
       "0           5257                  470          0.00332          2.82   \n",
       "1           5257                  470          0.00398          2.39   \n",
       "2           5257                  470          0.00664          7.71   \n",
       "3           5257                  470          0.00303          2.61   \n",
       "4           5257                  470          0.00611          2.57   \n",
       "\n",
       "   -1_flank_mean  central_length  central_std  central_mean  +1_flank_length  \\\n",
       "0          112.0         0.01250         9.00         126.0          0.01100   \n",
       "1          112.0         0.00631         7.82         121.0          0.01160   \n",
       "2          111.0         0.02090         9.67         122.0          0.00992   \n",
       "3          110.0         0.00827         5.24         121.0          0.02060   \n",
       "4          114.0         0.01260        10.10         124.0          0.01030   \n",
       "\n",
       "   +1_flank_std  ...  -1_flank_std_std  -1_flank_mean_std  central_length_std  \\\n",
       "0          2.63  ...          3.356609           2.716422            0.005348   \n",
       "1          3.13  ...          3.356609           2.716422            0.005348   \n",
       "2          2.11  ...          3.356609           2.716422            0.005348   \n",
       "3          4.88  ...          3.356609           2.716422            0.005348   \n",
       "4          3.62  ...          3.356609           2.716422            0.005348   \n",
       "\n",
       "   central_std_std  central_mean_std  +1_flank_length_std  +1_flank_std_std  \\\n",
       "0         1.699429          3.391553             0.006624          0.909722   \n",
       "1         1.699429          3.391553             0.006624          0.909722   \n",
       "2         1.699429          3.391553             0.006624          0.909722   \n",
       "3         1.699429          3.391553             0.006624          0.909722   \n",
       "4         1.699429          3.391553             0.006624          0.909722   \n",
       "\n",
       "   +1_flank_mean_std  gene_id  label  \n",
       "0           1.148867     6451      0  \n",
       "1           1.148867     6451      0  \n",
       "2           1.148867     6451      0  \n",
       "3           1.148867     6451      0  \n",
       "4           1.148867     6451      0  \n",
       "\n",
       "[5 rows x 32 columns]"
      ]
     },
     "execution_count": 92,
     "metadata": {},
     "output_type": "execute_result"
    }
   ],
   "source": [
    "test.head()"
   ]
  },
  {
   "cell_type": "code",
   "execution_count": 93,
   "metadata": {},
   "outputs": [
    {
     "data": {
      "text/plain": [
       "['some_1_feature_selection_LR_0.95_model_with_std.pkl']"
      ]
     },
     "execution_count": 93,
     "metadata": {},
     "output_type": "execute_result"
    }
   ],
   "source": [
    "import joblib\n",
    "joblib.dump(best_model, 'some_1_feature_selection_LR_0.95_model_with_std.pkl')"
   ]
  }
 ],
 "metadata": {
  "kernelspec": {
   "display_name": "Python 3.11.4 64-bit",
   "language": "python",
   "name": "python3"
  },
  "language_info": {
   "codemirror_mode": {
    "name": "ipython",
    "version": 3
   },
   "file_extension": ".py",
   "mimetype": "text/x-python",
   "name": "python",
   "nbconvert_exporter": "python",
   "pygments_lexer": "ipython3",
   "version": "3.10.13"
  },
  "orig_nbformat": 4,
  "vscode": {
   "interpreter": {
    "hash": "aee8b7b246df8f9039afb4144a1f6fd8d2ca17a180786b69acc140d282b71a49"
   }
  }
 },
 "nbformat": 4,
 "nbformat_minor": 2
}
