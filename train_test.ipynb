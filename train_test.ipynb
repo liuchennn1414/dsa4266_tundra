{
 "cells": [
  {
   "cell_type": "code",
   "execution_count": 51,
   "metadata": {},
   "outputs": [],
   "source": [
    "from sklearn.model_selection import train_test_split \n",
    "import pandas as pd\n",
    "import numpy as np\n",
    "from sklearn import preprocessing"
   ]
  },
  {
   "cell_type": "code",
   "execution_count": 52,
   "metadata": {},
   "outputs": [],
   "source": [
    "df = pd.read_csv('data/merged_data.csv')"
   ]
  },
  {
   "cell_type": "code",
   "execution_count": 53,
   "metadata": {},
   "outputs": [
    {
     "data": {
      "text/html": [
       "<div>\n",
       "<style scoped>\n",
       "    .dataframe tbody tr th:only-of-type {\n",
       "        vertical-align: middle;\n",
       "    }\n",
       "\n",
       "    .dataframe tbody tr th {\n",
       "        vertical-align: top;\n",
       "    }\n",
       "\n",
       "    .dataframe thead th {\n",
       "        text-align: right;\n",
       "    }\n",
       "</style>\n",
       "<table border=\"1\" class=\"dataframe\">\n",
       "  <thead>\n",
       "    <tr style=\"text-align: right;\">\n",
       "      <th></th>\n",
       "      <th>transcript_id</th>\n",
       "      <th>transcript_position</th>\n",
       "      <th>sequence</th>\n",
       "      <th>-1_flank_length</th>\n",
       "      <th>-1_flank_std</th>\n",
       "      <th>-1_flank_mean</th>\n",
       "      <th>central_length</th>\n",
       "      <th>central_std</th>\n",
       "      <th>central_mean</th>\n",
       "      <th>+1_flank_length</th>\n",
       "      <th>+1_flank_std</th>\n",
       "      <th>+1_flank_mean</th>\n",
       "      <th>gene_id</th>\n",
       "      <th>label</th>\n",
       "    </tr>\n",
       "  </thead>\n",
       "  <tbody>\n",
       "    <tr>\n",
       "      <th>0</th>\n",
       "      <td>ENST00000000233</td>\n",
       "      <td>244</td>\n",
       "      <td>AAGACCA</td>\n",
       "      <td>0.00299</td>\n",
       "      <td>2.06</td>\n",
       "      <td>125.0</td>\n",
       "      <td>0.01770</td>\n",
       "      <td>10.40</td>\n",
       "      <td>122.0</td>\n",
       "      <td>0.00930</td>\n",
       "      <td>10.90</td>\n",
       "      <td>84.1</td>\n",
       "      <td>ENSG00000004059</td>\n",
       "      <td>0</td>\n",
       "    </tr>\n",
       "    <tr>\n",
       "      <th>1</th>\n",
       "      <td>ENST00000000233</td>\n",
       "      <td>244</td>\n",
       "      <td>AAGACCA</td>\n",
       "      <td>0.00631</td>\n",
       "      <td>2.53</td>\n",
       "      <td>125.0</td>\n",
       "      <td>0.00844</td>\n",
       "      <td>4.67</td>\n",
       "      <td>126.0</td>\n",
       "      <td>0.01030</td>\n",
       "      <td>6.30</td>\n",
       "      <td>80.9</td>\n",
       "      <td>ENSG00000004059</td>\n",
       "      <td>0</td>\n",
       "    </tr>\n",
       "    <tr>\n",
       "      <th>2</th>\n",
       "      <td>ENST00000000233</td>\n",
       "      <td>244</td>\n",
       "      <td>AAGACCA</td>\n",
       "      <td>0.00465</td>\n",
       "      <td>3.92</td>\n",
       "      <td>109.0</td>\n",
       "      <td>0.01360</td>\n",
       "      <td>12.00</td>\n",
       "      <td>124.0</td>\n",
       "      <td>0.00498</td>\n",
       "      <td>2.13</td>\n",
       "      <td>79.6</td>\n",
       "      <td>ENSG00000004059</td>\n",
       "      <td>0</td>\n",
       "    </tr>\n",
       "    <tr>\n",
       "      <th>3</th>\n",
       "      <td>ENST00000000233</td>\n",
       "      <td>244</td>\n",
       "      <td>AAGACCA</td>\n",
       "      <td>0.00398</td>\n",
       "      <td>2.06</td>\n",
       "      <td>125.0</td>\n",
       "      <td>0.00830</td>\n",
       "      <td>5.01</td>\n",
       "      <td>130.0</td>\n",
       "      <td>0.00498</td>\n",
       "      <td>3.78</td>\n",
       "      <td>80.4</td>\n",
       "      <td>ENSG00000004059</td>\n",
       "      <td>0</td>\n",
       "    </tr>\n",
       "    <tr>\n",
       "      <th>4</th>\n",
       "      <td>ENST00000000233</td>\n",
       "      <td>244</td>\n",
       "      <td>AAGACCA</td>\n",
       "      <td>0.00664</td>\n",
       "      <td>2.92</td>\n",
       "      <td>120.0</td>\n",
       "      <td>0.00266</td>\n",
       "      <td>3.94</td>\n",
       "      <td>129.0</td>\n",
       "      <td>0.01300</td>\n",
       "      <td>7.15</td>\n",
       "      <td>82.2</td>\n",
       "      <td>ENSG00000004059</td>\n",
       "      <td>0</td>\n",
       "    </tr>\n",
       "  </tbody>\n",
       "</table>\n",
       "</div>"
      ],
      "text/plain": [
       "     transcript_id  transcript_position sequence  -1_flank_length  \\\n",
       "0  ENST00000000233                  244  AAGACCA          0.00299   \n",
       "1  ENST00000000233                  244  AAGACCA          0.00631   \n",
       "2  ENST00000000233                  244  AAGACCA          0.00465   \n",
       "3  ENST00000000233                  244  AAGACCA          0.00398   \n",
       "4  ENST00000000233                  244  AAGACCA          0.00664   \n",
       "\n",
       "   -1_flank_std  -1_flank_mean  central_length  central_std  central_mean  \\\n",
       "0          2.06          125.0         0.01770        10.40         122.0   \n",
       "1          2.53          125.0         0.00844         4.67         126.0   \n",
       "2          3.92          109.0         0.01360        12.00         124.0   \n",
       "3          2.06          125.0         0.00830         5.01         130.0   \n",
       "4          2.92          120.0         0.00266         3.94         129.0   \n",
       "\n",
       "   +1_flank_length  +1_flank_std  +1_flank_mean          gene_id  label  \n",
       "0          0.00930         10.90           84.1  ENSG00000004059      0  \n",
       "1          0.01030          6.30           80.9  ENSG00000004059      0  \n",
       "2          0.00498          2.13           79.6  ENSG00000004059      0  \n",
       "3          0.00498          3.78           80.4  ENSG00000004059      0  \n",
       "4          0.01300          7.15           82.2  ENSG00000004059      0  "
      ]
     },
     "execution_count": 53,
     "metadata": {},
     "output_type": "execute_result"
    }
   ],
   "source": [
    "df.head()"
   ]
  },
  {
   "cell_type": "code",
   "execution_count": 54,
   "metadata": {},
   "outputs": [],
   "source": [
    "df = df.drop([\"transcript_id\", \"sequence\", \"gene_id\"], axis=1)"
   ]
  },
  {
   "cell_type": "markdown",
   "metadata": {},
   "source": [
    "# normalize dataset"
   ]
  },
  {
   "cell_type": "code",
   "execution_count": 55,
   "metadata": {},
   "outputs": [
    {
     "name": "stdout",
     "output_type": "stream",
     "text": [
      "[[0.01286912 0.0112388  0.00954805 ... 0.05854327 0.28170732 0.        ]\n",
      " [0.01286912 0.03929356 0.01183064 ... 0.03352478 0.24268293 0.        ]\n",
      " [0.01286912 0.02526618 0.01858129 ... 0.01084497 0.22682927 0.        ]\n",
      " ...\n",
      " [0.09024403 0.04689877 0.02178664 ... 0.01166079 0.29634146 0.        ]\n",
      " [0.09024403 0.00845023 0.01085932 ... 0.02340861 0.19268293 0.        ]\n",
      " [0.09024403 0.03363191 0.01474459 ... 0.00899578 0.18536585 0.        ]]\n"
     ]
    }
   ],
   "source": [
    "scaler = preprocessing.MinMaxScaler()\n",
    "d = scaler.fit_transform(df)\n",
    "print(d)"
   ]
  },
  {
   "cell_type": "code",
   "execution_count": 56,
   "metadata": {},
   "outputs": [],
   "source": [
    "df = pd.DataFrame(d, columns=df.columns)"
   ]
  },
  {
   "cell_type": "code",
   "execution_count": 57,
   "metadata": {},
   "outputs": [
    {
     "data": {
      "text/html": [
       "<div>\n",
       "<style scoped>\n",
       "    .dataframe tbody tr th:only-of-type {\n",
       "        vertical-align: middle;\n",
       "    }\n",
       "\n",
       "    .dataframe tbody tr th {\n",
       "        vertical-align: top;\n",
       "    }\n",
       "\n",
       "    .dataframe thead th {\n",
       "        text-align: right;\n",
       "    }\n",
       "</style>\n",
       "<table border=\"1\" class=\"dataframe\">\n",
       "  <thead>\n",
       "    <tr style=\"text-align: right;\">\n",
       "      <th></th>\n",
       "      <th>transcript_position</th>\n",
       "      <th>-1_flank_length</th>\n",
       "      <th>-1_flank_std</th>\n",
       "      <th>-1_flank_mean</th>\n",
       "      <th>central_length</th>\n",
       "      <th>central_std</th>\n",
       "      <th>central_mean</th>\n",
       "      <th>+1_flank_length</th>\n",
       "      <th>+1_flank_std</th>\n",
       "      <th>+1_flank_mean</th>\n",
       "      <th>label</th>\n",
       "    </tr>\n",
       "  </thead>\n",
       "  <tbody>\n",
       "    <tr>\n",
       "      <th>0</th>\n",
       "      <td>0.012869</td>\n",
       "      <td>0.011239</td>\n",
       "      <td>0.009548</td>\n",
       "      <td>0.649123</td>\n",
       "      <td>0.117647</td>\n",
       "      <td>0.050283</td>\n",
       "      <td>0.578164</td>\n",
       "      <td>0.075390</td>\n",
       "      <td>0.058543</td>\n",
       "      <td>0.281707</td>\n",
       "      <td>0.0</td>\n",
       "    </tr>\n",
       "    <tr>\n",
       "      <th>1</th>\n",
       "      <td>0.012869</td>\n",
       "      <td>0.039294</td>\n",
       "      <td>0.011831</td>\n",
       "      <td>0.649123</td>\n",
       "      <td>0.049729</td>\n",
       "      <td>0.022461</td>\n",
       "      <td>0.627792</td>\n",
       "      <td>0.085258</td>\n",
       "      <td>0.033525</td>\n",
       "      <td>0.242683</td>\n",
       "      <td>0.0</td>\n",
       "    </tr>\n",
       "    <tr>\n",
       "      <th>2</th>\n",
       "      <td>0.012869</td>\n",
       "      <td>0.025266</td>\n",
       "      <td>0.018581</td>\n",
       "      <td>0.448622</td>\n",
       "      <td>0.087575</td>\n",
       "      <td>0.058051</td>\n",
       "      <td>0.602978</td>\n",
       "      <td>0.032761</td>\n",
       "      <td>0.010845</td>\n",
       "      <td>0.226829</td>\n",
       "      <td>0.0</td>\n",
       "    </tr>\n",
       "    <tr>\n",
       "      <th>3</th>\n",
       "      <td>0.012869</td>\n",
       "      <td>0.019605</td>\n",
       "      <td>0.009548</td>\n",
       "      <td>0.649123</td>\n",
       "      <td>0.048702</td>\n",
       "      <td>0.024112</td>\n",
       "      <td>0.677419</td>\n",
       "      <td>0.032761</td>\n",
       "      <td>0.019819</td>\n",
       "      <td>0.236585</td>\n",
       "      <td>0.0</td>\n",
       "    </tr>\n",
       "    <tr>\n",
       "      <th>4</th>\n",
       "      <td>0.012869</td>\n",
       "      <td>0.042082</td>\n",
       "      <td>0.013725</td>\n",
       "      <td>0.586466</td>\n",
       "      <td>0.007335</td>\n",
       "      <td>0.018917</td>\n",
       "      <td>0.665012</td>\n",
       "      <td>0.111901</td>\n",
       "      <td>0.038148</td>\n",
       "      <td>0.258537</td>\n",
       "      <td>0.0</td>\n",
       "    </tr>\n",
       "  </tbody>\n",
       "</table>\n",
       "</div>"
      ],
      "text/plain": [
       "   transcript_position  -1_flank_length  -1_flank_std  -1_flank_mean  \\\n",
       "0             0.012869         0.011239      0.009548       0.649123   \n",
       "1             0.012869         0.039294      0.011831       0.649123   \n",
       "2             0.012869         0.025266      0.018581       0.448622   \n",
       "3             0.012869         0.019605      0.009548       0.649123   \n",
       "4             0.012869         0.042082      0.013725       0.586466   \n",
       "\n",
       "   central_length  central_std  central_mean  +1_flank_length  +1_flank_std  \\\n",
       "0        0.117647     0.050283      0.578164         0.075390      0.058543   \n",
       "1        0.049729     0.022461      0.627792         0.085258      0.033525   \n",
       "2        0.087575     0.058051      0.602978         0.032761      0.010845   \n",
       "3        0.048702     0.024112      0.677419         0.032761      0.019819   \n",
       "4        0.007335     0.018917      0.665012         0.111901      0.038148   \n",
       "\n",
       "   +1_flank_mean  label  \n",
       "0       0.281707    0.0  \n",
       "1       0.242683    0.0  \n",
       "2       0.226829    0.0  \n",
       "3       0.236585    0.0  \n",
       "4       0.258537    0.0  "
      ]
     },
     "execution_count": 57,
     "metadata": {},
     "output_type": "execute_result"
    }
   ],
   "source": [
    "df.head()"
   ]
  },
  {
   "cell_type": "code",
   "execution_count": 58,
   "metadata": {},
   "outputs": [],
   "source": [
    "import pickle\n",
    "\n",
    "# save the model to a file\n",
    "with open('minmax_scaler.pkl', 'wb') as f:\n",
    "    pickle.dump(scaler, f)\n",
    "\n",
    "# # load the model from the file\n",
    "# with open('minmax_scaler.pkl', 'rb') as f:\n",
    "#     scaler = pickle.load(f)"
   ]
  },
  {
   "cell_type": "markdown",
   "metadata": {},
   "source": [
    "# balance label 1 and 0"
   ]
  },
  {
   "cell_type": "code",
   "execution_count": 59,
   "metadata": {},
   "outputs": [
    {
     "data": {
      "text/plain": [
       "10527532"
      ]
     },
     "execution_count": 59,
     "metadata": {},
     "output_type": "execute_result"
    }
   ],
   "source": [
    "len(df[df['label'] == 0])"
   ]
  },
  {
   "cell_type": "code",
   "execution_count": 60,
   "metadata": {},
   "outputs": [
    {
     "data": {
      "text/plain": [
       "499574"
      ]
     },
     "execution_count": 60,
     "metadata": {},
     "output_type": "execute_result"
    }
   ],
   "source": [
    "len(df[df['label'] == 1])"
   ]
  },
  {
   "cell_type": "code",
   "execution_count": 61,
   "metadata": {},
   "outputs": [],
   "source": [
    "without_balance_test = df.sample(n=50000, random_state=4266)"
   ]
  },
  {
   "cell_type": "code",
   "execution_count": 62,
   "metadata": {},
   "outputs": [
    {
     "data": {
      "text/html": [
       "<div>\n",
       "<style scoped>\n",
       "    .dataframe tbody tr th:only-of-type {\n",
       "        vertical-align: middle;\n",
       "    }\n",
       "\n",
       "    .dataframe tbody tr th {\n",
       "        vertical-align: top;\n",
       "    }\n",
       "\n",
       "    .dataframe thead th {\n",
       "        text-align: right;\n",
       "    }\n",
       "</style>\n",
       "<table border=\"1\" class=\"dataframe\">\n",
       "  <thead>\n",
       "    <tr style=\"text-align: right;\">\n",
       "      <th></th>\n",
       "      <th>transcript_position</th>\n",
       "      <th>-1_flank_length</th>\n",
       "      <th>-1_flank_std</th>\n",
       "      <th>-1_flank_mean</th>\n",
       "      <th>central_length</th>\n",
       "      <th>central_std</th>\n",
       "      <th>central_mean</th>\n",
       "      <th>+1_flank_length</th>\n",
       "      <th>+1_flank_std</th>\n",
       "      <th>+1_flank_mean</th>\n",
       "      <th>label</th>\n",
       "    </tr>\n",
       "  </thead>\n",
       "  <tbody>\n",
       "    <tr>\n",
       "      <th>844118</th>\n",
       "      <td>0.019170</td>\n",
       "      <td>0.025266</td>\n",
       "      <td>0.006440</td>\n",
       "      <td>0.461153</td>\n",
       "      <td>0.087575</td>\n",
       "      <td>0.015324</td>\n",
       "      <td>0.429280</td>\n",
       "      <td>0.070949</td>\n",
       "      <td>0.008506</td>\n",
       "      <td>0.370732</td>\n",
       "      <td>0.0</td>\n",
       "    </tr>\n",
       "    <tr>\n",
       "      <th>8464580</th>\n",
       "      <td>0.013350</td>\n",
       "      <td>0.106811</td>\n",
       "      <td>0.014890</td>\n",
       "      <td>0.686717</td>\n",
       "      <td>0.073639</td>\n",
       "      <td>0.026880</td>\n",
       "      <td>0.652605</td>\n",
       "      <td>0.042629</td>\n",
       "      <td>0.031023</td>\n",
       "      <td>0.271951</td>\n",
       "      <td>0.0</td>\n",
       "    </tr>\n",
       "    <tr>\n",
       "      <th>1424169</th>\n",
       "      <td>0.045763</td>\n",
       "      <td>0.053321</td>\n",
       "      <td>0.022758</td>\n",
       "      <td>0.461153</td>\n",
       "      <td>0.097110</td>\n",
       "      <td>0.014644</td>\n",
       "      <td>0.677419</td>\n",
       "      <td>0.016381</td>\n",
       "      <td>0.039779</td>\n",
       "      <td>0.236585</td>\n",
       "      <td>0.0</td>\n",
       "    </tr>\n",
       "    <tr>\n",
       "      <th>1891029</th>\n",
       "      <td>0.084958</td>\n",
       "      <td>0.098361</td>\n",
       "      <td>0.009160</td>\n",
       "      <td>0.385965</td>\n",
       "      <td>0.026918</td>\n",
       "      <td>0.015469</td>\n",
       "      <td>0.272953</td>\n",
       "      <td>0.032761</td>\n",
       "      <td>0.007473</td>\n",
       "      <td>0.342683</td>\n",
       "      <td>0.0</td>\n",
       "    </tr>\n",
       "    <tr>\n",
       "      <th>5409364</th>\n",
       "      <td>0.021787</td>\n",
       "      <td>0.092445</td>\n",
       "      <td>0.018387</td>\n",
       "      <td>0.561404</td>\n",
       "      <td>0.122048</td>\n",
       "      <td>0.059022</td>\n",
       "      <td>0.565757</td>\n",
       "      <td>0.078646</td>\n",
       "      <td>0.020689</td>\n",
       "      <td>0.217073</td>\n",
       "      <td>0.0</td>\n",
       "    </tr>\n",
       "  </tbody>\n",
       "</table>\n",
       "</div>"
      ],
      "text/plain": [
       "         transcript_position  -1_flank_length  -1_flank_std  -1_flank_mean  \\\n",
       "844118              0.019170         0.025266      0.006440       0.461153   \n",
       "8464580             0.013350         0.106811      0.014890       0.686717   \n",
       "1424169             0.045763         0.053321      0.022758       0.461153   \n",
       "1891029             0.084958         0.098361      0.009160       0.385965   \n",
       "5409364             0.021787         0.092445      0.018387       0.561404   \n",
       "\n",
       "         central_length  central_std  central_mean  +1_flank_length  \\\n",
       "844118         0.087575     0.015324      0.429280         0.070949   \n",
       "8464580        0.073639     0.026880      0.652605         0.042629   \n",
       "1424169        0.097110     0.014644      0.677419         0.016381   \n",
       "1891029        0.026918     0.015469      0.272953         0.032761   \n",
       "5409364        0.122048     0.059022      0.565757         0.078646   \n",
       "\n",
       "         +1_flank_std  +1_flank_mean  label  \n",
       "844118       0.008506       0.370732    0.0  \n",
       "8464580      0.031023       0.271951    0.0  \n",
       "1424169      0.039779       0.236585    0.0  \n",
       "1891029      0.007473       0.342683    0.0  \n",
       "5409364      0.020689       0.217073    0.0  "
      ]
     },
     "execution_count": 62,
     "metadata": {},
     "output_type": "execute_result"
    }
   ],
   "source": [
    "without_balance_test.head()"
   ]
  },
  {
   "cell_type": "code",
   "execution_count": 63,
   "metadata": {},
   "outputs": [],
   "source": [
    "without_balance_test.to_csv('data/without_balance_test.csv', index=False)"
   ]
  },
  {
   "cell_type": "code",
   "execution_count": 43,
   "metadata": {},
   "outputs": [],
   "source": [
    "ratio = 1 - 499574/10527532"
   ]
  },
  {
   "cell_type": "code",
   "execution_count": 45,
   "metadata": {},
   "outputs": [
    {
     "name": "stdout",
     "output_type": "stream",
     "text": [
      "       transcript_position  -1_flank_length   -1_flank_std  -1_flank_mean  \\\n",
      "count        999148.000000    999148.000000  999148.000000  999148.000000   \n",
      "mean              0.071101         0.055463       0.021331       0.504919   \n",
      "std               0.058691         0.046357       0.012460       0.135937   \n",
      "min               0.000000         0.000000       0.000000       0.028822   \n",
      "25%               0.032573         0.022562       0.012122       0.423559   \n",
      "50%               0.056870         0.042589       0.017659       0.536341   \n",
      "75%               0.094836         0.073010       0.027906       0.598997   \n",
      "max               0.997330         0.949299       0.898012       0.987469   \n",
      "\n",
      "       central_length    central_std   central_mean  +1_flank_length  \\\n",
      "count   999148.000000  999148.000000  999148.000000    999148.000000   \n",
      "mean         0.048137       0.024937       0.468532         0.054532   \n",
      "std          0.039331       0.014142       0.152827         0.043994   \n",
      "min          0.000000       0.000879       0.047146         0.000000   \n",
      "25%          0.020977       0.014255       0.317618         0.024768   \n",
      "50%          0.037627       0.021004       0.503722         0.042629   \n",
      "75%          0.063371       0.032803       0.590571         0.071344   \n",
      "max          0.699281       0.689254       0.900744         0.805605   \n",
      "\n",
      "        +1_flank_std  +1_flank_mean     label  \n",
      "count  999148.000000  999148.000000  999148.0  \n",
      "mean        0.015623       0.313899       0.5  \n",
      "std         0.009237       0.067380       0.5  \n",
      "min         0.000457       0.057317       0.0  \n",
      "25%         0.009757       0.264634       0.0  \n",
      "50%         0.013129       0.320732       0.5  \n",
      "75%         0.018514       0.363415       1.0  \n",
      "max         0.842275       0.865854       1.0  \n"
     ]
    },
    {
     "data": {
      "text/plain": [
       "<Axes: xlabel='label'>"
      ]
     },
     "execution_count": 45,
     "metadata": {},
     "output_type": "execute_result"
    },
    {
     "data": {
      "image/png": "[encoded data removed]",
      "text/plain": [
       "<Figure size 640x480 with 1 Axes>"
      ]
     },
     "metadata": {},
     "output_type": "display_data"
    }
   ],
   "source": [
    "# Calculate the number of negative samples to remove (70% of total negatives)\n",
    "num_negatives_to_remove = int(ratio * len(df[df['label'] == 0]))\n",
    "\n",
    "# Get the indices of negative samples\n",
    "negative_indices = df.index[df['label'] == 0]\n",
    "\n",
    "# Randomly select and remove 70% of the negative samples\n",
    "indices_to_remove = np.random.choice(negative_indices, size=num_negatives_to_remove, replace=False)\n",
    "df = df.drop(indices_to_remove)\n",
    "\n",
    "# Reset the index of the DataFrame (optional)\n",
    "df.reset_index(drop=True, inplace=True)\n",
    "\n",
    "# Print the updated DataFrame\n",
    "print(df.describe())\n",
    "df['label'].value_counts().plot(kind='bar')"
   ]
  },
  {
   "cell_type": "markdown",
   "metadata": {},
   "source": [
    "# train test split"
   ]
  },
  {
   "cell_type": "code",
   "execution_count": 46,
   "metadata": {},
   "outputs": [],
   "source": [
    "train, test = train_test_split(df, test_size=0.05)"
   ]
  },
  {
   "cell_type": "code",
   "execution_count": 47,
   "metadata": {},
   "outputs": [
    {
     "data": {
      "text/plain": [
       "949190"
      ]
     },
     "execution_count": 47,
     "metadata": {},
     "output_type": "execute_result"
    }
   ],
   "source": [
    "len(train)"
   ]
  },
  {
   "cell_type": "code",
   "execution_count": 48,
   "metadata": {},
   "outputs": [
    {
     "data": {
      "text/plain": [
       "49958"
      ]
     },
     "execution_count": 48,
     "metadata": {},
     "output_type": "execute_result"
    }
   ],
   "source": [
    "len(test)"
   ]
  },
  {
   "cell_type": "code",
   "execution_count": 49,
   "metadata": {},
   "outputs": [
    {
     "data": {
      "text/html": [
       "<div>\n",
       "<style scoped>\n",
       "    .dataframe tbody tr th:only-of-type {\n",
       "        vertical-align: middle;\n",
       "    }\n",
       "\n",
       "    .dataframe tbody tr th {\n",
       "        vertical-align: top;\n",
       "    }\n",
       "\n",
       "    .dataframe thead th {\n",
       "        text-align: right;\n",
       "    }\n",
       "</style>\n",
       "<table border=\"1\" class=\"dataframe\">\n",
       "  <thead>\n",
       "    <tr style=\"text-align: right;\">\n",
       "      <th></th>\n",
       "      <th>transcript_position</th>\n",
       "      <th>-1_flank_length</th>\n",
       "      <th>-1_flank_std</th>\n",
       "      <th>-1_flank_mean</th>\n",
       "      <th>central_length</th>\n",
       "      <th>central_std</th>\n",
       "      <th>central_mean</th>\n",
       "      <th>+1_flank_length</th>\n",
       "      <th>+1_flank_std</th>\n",
       "      <th>+1_flank_mean</th>\n",
       "      <th>label</th>\n",
       "    </tr>\n",
       "  </thead>\n",
       "  <tbody>\n",
       "    <tr>\n",
       "      <th>772214</th>\n",
       "      <td>0.017248</td>\n",
       "      <td>0.043603</td>\n",
       "      <td>0.015133</td>\n",
       "      <td>0.303258</td>\n",
       "      <td>0.046281</td>\n",
       "      <td>0.025908</td>\n",
       "      <td>0.540943</td>\n",
       "      <td>0.157292</td>\n",
       "      <td>0.014271</td>\n",
       "      <td>0.292683</td>\n",
       "      <td>1.0</td>\n",
       "    </tr>\n",
       "    <tr>\n",
       "      <th>612242</th>\n",
       "      <td>0.028835</td>\n",
       "      <td>0.091600</td>\n",
       "      <td>0.008091</td>\n",
       "      <td>0.172932</td>\n",
       "      <td>0.004841</td>\n",
       "      <td>0.010517</td>\n",
       "      <td>0.187345</td>\n",
       "      <td>0.047464</td>\n",
       "      <td>0.012803</td>\n",
       "      <td>0.273171</td>\n",
       "      <td>0.0</td>\n",
       "    </tr>\n",
       "    <tr>\n",
       "      <th>657324</th>\n",
       "      <td>0.020879</td>\n",
       "      <td>0.030505</td>\n",
       "      <td>0.024895</td>\n",
       "      <td>0.636591</td>\n",
       "      <td>0.080241</td>\n",
       "      <td>0.020713</td>\n",
       "      <td>0.215881</td>\n",
       "      <td>0.013124</td>\n",
       "      <td>0.006657</td>\n",
       "      <td>0.150000</td>\n",
       "      <td>0.0</td>\n",
       "    </tr>\n",
       "    <tr>\n",
       "      <th>326549</th>\n",
       "      <td>0.030491</td>\n",
       "      <td>0.008619</td>\n",
       "      <td>0.019795</td>\n",
       "      <td>0.373434</td>\n",
       "      <td>0.024718</td>\n",
       "      <td>0.032706</td>\n",
       "      <td>0.602978</td>\n",
       "      <td>0.013124</td>\n",
       "      <td>0.018024</td>\n",
       "      <td>0.239024</td>\n",
       "      <td>0.0</td>\n",
       "    </tr>\n",
       "    <tr>\n",
       "      <th>386681</th>\n",
       "      <td>0.084691</td>\n",
       "      <td>0.044955</td>\n",
       "      <td>0.036356</td>\n",
       "      <td>0.611529</td>\n",
       "      <td>0.024718</td>\n",
       "      <td>0.012313</td>\n",
       "      <td>0.354839</td>\n",
       "      <td>0.026248</td>\n",
       "      <td>0.007255</td>\n",
       "      <td>0.374390</td>\n",
       "      <td>1.0</td>\n",
       "    </tr>\n",
       "  </tbody>\n",
       "</table>\n",
       "</div>"
      ],
      "text/plain": [
       "        transcript_position  -1_flank_length  -1_flank_std  -1_flank_mean  \\\n",
       "772214             0.017248         0.043603      0.015133       0.303258   \n",
       "612242             0.028835         0.091600      0.008091       0.172932   \n",
       "657324             0.020879         0.030505      0.024895       0.636591   \n",
       "326549             0.030491         0.008619      0.019795       0.373434   \n",
       "386681             0.084691         0.044955      0.036356       0.611529   \n",
       "\n",
       "        central_length  central_std  central_mean  +1_flank_length  \\\n",
       "772214        0.046281     0.025908      0.540943         0.157292   \n",
       "612242        0.004841     0.010517      0.187345         0.047464   \n",
       "657324        0.080241     0.020713      0.215881         0.013124   \n",
       "326549        0.024718     0.032706      0.602978         0.013124   \n",
       "386681        0.024718     0.012313      0.354839         0.026248   \n",
       "\n",
       "        +1_flank_std  +1_flank_mean  label  \n",
       "772214      0.014271       0.292683    1.0  \n",
       "612242      0.012803       0.273171    0.0  \n",
       "657324      0.006657       0.150000    0.0  \n",
       "326549      0.018024       0.239024    0.0  \n",
       "386681      0.007255       0.374390    1.0  "
      ]
     },
     "execution_count": 49,
     "metadata": {},
     "output_type": "execute_result"
    }
   ],
   "source": [
    "train.head()"
   ]
  },
  {
   "cell_type": "code",
   "execution_count": 50,
   "metadata": {},
   "outputs": [],
   "source": [
    "train.to_csv('data/train_data_new.csv', index=False)\n",
    "test.to_csv('data/test_data_new.csv', index=False)"
   ]
  }
 ],
 "metadata": {
  "kernelspec": {
   "display_name": "Python 3",
   "language": "python",
   "name": "python3"
  },
  "language_info": {
   "codemirror_mode": {
    "name": "ipython",
    "version": 3
   },
   "file_extension": ".py",
   "mimetype": "text/x-python",
   "name": "python",
   "nbconvert_exporter": "python",
   "pygments_lexer": "ipython3",
   "version": "3.10.13"
  },
  "orig_nbformat": 4
 },
 "nbformat": 4,
 "nbformat_minor": 2
}
