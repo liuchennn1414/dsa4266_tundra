{
 "cells": [
  {
   "cell_type": "code",
   "execution_count": 1,
   "metadata": {},
   "outputs": [],
   "source": [
    "from sklearn.model_selection import train_test_split \n",
    "import pandas as pd\n",
    "import numpy as np"
   ]
  },
  {
   "cell_type": "code",
   "execution_count": 2,
   "metadata": {},
   "outputs": [],
   "source": [
    "df = pd.read_csv('merged_data.csv')"
   ]
  },
  {
   "cell_type": "code",
   "execution_count": 3,
   "metadata": {},
   "outputs": [
    {
     "data": {
      "text/html": [
       "<div>\n",
       "<style scoped>\n",
       "    .dataframe tbody tr th:only-of-type {\n",
       "        vertical-align: middle;\n",
       "    }\n",
       "\n",
       "    .dataframe tbody tr th {\n",
       "        vertical-align: top;\n",
       "    }\n",
       "\n",
       "    .dataframe thead th {\n",
       "        text-align: right;\n",
       "    }\n",
       "</style>\n",
       "<table border=\"1\" class=\"dataframe\">\n",
       "  <thead>\n",
       "    <tr style=\"text-align: right;\">\n",
       "      <th></th>\n",
       "      <th>transcript_id</th>\n",
       "      <th>transcript_position</th>\n",
       "      <th>sequence</th>\n",
       "      <th>-1_flank_length</th>\n",
       "      <th>-1_flank_std</th>\n",
       "      <th>-1_flank_mean</th>\n",
       "      <th>central_length</th>\n",
       "      <th>central_std</th>\n",
       "      <th>central_mean</th>\n",
       "      <th>+1_flank_length</th>\n",
       "      <th>+1_flank_std</th>\n",
       "      <th>+1_flank_mean</th>\n",
       "      <th>gene_id</th>\n",
       "      <th>label</th>\n",
       "    </tr>\n",
       "  </thead>\n",
       "  <tbody>\n",
       "    <tr>\n",
       "      <th>0</th>\n",
       "      <td>ENST00000000233</td>\n",
       "      <td>244</td>\n",
       "      <td>AAGACCA</td>\n",
       "      <td>0.00299</td>\n",
       "      <td>2.06</td>\n",
       "      <td>125.0</td>\n",
       "      <td>0.01770</td>\n",
       "      <td>10.40</td>\n",
       "      <td>122.0</td>\n",
       "      <td>0.00930</td>\n",
       "      <td>10.90</td>\n",
       "      <td>84.1</td>\n",
       "      <td>ENSG00000004059</td>\n",
       "      <td>0</td>\n",
       "    </tr>\n",
       "    <tr>\n",
       "      <th>1</th>\n",
       "      <td>ENST00000000233</td>\n",
       "      <td>244</td>\n",
       "      <td>AAGACCA</td>\n",
       "      <td>0.00631</td>\n",
       "      <td>2.53</td>\n",
       "      <td>125.0</td>\n",
       "      <td>0.00844</td>\n",
       "      <td>4.67</td>\n",
       "      <td>126.0</td>\n",
       "      <td>0.01030</td>\n",
       "      <td>6.30</td>\n",
       "      <td>80.9</td>\n",
       "      <td>ENSG00000004059</td>\n",
       "      <td>0</td>\n",
       "    </tr>\n",
       "    <tr>\n",
       "      <th>2</th>\n",
       "      <td>ENST00000000233</td>\n",
       "      <td>244</td>\n",
       "      <td>AAGACCA</td>\n",
       "      <td>0.00465</td>\n",
       "      <td>3.92</td>\n",
       "      <td>109.0</td>\n",
       "      <td>0.01360</td>\n",
       "      <td>12.00</td>\n",
       "      <td>124.0</td>\n",
       "      <td>0.00498</td>\n",
       "      <td>2.13</td>\n",
       "      <td>79.6</td>\n",
       "      <td>ENSG00000004059</td>\n",
       "      <td>0</td>\n",
       "    </tr>\n",
       "    <tr>\n",
       "      <th>3</th>\n",
       "      <td>ENST00000000233</td>\n",
       "      <td>244</td>\n",
       "      <td>AAGACCA</td>\n",
       "      <td>0.00398</td>\n",
       "      <td>2.06</td>\n",
       "      <td>125.0</td>\n",
       "      <td>0.00830</td>\n",
       "      <td>5.01</td>\n",
       "      <td>130.0</td>\n",
       "      <td>0.00498</td>\n",
       "      <td>3.78</td>\n",
       "      <td>80.4</td>\n",
       "      <td>ENSG00000004059</td>\n",
       "      <td>0</td>\n",
       "    </tr>\n",
       "    <tr>\n",
       "      <th>4</th>\n",
       "      <td>ENST00000000233</td>\n",
       "      <td>244</td>\n",
       "      <td>AAGACCA</td>\n",
       "      <td>0.00664</td>\n",
       "      <td>2.92</td>\n",
       "      <td>120.0</td>\n",
       "      <td>0.00266</td>\n",
       "      <td>3.94</td>\n",
       "      <td>129.0</td>\n",
       "      <td>0.01300</td>\n",
       "      <td>7.15</td>\n",
       "      <td>82.2</td>\n",
       "      <td>ENSG00000004059</td>\n",
       "      <td>0</td>\n",
       "    </tr>\n",
       "  </tbody>\n",
       "</table>\n",
       "</div>"
      ],
      "text/plain": [
       "     transcript_id  transcript_position sequence  -1_flank_length  \\\n",
       "0  ENST00000000233                  244  AAGACCA          0.00299   \n",
       "1  ENST00000000233                  244  AAGACCA          0.00631   \n",
       "2  ENST00000000233                  244  AAGACCA          0.00465   \n",
       "3  ENST00000000233                  244  AAGACCA          0.00398   \n",
       "4  ENST00000000233                  244  AAGACCA          0.00664   \n",
       "\n",
       "   -1_flank_std  -1_flank_mean  central_length  central_std  central_mean  \\\n",
       "0          2.06          125.0         0.01770        10.40         122.0   \n",
       "1          2.53          125.0         0.00844         4.67         126.0   \n",
       "2          3.92          109.0         0.01360        12.00         124.0   \n",
       "3          2.06          125.0         0.00830         5.01         130.0   \n",
       "4          2.92          120.0         0.00266         3.94         129.0   \n",
       "\n",
       "   +1_flank_length  +1_flank_std  +1_flank_mean          gene_id  label  \n",
       "0          0.00930         10.90           84.1  ENSG00000004059      0  \n",
       "1          0.01030          6.30           80.9  ENSG00000004059      0  \n",
       "2          0.00498          2.13           79.6  ENSG00000004059      0  \n",
       "3          0.00498          3.78           80.4  ENSG00000004059      0  \n",
       "4          0.01300          7.15           82.2  ENSG00000004059      0  "
      ]
     },
     "execution_count": 3,
     "metadata": {},
     "output_type": "execute_result"
    }
   ],
   "source": [
    "df.head()"
   ]
  },
  {
   "cell_type": "code",
   "execution_count": 4,
   "metadata": {},
   "outputs": [],
   "source": [
    "y = df[['label']]\n",
    "X = df.drop('label', axis = 1)"
   ]
  },
  {
   "cell_type": "code",
   "execution_count": 5,
   "metadata": {},
   "outputs": [],
   "source": [
    "train, test = train_test_split(df, test_size=0.2)"
   ]
  },
  {
   "cell_type": "code",
   "execution_count": 6,
   "metadata": {},
   "outputs": [
    {
     "data": {
      "text/plain": [
       "8821684"
      ]
     },
     "execution_count": 6,
     "metadata": {},
     "output_type": "execute_result"
    }
   ],
   "source": [
    "len(train)"
   ]
  },
  {
   "cell_type": "code",
   "execution_count": 7,
   "metadata": {},
   "outputs": [
    {
     "data": {
      "text/plain": [
       "2205422"
      ]
     },
     "execution_count": 7,
     "metadata": {},
     "output_type": "execute_result"
    }
   ],
   "source": [
    "len(test)"
   ]
  },
  {
   "cell_type": "code",
   "execution_count": 8,
   "metadata": {},
   "outputs": [
    {
     "data": {
      "text/plain": [
       "10527532"
      ]
     },
     "execution_count": 8,
     "metadata": {},
     "output_type": "execute_result"
    }
   ],
   "source": [
    "len(df[df['label'] == 0])"
   ]
  },
  {
   "cell_type": "code",
   "execution_count": 9,
   "metadata": {},
   "outputs": [
    {
     "data": {
      "text/plain": [
       "499574"
      ]
     },
     "execution_count": 9,
     "metadata": {},
     "output_type": "execute_result"
    }
   ],
   "source": [
    "len(df[df['label'] == 1])"
   ]
  },
  {
   "cell_type": "code",
   "execution_count": 10,
   "metadata": {},
   "outputs": [
    {
     "data": {
      "text/plain": [
       "0.0474540471593912"
      ]
     },
     "execution_count": 10,
     "metadata": {},
     "output_type": "execute_result"
    }
   ],
   "source": [
    "499574/10527532"
   ]
  },
  {
   "cell_type": "code",
   "execution_count": 11,
   "metadata": {},
   "outputs": [
    {
     "name": "stdout",
     "output_type": "stream",
     "text": [
      "       transcript_position  -1_flank_length  -1_flank_std  -1_flank_mean  \\\n",
      "count         1.025951e+06     1.025951e+06  1.025951e+06   1.025951e+06   \n",
      "mean          1.333625e+03     8.207768e-03  4.482722e+00   1.134241e+02   \n",
      "std           1.098740e+03     5.462591e-03  2.561871e+00   1.089248e+01   \n",
      "min           3.000000e+00     1.660000e-03  2.360000e-01   7.400000e+01   \n",
      "25%           6.120000e+02     4.320000e-03  2.590000e+00   1.070000e+02   \n",
      "50%           1.065000e+03     6.690000e-03  3.730000e+00   1.160000e+02   \n",
      "75%           1.779000e+03     1.030000e-02  5.830000e+00   1.210000e+02   \n",
      "max           1.873000e+04     8.930000e-02  1.850000e+02   1.480000e+02   \n",
      "\n",
      "       central_length   central_std  central_mean  +1_flank_length  \\\n",
      "count    1.025951e+06  1.025951e+06  1.025951e+06     1.025951e+06   \n",
      "mean     8.216589e-03  5.178240e+00  1.131036e+02     7.188106e-03   \n",
      "std      5.359488e-03  2.906516e+00  1.235028e+01     4.457209e-03   \n",
      "min      1.660000e-03  2.070000e-01  7.880000e+01     1.660000e-03   \n",
      "25%      4.530000e-03  2.980000e+00  1.010000e+02     4.170000e-03   \n",
      "50%      6.790000e-03  4.360000e+00  1.160000e+02     5.980000e-03   \n",
      "75%      1.030000e-02  6.800000e+00  1.230000e+02     8.900000e-03   \n",
      "max      1.010000e-01  1.240000e+02  1.560000e+02     9.610000e-02   \n",
      "\n",
      "       +1_flank_std  +1_flank_mean         label  \n",
      "count  1.025951e+06   1.025951e+06  1.025951e+06  \n",
      "mean   3.009244e+00   8.672266e+01  4.869375e-01  \n",
      "std    1.692409e+00   5.524400e+00  4.998296e-01  \n",
      "min    2.200000e-01   6.520000e+01  0.000000e+00  \n",
      "25%    1.930000e+00   8.270000e+01  0.000000e+00  \n",
      "50%    2.550000e+00   8.730000e+01  0.000000e+00  \n",
      "75%    3.540000e+00   9.080000e+01  1.000000e+00  \n",
      "max    1.120000e+02   1.300000e+02  1.000000e+00  \n"
     ]
    },
    {
     "data": {
      "text/plain": [
       "<Axes: xlabel='label'>"
      ]
     },
     "execution_count": 11,
     "metadata": {},
     "output_type": "execute_result"
    },
    {
     "data": {
      "image/png": "[encoded data removed]",
      "text/plain": [
       "<Figure size 640x480 with 1 Axes>"
      ]
     },
     "metadata": {},
     "output_type": "display_data"
    }
   ],
   "source": [
    "# Calculate the number of negative samples to remove (70% of total negatives)\n",
    "num_negatives_to_remove = int(0.95 * len(df[df['label'] == 0]))\n",
    "\n",
    "# Get the indices of negative samples\n",
    "negative_indices = df.index[df['label'] == 0]\n",
    "\n",
    "# Randomly select and remove 70% of the negative samples\n",
    "indices_to_remove = np.random.choice(negative_indices, size=num_negatives_to_remove, replace=False)\n",
    "df = df.drop(indices_to_remove)\n",
    "\n",
    "# Reset the index of the DataFrame (optional)\n",
    "df.reset_index(drop=True, inplace=True)\n",
    "\n",
    "# Print the updated DataFrame\n",
    "print(df.describe())\n",
    "df['label'].value_counts().plot(kind='bar')"
   ]
  },
  {
   "cell_type": "code",
   "execution_count": 12,
   "metadata": {},
   "outputs": [],
   "source": [
    "train, test = train_test_split(df, test_size=0.05)"
   ]
  },
  {
   "cell_type": "code",
   "execution_count": 13,
   "metadata": {},
   "outputs": [
    {
     "data": {
      "text/plain": [
       "974653"
      ]
     },
     "execution_count": 13,
     "metadata": {},
     "output_type": "execute_result"
    }
   ],
   "source": [
    "len(train)"
   ]
  },
  {
   "cell_type": "code",
   "execution_count": 14,
   "metadata": {},
   "outputs": [
    {
     "data": {
      "text/plain": [
       "51298"
      ]
     },
     "execution_count": 14,
     "metadata": {},
     "output_type": "execute_result"
    }
   ],
   "source": [
    "len(test)"
   ]
  },
  {
   "cell_type": "code",
   "execution_count": 15,
   "metadata": {},
   "outputs": [
    {
     "data": {
      "text/html": [
       "<div>\n",
       "<style scoped>\n",
       "    .dataframe tbody tr th:only-of-type {\n",
       "        vertical-align: middle;\n",
       "    }\n",
       "\n",
       "    .dataframe tbody tr th {\n",
       "        vertical-align: top;\n",
       "    }\n",
       "\n",
       "    .dataframe thead th {\n",
       "        text-align: right;\n",
       "    }\n",
       "</style>\n",
       "<table border=\"1\" class=\"dataframe\">\n",
       "  <thead>\n",
       "    <tr style=\"text-align: right;\">\n",
       "      <th></th>\n",
       "      <th>transcript_id</th>\n",
       "      <th>transcript_position</th>\n",
       "      <th>sequence</th>\n",
       "      <th>-1_flank_length</th>\n",
       "      <th>-1_flank_std</th>\n",
       "      <th>-1_flank_mean</th>\n",
       "      <th>central_length</th>\n",
       "      <th>central_std</th>\n",
       "      <th>central_mean</th>\n",
       "      <th>+1_flank_length</th>\n",
       "      <th>+1_flank_std</th>\n",
       "      <th>+1_flank_mean</th>\n",
       "      <th>gene_id</th>\n",
       "      <th>label</th>\n",
       "    </tr>\n",
       "  </thead>\n",
       "  <tbody>\n",
       "    <tr>\n",
       "      <th>720632</th>\n",
       "      <td>ENST00000396386</td>\n",
       "      <td>1659</td>\n",
       "      <td>GTAACCT</td>\n",
       "      <td>0.00398</td>\n",
       "      <td>2.87</td>\n",
       "      <td>90.9</td>\n",
       "      <td>0.00487</td>\n",
       "      <td>4.31</td>\n",
       "      <td>99.5</td>\n",
       "      <td>0.00689</td>\n",
       "      <td>1.78</td>\n",
       "      <td>78.0</td>\n",
       "      <td>ENSG00000122565</td>\n",
       "      <td>0</td>\n",
       "    </tr>\n",
       "    <tr>\n",
       "      <th>326969</th>\n",
       "      <td>ENST00000311922</td>\n",
       "      <td>1672</td>\n",
       "      <td>AGGACAG</td>\n",
       "      <td>0.01160</td>\n",
       "      <td>8.19</td>\n",
       "      <td>109.0</td>\n",
       "      <td>0.00498</td>\n",
       "      <td>6.09</td>\n",
       "      <td>105.0</td>\n",
       "      <td>0.00772</td>\n",
       "      <td>2.51</td>\n",
       "      <td>75.6</td>\n",
       "      <td>ENSG00000173334</td>\n",
       "      <td>1</td>\n",
       "    </tr>\n",
       "    <tr>\n",
       "      <th>564442</th>\n",
       "      <td>ENST00000367287</td>\n",
       "      <td>874</td>\n",
       "      <td>CGGACTT</td>\n",
       "      <td>0.01090</td>\n",
       "      <td>6.63</td>\n",
       "      <td>123.0</td>\n",
       "      <td>0.01790</td>\n",
       "      <td>10.30</td>\n",
       "      <td>122.0</td>\n",
       "      <td>0.00631</td>\n",
       "      <td>1.69</td>\n",
       "      <td>84.6</td>\n",
       "      <td>ENSG00000134375</td>\n",
       "      <td>1</td>\n",
       "    </tr>\n",
       "    <tr>\n",
       "      <th>805958</th>\n",
       "      <td>ENST00000464595</td>\n",
       "      <td>303</td>\n",
       "      <td>TGGACTG</td>\n",
       "      <td>0.00432</td>\n",
       "      <td>2.93</td>\n",
       "      <td>116.0</td>\n",
       "      <td>0.01550</td>\n",
       "      <td>9.42</td>\n",
       "      <td>120.0</td>\n",
       "      <td>0.01260</td>\n",
       "      <td>2.65</td>\n",
       "      <td>86.3</td>\n",
       "      <td>ENSG00000114391</td>\n",
       "      <td>0</td>\n",
       "    </tr>\n",
       "    <tr>\n",
       "      <th>819514</th>\n",
       "      <td>ENST00000479992</td>\n",
       "      <td>728</td>\n",
       "      <td>GAAACAG</td>\n",
       "      <td>0.01260</td>\n",
       "      <td>4.07</td>\n",
       "      <td>102.0</td>\n",
       "      <td>0.00896</td>\n",
       "      <td>5.12</td>\n",
       "      <td>93.5</td>\n",
       "      <td>0.00631</td>\n",
       "      <td>2.84</td>\n",
       "      <td>87.9</td>\n",
       "      <td>ENSG00000142541</td>\n",
       "      <td>1</td>\n",
       "    </tr>\n",
       "  </tbody>\n",
       "</table>\n",
       "</div>"
      ],
      "text/plain": [
       "          transcript_id  transcript_position sequence  -1_flank_length  \\\n",
       "720632  ENST00000396386                 1659  GTAACCT          0.00398   \n",
       "326969  ENST00000311922                 1672  AGGACAG          0.01160   \n",
       "564442  ENST00000367287                  874  CGGACTT          0.01090   \n",
       "805958  ENST00000464595                  303  TGGACTG          0.00432   \n",
       "819514  ENST00000479992                  728  GAAACAG          0.01260   \n",
       "\n",
       "        -1_flank_std  -1_flank_mean  central_length  central_std  \\\n",
       "720632          2.87           90.9         0.00487         4.31   \n",
       "326969          8.19          109.0         0.00498         6.09   \n",
       "564442          6.63          123.0         0.01790        10.30   \n",
       "805958          2.93          116.0         0.01550         9.42   \n",
       "819514          4.07          102.0         0.00896         5.12   \n",
       "\n",
       "        central_mean  +1_flank_length  +1_flank_std  +1_flank_mean  \\\n",
       "720632          99.5          0.00689          1.78           78.0   \n",
       "326969         105.0          0.00772          2.51           75.6   \n",
       "564442         122.0          0.00631          1.69           84.6   \n",
       "805958         120.0          0.01260          2.65           86.3   \n",
       "819514          93.5          0.00631          2.84           87.9   \n",
       "\n",
       "                gene_id  label  \n",
       "720632  ENSG00000122565      0  \n",
       "326969  ENSG00000173334      1  \n",
       "564442  ENSG00000134375      1  \n",
       "805958  ENSG00000114391      0  \n",
       "819514  ENSG00000142541      1  "
      ]
     },
     "execution_count": 15,
     "metadata": {},
     "output_type": "execute_result"
    }
   ],
   "source": [
    "train.head()"
   ]
  },
  {
   "cell_type": "code",
   "execution_count": 17,
   "metadata": {},
   "outputs": [],
   "source": [
    "train.to_csv('train_data_new.csv', index=False)\n",
    "test.to_csv('test_data_new.csv', index=False)"
   ]
  }
 ],
 "metadata": {
  "kernelspec": {
   "display_name": "Python 3.11.4 64-bit",
   "language": "python",
   "name": "python3"
  },
  "language_info": {
   "codemirror_mode": {
    "name": "ipython",
    "version": 3
   },
   "file_extension": ".py",
   "mimetype": "text/x-python",
   "name": "python",
   "nbconvert_exporter": "python",
   "pygments_lexer": "ipython3",
   "version": "3.11.4"
  },
  "orig_nbformat": 4,
  "vscode": {
   "interpreter": {
    "hash": "aee8b7b246df8f9039afb4144a1f6fd8d2ca17a180786b69acc140d282b71a49"
   }
  }
 },
 "nbformat": 4,
 "nbformat_minor": 2
}
