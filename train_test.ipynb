{
 "cells": [
  {
   "cell_type": "code",
   "execution_count": 2,
   "metadata": {},
   "outputs": [],
   "source": [
    "from sklearn.model_selection import train_test_split \n",
    "import pandas as pd\n",
    "import numpy as np\n",
    "from sklearn.model_selection import GroupShuffleSplit"
   ]
  },
  {
   "cell_type": "code",
   "execution_count": 7,
   "metadata": {},
   "outputs": [],
   "source": [
    "df = pd.read_csv('merged_data.csv')"
   ]
  },
  {
   "cell_type": "code",
   "execution_count": 22,
   "metadata": {},
   "outputs": [
    {
     "data": {
      "text/html": [
       "<div>\n",
       "<style scoped>\n",
       "    .dataframe tbody tr th:only-of-type {\n",
       "        vertical-align: middle;\n",
       "    }\n",
       "\n",
       "    .dataframe tbody tr th {\n",
       "        vertical-align: top;\n",
       "    }\n",
       "\n",
       "    .dataframe thead th {\n",
       "        text-align: right;\n",
       "    }\n",
       "</style>\n",
       "<table border=\"1\" class=\"dataframe\">\n",
       "  <thead>\n",
       "    <tr style=\"text-align: right;\">\n",
       "      <th></th>\n",
       "      <th>transcript_id</th>\n",
       "      <th>transcript_position</th>\n",
       "      <th>sequence</th>\n",
       "      <th>1-flank_length_avg</th>\n",
       "      <th>1-flank_length_med</th>\n",
       "      <th>1-flank_length_min</th>\n",
       "      <th>1-flank_length_max</th>\n",
       "      <th>1-flank_length_std</th>\n",
       "      <th>1-flank_std_avg</th>\n",
       "      <th>1-flank_std_med</th>\n",
       "      <th>...</th>\n",
       "      <th>1+flank_std_min</th>\n",
       "      <th>1+flank_std_max</th>\n",
       "      <th>1+flank_std_std</th>\n",
       "      <th>1+flank_mean_avg</th>\n",
       "      <th>1+flank_mean_med</th>\n",
       "      <th>1+flank_mean_min</th>\n",
       "      <th>1+flank_mean_max</th>\n",
       "      <th>1+flank_mean_std</th>\n",
       "      <th>gene_id</th>\n",
       "      <th>label</th>\n",
       "    </tr>\n",
       "  </thead>\n",
       "  <tbody>\n",
       "    <tr>\n",
       "      <th>0</th>\n",
       "      <td>ENST00000000233</td>\n",
       "      <td>244</td>\n",
       "      <td>AAGACCA</td>\n",
       "      <td>0.008264</td>\n",
       "      <td>4.223784</td>\n",
       "      <td>123.702703</td>\n",
       "      <td>0.009373</td>\n",
       "      <td>7.382162</td>\n",
       "      <td>125.913514</td>\n",
       "      <td>0.007345</td>\n",
       "      <td>...</td>\n",
       "      <td>1.843025</td>\n",
       "      <td>4.944365</td>\n",
       "      <td>0.005364</td>\n",
       "      <td>3.302671</td>\n",
       "      <td>2.765244</td>\n",
       "      <td>0.004566</td>\n",
       "      <td>2.906225</td>\n",
       "      <td>2.522168</td>\n",
       "      <td>ENSG00000004059</td>\n",
       "      <td>0</td>\n",
       "    </tr>\n",
       "    <tr>\n",
       "      <th>1</th>\n",
       "      <td>ENST00000000233</td>\n",
       "      <td>261</td>\n",
       "      <td>CAAACTG</td>\n",
       "      <td>0.006609</td>\n",
       "      <td>3.216424</td>\n",
       "      <td>109.681395</td>\n",
       "      <td>0.006813</td>\n",
       "      <td>3.226535</td>\n",
       "      <td>107.889535</td>\n",
       "      <td>0.007710</td>\n",
       "      <td>...</td>\n",
       "      <td>1.689167</td>\n",
       "      <td>2.981182</td>\n",
       "      <td>0.003767</td>\n",
       "      <td>1.237045</td>\n",
       "      <td>3.526528</td>\n",
       "      <td>0.004528</td>\n",
       "      <td>1.466295</td>\n",
       "      <td>2.492530</td>\n",
       "      <td>ENSG00000004059</td>\n",
       "      <td>0</td>\n",
       "    </tr>\n",
       "    <tr>\n",
       "      <th>2</th>\n",
       "      <td>ENST00000000233</td>\n",
       "      <td>316</td>\n",
       "      <td>GAAACAG</td>\n",
       "      <td>0.007570</td>\n",
       "      <td>2.940541</td>\n",
       "      <td>105.475676</td>\n",
       "      <td>0.007416</td>\n",
       "      <td>3.642703</td>\n",
       "      <td>98.947027</td>\n",
       "      <td>0.007555</td>\n",
       "      <td>...</td>\n",
       "      <td>1.311103</td>\n",
       "      <td>1.492577</td>\n",
       "      <td>0.005035</td>\n",
       "      <td>0.893481</td>\n",
       "      <td>3.203816</td>\n",
       "      <td>0.004497</td>\n",
       "      <td>0.800496</td>\n",
       "      <td>1.484341</td>\n",
       "      <td>ENSG00000004059</td>\n",
       "      <td>0</td>\n",
       "    </tr>\n",
       "    <tr>\n",
       "      <th>3</th>\n",
       "      <td>ENST00000000233</td>\n",
       "      <td>332</td>\n",
       "      <td>AGAACAT</td>\n",
       "      <td>0.010620</td>\n",
       "      <td>6.476350</td>\n",
       "      <td>129.355000</td>\n",
       "      <td>0.008632</td>\n",
       "      <td>2.899200</td>\n",
       "      <td>97.836500</td>\n",
       "      <td>0.006102</td>\n",
       "      <td>...</td>\n",
       "      <td>2.459317</td>\n",
       "      <td>3.202963</td>\n",
       "      <td>0.004612</td>\n",
       "      <td>1.393868</td>\n",
       "      <td>1.928009</td>\n",
       "      <td>0.003595</td>\n",
       "      <td>0.741771</td>\n",
       "      <td>3.494937</td>\n",
       "      <td>ENSG00000004059</td>\n",
       "      <td>0</td>\n",
       "    </tr>\n",
       "    <tr>\n",
       "      <th>4</th>\n",
       "      <td>ENST00000000233</td>\n",
       "      <td>368</td>\n",
       "      <td>AGGACAA</td>\n",
       "      <td>0.010701</td>\n",
       "      <td>6.415051</td>\n",
       "      <td>117.924242</td>\n",
       "      <td>0.011479</td>\n",
       "      <td>5.870303</td>\n",
       "      <td>121.954545</td>\n",
       "      <td>0.010019</td>\n",
       "      <td>...</td>\n",
       "      <td>2.743228</td>\n",
       "      <td>2.664643</td>\n",
       "      <td>0.005407</td>\n",
       "      <td>1.753894</td>\n",
       "      <td>2.177236</td>\n",
       "      <td>0.005908</td>\n",
       "      <td>1.341822</td>\n",
       "      <td>2.379045</td>\n",
       "      <td>ENSG00000004059</td>\n",
       "      <td>0</td>\n",
       "    </tr>\n",
       "  </tbody>\n",
       "</table>\n",
       "<p>5 rows × 50 columns</p>\n",
       "</div>"
      ],
      "text/plain": [
       "     transcript_id  transcript_position sequence  1-flank_length_avg  \\\n",
       "0  ENST00000000233                  244  AAGACCA            0.008264   \n",
       "1  ENST00000000233                  261  CAAACTG            0.006609   \n",
       "2  ENST00000000233                  316  GAAACAG            0.007570   \n",
       "3  ENST00000000233                  332  AGAACAT            0.010620   \n",
       "4  ENST00000000233                  368  AGGACAA            0.010701   \n",
       "\n",
       "   1-flank_length_med  1-flank_length_min  1-flank_length_max  \\\n",
       "0            4.223784          123.702703            0.009373   \n",
       "1            3.216424          109.681395            0.006813   \n",
       "2            2.940541          105.475676            0.007416   \n",
       "3            6.476350          129.355000            0.008632   \n",
       "4            6.415051          117.924242            0.011479   \n",
       "\n",
       "   1-flank_length_std  1-flank_std_avg  1-flank_std_med  ...  1+flank_std_min  \\\n",
       "0            7.382162       125.913514         0.007345  ...         1.843025   \n",
       "1            3.226535       107.889535         0.007710  ...         1.689167   \n",
       "2            3.642703        98.947027         0.007555  ...         1.311103   \n",
       "3            2.899200        97.836500         0.006102  ...         2.459317   \n",
       "4            5.870303       121.954545         0.010019  ...         2.743228   \n",
       "\n",
       "   1+flank_std_max  1+flank_std_std  1+flank_mean_avg  1+flank_mean_med  \\\n",
       "0         4.944365         0.005364          3.302671          2.765244   \n",
       "1         2.981182         0.003767          1.237045          3.526528   \n",
       "2         1.492577         0.005035          0.893481          3.203816   \n",
       "3         3.202963         0.004612          1.393868          1.928009   \n",
       "4         2.664643         0.005407          1.753894          2.177236   \n",
       "\n",
       "   1+flank_mean_min  1+flank_mean_max  1+flank_mean_std          gene_id  \\\n",
       "0          0.004566          2.906225          2.522168  ENSG00000004059   \n",
       "1          0.004528          1.466295          2.492530  ENSG00000004059   \n",
       "2          0.004497          0.800496          1.484341  ENSG00000004059   \n",
       "3          0.003595          0.741771          3.494937  ENSG00000004059   \n",
       "4          0.005908          1.341822          2.379045  ENSG00000004059   \n",
       "\n",
       "   label  \n",
       "0      0  \n",
       "1      0  \n",
       "2      0  \n",
       "3      0  \n",
       "4      0  \n",
       "\n",
       "[5 rows x 50 columns]"
      ]
     },
     "execution_count": 22,
     "metadata": {},
     "output_type": "execute_result"
    }
   ],
   "source": [
    "df.head()"
   ]
  },
  {
   "cell_type": "code",
   "execution_count": 11,
   "metadata": {},
   "outputs": [],
   "source": [
    "y = df[['label']]\n",
    "X = df.drop('label', axis = 1)"
   ]
  },
  {
   "cell_type": "code",
   "execution_count": 52,
   "metadata": {},
   "outputs": [],
   "source": [
    "#the number of splits for cross-validation\n",
    "n_splits = 5  # can change\n",
    "gss = GroupShuffleSplit(n_splits=n_splits, test_size=0.3, random_state=66)\n",
    "\n",
    "\n",
    "for train_idx, test_idx in gss.split(X, y, groups=df['gene_id']):\n",
    "    X_train = X.iloc[train_idx]\n",
    "    X_test = X.iloc[test_idx]\n",
    "    y_train = y.iloc[train_idx]\n",
    "    y_test = y.iloc[test_idx]\n"
   ]
  },
  {
   "cell_type": "code",
   "execution_count": 53,
   "metadata": {},
   "outputs": [],
   "source": [
    "combined_train_df = pd.concat([X_train, y_train], axis=1)\n",
    "combined_test_df = pd.concat([X_test, y_test], axis=1)\n"
   ]
  },
  {
   "cell_type": "code",
   "execution_count": 54,
   "metadata": {},
   "outputs": [
    {
     "data": {
      "text/plain": [
       "(86280, 50)"
      ]
     },
     "execution_count": 54,
     "metadata": {},
     "output_type": "execute_result"
    }
   ],
   "source": [
    "combined_train_df.shape"
   ]
  },
  {
   "cell_type": "code",
   "execution_count": 56,
   "metadata": {},
   "outputs": [
    {
     "data": {
      "text/plain": [
       "(35558, 50)"
      ]
     },
     "execution_count": 56,
     "metadata": {},
     "output_type": "execute_result"
    }
   ],
   "source": [
    "combined_test_df.shape"
   ]
  },
  {
   "cell_type": "code",
   "execution_count": 57,
   "metadata": {},
   "outputs": [],
   "source": [
    "combined_train_df.to_csv('train_data.csv', index=False)\n",
    "combined_test_df.to_csv('test_data.csv', index=False)"
   ]
  },
  {
   "cell_type": "code",
   "execution_count": null,
   "metadata": {},
   "outputs": [],
   "source": []
  }
 ],
 "metadata": {
  "kernelspec": {
   "display_name": "Python 3",
   "language": "python",
   "name": "python3"
  },
  "language_info": {
   "codemirror_mode": {
    "name": "ipython",
    "version": 3
   },
   "file_extension": ".py",
   "mimetype": "text/x-python",
   "name": "python",
   "nbconvert_exporter": "python",
   "pygments_lexer": "ipython3",
   "version": "3.11.5"
  },
  "orig_nbformat": 4
 },
 "nbformat": 4,
 "nbformat_minor": 2
}
